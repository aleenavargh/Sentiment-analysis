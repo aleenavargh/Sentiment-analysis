{
  "cells": [
    {
      "cell_type": "code",
      "execution_count": 3,
      "id": "63401dfd",
      "metadata": {
        "papermill": {
          "duration": 41.53707,
          "end_time": "2024-01-08T20:47:28.931652",
          "exception": false,
          "start_time": "2024-01-08T20:46:47.394582",
          "status": "completed"
        },
        "tags": [],
        "colab": {
          "base_uri": "https://localhost:8080/"
        },
        "id": "63401dfd",
        "outputId": "8a442c3b-1a9c-4057-c635-679dcf56fc8a"
      },
      "outputs": [
        {
          "output_type": "stream",
          "name": "stdout",
          "text": [
            "Requirement already satisfied: nltk in /usr/local/lib/python3.10/dist-packages (3.8.1)\n",
            "Requirement already satisfied: click in /usr/local/lib/python3.10/dist-packages (from nltk) (8.1.7)\n",
            "Requirement already satisfied: joblib in /usr/local/lib/python3.10/dist-packages (from nltk) (1.4.2)\n",
            "Requirement already satisfied: regex>=2021.8.3 in /usr/local/lib/python3.10/dist-packages (from nltk) (2024.5.15)\n",
            "Requirement already satisfied: tqdm in /usr/local/lib/python3.10/dist-packages (from nltk) (4.66.5)\n",
            "Collecting twython\n",
            "  Downloading twython-3.9.1-py3-none-any.whl.metadata (20 kB)\n",
            "Requirement already satisfied: requests>=2.1.0 in /usr/local/lib/python3.10/dist-packages (from twython) (2.32.3)\n",
            "Requirement already satisfied: requests-oauthlib>=0.4.0 in /usr/local/lib/python3.10/dist-packages (from twython) (1.3.1)\n",
            "Requirement already satisfied: charset-normalizer<4,>=2 in /usr/local/lib/python3.10/dist-packages (from requests>=2.1.0->twython) (3.3.2)\n",
            "Requirement already satisfied: idna<4,>=2.5 in /usr/local/lib/python3.10/dist-packages (from requests>=2.1.0->twython) (3.7)\n",
            "Requirement already satisfied: urllib3<3,>=1.21.1 in /usr/local/lib/python3.10/dist-packages (from requests>=2.1.0->twython) (2.0.7)\n",
            "Requirement already satisfied: certifi>=2017.4.17 in /usr/local/lib/python3.10/dist-packages (from requests>=2.1.0->twython) (2024.7.4)\n",
            "Requirement already satisfied: oauthlib>=3.0.0 in /usr/local/lib/python3.10/dist-packages (from requests-oauthlib>=0.4.0->twython) (3.2.2)\n",
            "Downloading twython-3.9.1-py3-none-any.whl (33 kB)\n",
            "Installing collected packages: twython\n",
            "Successfully installed twython-3.9.1\n",
            "Requirement already satisfied: textblob in /usr/local/lib/python3.10/dist-packages (0.17.1)\n",
            "Requirement already satisfied: nltk>=3.1 in /usr/local/lib/python3.10/dist-packages (from textblob) (3.8.1)\n",
            "Requirement already satisfied: click in /usr/local/lib/python3.10/dist-packages (from nltk>=3.1->textblob) (8.1.7)\n",
            "Requirement already satisfied: joblib in /usr/local/lib/python3.10/dist-packages (from nltk>=3.1->textblob) (1.4.2)\n",
            "Requirement already satisfied: regex>=2021.8.3 in /usr/local/lib/python3.10/dist-packages (from nltk>=3.1->textblob) (2024.5.15)\n",
            "Requirement already satisfied: tqdm in /usr/local/lib/python3.10/dist-packages (from nltk>=3.1->textblob) (4.66.5)\n",
            "Requirement already satisfied: wordcloud in /usr/local/lib/python3.10/dist-packages (1.9.3)\n",
            "Requirement already satisfied: numpy>=1.6.1 in /usr/local/lib/python3.10/dist-packages (from wordcloud) (1.26.4)\n",
            "Requirement already satisfied: pillow in /usr/local/lib/python3.10/dist-packages (from wordcloud) (9.4.0)\n",
            "Requirement already satisfied: matplotlib in /usr/local/lib/python3.10/dist-packages (from wordcloud) (3.7.1)\n",
            "Requirement already satisfied: contourpy>=1.0.1 in /usr/local/lib/python3.10/dist-packages (from matplotlib->wordcloud) (1.2.1)\n",
            "Requirement already satisfied: cycler>=0.10 in /usr/local/lib/python3.10/dist-packages (from matplotlib->wordcloud) (0.12.1)\n",
            "Requirement already satisfied: fonttools>=4.22.0 in /usr/local/lib/python3.10/dist-packages (from matplotlib->wordcloud) (4.53.1)\n",
            "Requirement already satisfied: kiwisolver>=1.0.1 in /usr/local/lib/python3.10/dist-packages (from matplotlib->wordcloud) (1.4.5)\n",
            "Requirement already satisfied: packaging>=20.0 in /usr/local/lib/python3.10/dist-packages (from matplotlib->wordcloud) (24.1)\n",
            "Requirement already satisfied: pyparsing>=2.3.1 in /usr/local/lib/python3.10/dist-packages (from matplotlib->wordcloud) (3.1.2)\n",
            "Requirement already satisfied: python-dateutil>=2.7 in /usr/local/lib/python3.10/dist-packages (from matplotlib->wordcloud) (2.8.2)\n",
            "Requirement already satisfied: six>=1.5 in /usr/local/lib/python3.10/dist-packages (from python-dateutil>=2.7->matplotlib->wordcloud) (1.16.0)\n"
          ]
        }
      ],
      "source": [
        "!pip install nltk\n",
        "!pip install twython\n",
        "!pip install textblob\n",
        "!pip install wordcloud"
      ]
    },
    {
      "cell_type": "code",
      "execution_count": 4,
      "id": "8582ce2c",
      "metadata": {
        "papermill": {
          "duration": 2.679581,
          "end_time": "2024-01-08T20:47:32.284544",
          "exception": false,
          "start_time": "2024-01-08T20:47:29.604963",
          "status": "completed"
        },
        "tags": [],
        "id": "8582ce2c"
      },
      "outputs": [],
      "source": [
        "from warnings import filterwarnings\n",
        "import matplotlib.pyplot as plt\n",
        "import numpy as np\n",
        "import pandas as pd\n",
        "import nltk\n",
        "from PIL import Image\n",
        "from nltk.corpus import stopwords\n",
        "from nltk.sentiment import SentimentIntensityAnalyzer\n",
        "from sklearn.feature_extraction.text import CountVectorizer\n",
        "from sklearn.feature_extraction.text import TfidfVectorizer\n",
        "from sklearn.ensemble import RandomForestClassifier\n",
        "from sklearn.linear_model import LogisticRegression\n",
        "from sklearn.model_selection import cross_val_score, GridSearchCV, cross_validate\n",
        "from sklearn.preprocessing import LabelEncoder\n",
        "from textblob import Word, TextBlob\n",
        "from wordcloud import WordCloud"
      ]
    },
    {
      "cell_type": "code",
      "execution_count": 5,
      "id": "a8a0397b",
      "metadata": {
        "papermill": {
          "duration": 0.033915,
          "end_time": "2024-01-08T20:47:32.392488",
          "exception": false,
          "start_time": "2024-01-08T20:47:32.358573",
          "status": "completed"
        },
        "tags": [],
        "id": "a8a0397b"
      },
      "outputs": [],
      "source": [
        "filterwarnings('ignore')\n",
        "pd.set_option('display.max_columns', None)\n",
        "pd.set_option('display.width', 200)\n",
        "pd.set_option('display.float_format', lambda x: '%.2f' % x)"
      ]
    },
    {
      "cell_type": "code",
      "execution_count": 7,
      "id": "037a47b7",
      "metadata": {
        "papermill": {
          "duration": 0.093299,
          "end_time": "2024-01-08T20:47:32.560857",
          "exception": false,
          "start_time": "2024-01-08T20:47:32.467558",
          "status": "completed"
        },
        "tags": [],
        "id": "037a47b7"
      },
      "outputs": [],
      "source": [
        "# Loading data set\n",
        "\n",
        "df = pd.read_csv(\"/content/amazon_reviews.csv\")"
      ]
    },
    {
      "cell_type": "code",
      "execution_count": 8,
      "id": "f938b11a",
      "metadata": {
        "papermill": {
          "duration": 0.052542,
          "end_time": "2024-01-08T20:47:32.637985",
          "exception": false,
          "start_time": "2024-01-08T20:47:32.585443",
          "status": "completed"
        },
        "tags": [],
        "colab": {
          "base_uri": "https://localhost:8080/",
          "height": 276
        },
        "id": "f938b11a",
        "outputId": "8911b7f8-b3ee-4ed4-a61d-2891442ea332"
      },
      "outputs": [
        {
          "output_type": "execute_result",
          "data": {
            "text/plain": [
              "       reviewerID        asin  reviewerName helpful                                         reviewText  overall                                 summary  unixReviewTime  reviewTime  day_diff  \\\n",
              "0  A3SBTW3WS4IQSN  B007WTAJTO           NaN  [0, 0]                                         No issues.     4.00                              Four Stars      1406073600  2014-07-23       138   \n",
              "1  A18K1ODH1I2MVB  B007WTAJTO          0mie  [0, 0]  Purchased this for my device, it worked as adv...     5.00                           MOAR SPACE!!!      1382659200  2013-10-25       409   \n",
              "2  A2FII3I2MBMUIA  B007WTAJTO           1K3  [0, 0]  it works as expected. I should have sprung for...     4.00               nothing to really say....      1356220800  2012-12-23       715   \n",
              "3   A3H99DFEG68SR  B007WTAJTO           1m2  [0, 0]  This think has worked out great.Had a diff. br...     5.00  Great buy at this price!!!  *** UPDATE      1384992000  2013-11-21       382   \n",
              "4  A375ZM4U047O79  B007WTAJTO  2&amp;1/2Men  [0, 0]  Bought it with Retail Packaging, arrived legit...     5.00                        best deal around      1373673600  2013-07-13       513   \n",
              "\n",
              "   helpful_yes  total_vote  \n",
              "0            0           0  \n",
              "1            0           0  \n",
              "2            0           0  \n",
              "3            0           0  \n",
              "4            0           0  "
            ],
            "text/html": [
              "\n",
              "  <div id=\"df-675a7608-2789-4974-bfe6-aa13922b0f93\" class=\"colab-df-container\">\n",
              "    <div>\n",
              "<style scoped>\n",
              "    .dataframe tbody tr th:only-of-type {\n",
              "        vertical-align: middle;\n",
              "    }\n",
              "\n",
              "    .dataframe tbody tr th {\n",
              "        vertical-align: top;\n",
              "    }\n",
              "\n",
              "    .dataframe thead th {\n",
              "        text-align: right;\n",
              "    }\n",
              "</style>\n",
              "<table border=\"1\" class=\"dataframe\">\n",
              "  <thead>\n",
              "    <tr style=\"text-align: right;\">\n",
              "      <th></th>\n",
              "      <th>reviewerID</th>\n",
              "      <th>asin</th>\n",
              "      <th>reviewerName</th>\n",
              "      <th>helpful</th>\n",
              "      <th>reviewText</th>\n",
              "      <th>overall</th>\n",
              "      <th>summary</th>\n",
              "      <th>unixReviewTime</th>\n",
              "      <th>reviewTime</th>\n",
              "      <th>day_diff</th>\n",
              "      <th>helpful_yes</th>\n",
              "      <th>total_vote</th>\n",
              "    </tr>\n",
              "  </thead>\n",
              "  <tbody>\n",
              "    <tr>\n",
              "      <th>0</th>\n",
              "      <td>A3SBTW3WS4IQSN</td>\n",
              "      <td>B007WTAJTO</td>\n",
              "      <td>NaN</td>\n",
              "      <td>[0, 0]</td>\n",
              "      <td>No issues.</td>\n",
              "      <td>4.00</td>\n",
              "      <td>Four Stars</td>\n",
              "      <td>1406073600</td>\n",
              "      <td>2014-07-23</td>\n",
              "      <td>138</td>\n",
              "      <td>0</td>\n",
              "      <td>0</td>\n",
              "    </tr>\n",
              "    <tr>\n",
              "      <th>1</th>\n",
              "      <td>A18K1ODH1I2MVB</td>\n",
              "      <td>B007WTAJTO</td>\n",
              "      <td>0mie</td>\n",
              "      <td>[0, 0]</td>\n",
              "      <td>Purchased this for my device, it worked as adv...</td>\n",
              "      <td>5.00</td>\n",
              "      <td>MOAR SPACE!!!</td>\n",
              "      <td>1382659200</td>\n",
              "      <td>2013-10-25</td>\n",
              "      <td>409</td>\n",
              "      <td>0</td>\n",
              "      <td>0</td>\n",
              "    </tr>\n",
              "    <tr>\n",
              "      <th>2</th>\n",
              "      <td>A2FII3I2MBMUIA</td>\n",
              "      <td>B007WTAJTO</td>\n",
              "      <td>1K3</td>\n",
              "      <td>[0, 0]</td>\n",
              "      <td>it works as expected. I should have sprung for...</td>\n",
              "      <td>4.00</td>\n",
              "      <td>nothing to really say....</td>\n",
              "      <td>1356220800</td>\n",
              "      <td>2012-12-23</td>\n",
              "      <td>715</td>\n",
              "      <td>0</td>\n",
              "      <td>0</td>\n",
              "    </tr>\n",
              "    <tr>\n",
              "      <th>3</th>\n",
              "      <td>A3H99DFEG68SR</td>\n",
              "      <td>B007WTAJTO</td>\n",
              "      <td>1m2</td>\n",
              "      <td>[0, 0]</td>\n",
              "      <td>This think has worked out great.Had a diff. br...</td>\n",
              "      <td>5.00</td>\n",
              "      <td>Great buy at this price!!!  *** UPDATE</td>\n",
              "      <td>1384992000</td>\n",
              "      <td>2013-11-21</td>\n",
              "      <td>382</td>\n",
              "      <td>0</td>\n",
              "      <td>0</td>\n",
              "    </tr>\n",
              "    <tr>\n",
              "      <th>4</th>\n",
              "      <td>A375ZM4U047O79</td>\n",
              "      <td>B007WTAJTO</td>\n",
              "      <td>2&amp;amp;1/2Men</td>\n",
              "      <td>[0, 0]</td>\n",
              "      <td>Bought it with Retail Packaging, arrived legit...</td>\n",
              "      <td>5.00</td>\n",
              "      <td>best deal around</td>\n",
              "      <td>1373673600</td>\n",
              "      <td>2013-07-13</td>\n",
              "      <td>513</td>\n",
              "      <td>0</td>\n",
              "      <td>0</td>\n",
              "    </tr>\n",
              "  </tbody>\n",
              "</table>\n",
              "</div>\n",
              "    <div class=\"colab-df-buttons\">\n",
              "\n",
              "  <div class=\"colab-df-container\">\n",
              "    <button class=\"colab-df-convert\" onclick=\"convertToInteractive('df-675a7608-2789-4974-bfe6-aa13922b0f93')\"\n",
              "            title=\"Convert this dataframe to an interactive table.\"\n",
              "            style=\"display:none;\">\n",
              "\n",
              "  <svg xmlns=\"http://www.w3.org/2000/svg\" height=\"24px\" viewBox=\"0 -960 960 960\">\n",
              "    <path d=\"M120-120v-720h720v720H120Zm60-500h600v-160H180v160Zm220 220h160v-160H400v160Zm0 220h160v-160H400v160ZM180-400h160v-160H180v160Zm440 0h160v-160H620v160ZM180-180h160v-160H180v160Zm440 0h160v-160H620v160Z\"/>\n",
              "  </svg>\n",
              "    </button>\n",
              "\n",
              "  <style>\n",
              "    .colab-df-container {\n",
              "      display:flex;\n",
              "      gap: 12px;\n",
              "    }\n",
              "\n",
              "    .colab-df-convert {\n",
              "      background-color: #E8F0FE;\n",
              "      border: none;\n",
              "      border-radius: 50%;\n",
              "      cursor: pointer;\n",
              "      display: none;\n",
              "      fill: #1967D2;\n",
              "      height: 32px;\n",
              "      padding: 0 0 0 0;\n",
              "      width: 32px;\n",
              "    }\n",
              "\n",
              "    .colab-df-convert:hover {\n",
              "      background-color: #E2EBFA;\n",
              "      box-shadow: 0px 1px 2px rgba(60, 64, 67, 0.3), 0px 1px 3px 1px rgba(60, 64, 67, 0.15);\n",
              "      fill: #174EA6;\n",
              "    }\n",
              "\n",
              "    .colab-df-buttons div {\n",
              "      margin-bottom: 4px;\n",
              "    }\n",
              "\n",
              "    [theme=dark] .colab-df-convert {\n",
              "      background-color: #3B4455;\n",
              "      fill: #D2E3FC;\n",
              "    }\n",
              "\n",
              "    [theme=dark] .colab-df-convert:hover {\n",
              "      background-color: #434B5C;\n",
              "      box-shadow: 0px 1px 3px 1px rgba(0, 0, 0, 0.15);\n",
              "      filter: drop-shadow(0px 1px 2px rgba(0, 0, 0, 0.3));\n",
              "      fill: #FFFFFF;\n",
              "    }\n",
              "  </style>\n",
              "\n",
              "    <script>\n",
              "      const buttonEl =\n",
              "        document.querySelector('#df-675a7608-2789-4974-bfe6-aa13922b0f93 button.colab-df-convert');\n",
              "      buttonEl.style.display =\n",
              "        google.colab.kernel.accessAllowed ? 'block' : 'none';\n",
              "\n",
              "      async function convertToInteractive(key) {\n",
              "        const element = document.querySelector('#df-675a7608-2789-4974-bfe6-aa13922b0f93');\n",
              "        const dataTable =\n",
              "          await google.colab.kernel.invokeFunction('convertToInteractive',\n",
              "                                                    [key], {});\n",
              "        if (!dataTable) return;\n",
              "\n",
              "        const docLinkHtml = 'Like what you see? Visit the ' +\n",
              "          '<a target=\"_blank\" href=https://colab.research.google.com/notebooks/data_table.ipynb>data table notebook</a>'\n",
              "          + ' to learn more about interactive tables.';\n",
              "        element.innerHTML = '';\n",
              "        dataTable['output_type'] = 'display_data';\n",
              "        await google.colab.output.renderOutput(dataTable, element);\n",
              "        const docLink = document.createElement('div');\n",
              "        docLink.innerHTML = docLinkHtml;\n",
              "        element.appendChild(docLink);\n",
              "      }\n",
              "    </script>\n",
              "  </div>\n",
              "\n",
              "\n",
              "<div id=\"df-a80e13c5-0b39-44db-aa2f-524ce0ed594a\">\n",
              "  <button class=\"colab-df-quickchart\" onclick=\"quickchart('df-a80e13c5-0b39-44db-aa2f-524ce0ed594a')\"\n",
              "            title=\"Suggest charts\"\n",
              "            style=\"display:none;\">\n",
              "\n",
              "<svg xmlns=\"http://www.w3.org/2000/svg\" height=\"24px\"viewBox=\"0 0 24 24\"\n",
              "     width=\"24px\">\n",
              "    <g>\n",
              "        <path d=\"M19 3H5c-1.1 0-2 .9-2 2v14c0 1.1.9 2 2 2h14c1.1 0 2-.9 2-2V5c0-1.1-.9-2-2-2zM9 17H7v-7h2v7zm4 0h-2V7h2v10zm4 0h-2v-4h2v4z\"/>\n",
              "    </g>\n",
              "</svg>\n",
              "  </button>\n",
              "\n",
              "<style>\n",
              "  .colab-df-quickchart {\n",
              "      --bg-color: #E8F0FE;\n",
              "      --fill-color: #1967D2;\n",
              "      --hover-bg-color: #E2EBFA;\n",
              "      --hover-fill-color: #174EA6;\n",
              "      --disabled-fill-color: #AAA;\n",
              "      --disabled-bg-color: #DDD;\n",
              "  }\n",
              "\n",
              "  [theme=dark] .colab-df-quickchart {\n",
              "      --bg-color: #3B4455;\n",
              "      --fill-color: #D2E3FC;\n",
              "      --hover-bg-color: #434B5C;\n",
              "      --hover-fill-color: #FFFFFF;\n",
              "      --disabled-bg-color: #3B4455;\n",
              "      --disabled-fill-color: #666;\n",
              "  }\n",
              "\n",
              "  .colab-df-quickchart {\n",
              "    background-color: var(--bg-color);\n",
              "    border: none;\n",
              "    border-radius: 50%;\n",
              "    cursor: pointer;\n",
              "    display: none;\n",
              "    fill: var(--fill-color);\n",
              "    height: 32px;\n",
              "    padding: 0;\n",
              "    width: 32px;\n",
              "  }\n",
              "\n",
              "  .colab-df-quickchart:hover {\n",
              "    background-color: var(--hover-bg-color);\n",
              "    box-shadow: 0 1px 2px rgba(60, 64, 67, 0.3), 0 1px 3px 1px rgba(60, 64, 67, 0.15);\n",
              "    fill: var(--button-hover-fill-color);\n",
              "  }\n",
              "\n",
              "  .colab-df-quickchart-complete:disabled,\n",
              "  .colab-df-quickchart-complete:disabled:hover {\n",
              "    background-color: var(--disabled-bg-color);\n",
              "    fill: var(--disabled-fill-color);\n",
              "    box-shadow: none;\n",
              "  }\n",
              "\n",
              "  .colab-df-spinner {\n",
              "    border: 2px solid var(--fill-color);\n",
              "    border-color: transparent;\n",
              "    border-bottom-color: var(--fill-color);\n",
              "    animation:\n",
              "      spin 1s steps(1) infinite;\n",
              "  }\n",
              "\n",
              "  @keyframes spin {\n",
              "    0% {\n",
              "      border-color: transparent;\n",
              "      border-bottom-color: var(--fill-color);\n",
              "      border-left-color: var(--fill-color);\n",
              "    }\n",
              "    20% {\n",
              "      border-color: transparent;\n",
              "      border-left-color: var(--fill-color);\n",
              "      border-top-color: var(--fill-color);\n",
              "    }\n",
              "    30% {\n",
              "      border-color: transparent;\n",
              "      border-left-color: var(--fill-color);\n",
              "      border-top-color: var(--fill-color);\n",
              "      border-right-color: var(--fill-color);\n",
              "    }\n",
              "    40% {\n",
              "      border-color: transparent;\n",
              "      border-right-color: var(--fill-color);\n",
              "      border-top-color: var(--fill-color);\n",
              "    }\n",
              "    60% {\n",
              "      border-color: transparent;\n",
              "      border-right-color: var(--fill-color);\n",
              "    }\n",
              "    80% {\n",
              "      border-color: transparent;\n",
              "      border-right-color: var(--fill-color);\n",
              "      border-bottom-color: var(--fill-color);\n",
              "    }\n",
              "    90% {\n",
              "      border-color: transparent;\n",
              "      border-bottom-color: var(--fill-color);\n",
              "    }\n",
              "  }\n",
              "</style>\n",
              "\n",
              "  <script>\n",
              "    async function quickchart(key) {\n",
              "      const quickchartButtonEl =\n",
              "        document.querySelector('#' + key + ' button');\n",
              "      quickchartButtonEl.disabled = true;  // To prevent multiple clicks.\n",
              "      quickchartButtonEl.classList.add('colab-df-spinner');\n",
              "      try {\n",
              "        const charts = await google.colab.kernel.invokeFunction(\n",
              "            'suggestCharts', [key], {});\n",
              "      } catch (error) {\n",
              "        console.error('Error during call to suggestCharts:', error);\n",
              "      }\n",
              "      quickchartButtonEl.classList.remove('colab-df-spinner');\n",
              "      quickchartButtonEl.classList.add('colab-df-quickchart-complete');\n",
              "    }\n",
              "    (() => {\n",
              "      let quickchartButtonEl =\n",
              "        document.querySelector('#df-a80e13c5-0b39-44db-aa2f-524ce0ed594a button');\n",
              "      quickchartButtonEl.style.display =\n",
              "        google.colab.kernel.accessAllowed ? 'block' : 'none';\n",
              "    })();\n",
              "  </script>\n",
              "</div>\n",
              "\n",
              "    </div>\n",
              "  </div>\n"
            ],
            "application/vnd.google.colaboratory.intrinsic+json": {
              "type": "dataframe",
              "variable_name": "df",
              "summary": "{\n  \"name\": \"df\",\n  \"rows\": 4915,\n  \"fields\": [\n    {\n      \"column\": \"reviewerID\",\n      \"properties\": {\n        \"dtype\": \"string\",\n        \"num_unique_values\": 4915,\n        \"samples\": [\n          \"A3V5DNLW7DPMUA\",\n          \"A1F08OEM2LEJLK\",\n          \"AOOJ8Y18T3DGM\"\n        ],\n        \"semantic_type\": \"\",\n        \"description\": \"\"\n      }\n    },\n    {\n      \"column\": \"asin\",\n      \"properties\": {\n        \"dtype\": \"category\",\n        \"num_unique_values\": 1,\n        \"samples\": [\n          \"B007WTAJTO\"\n        ],\n        \"semantic_type\": \"\",\n        \"description\": \"\"\n      }\n    },\n    {\n      \"column\": \"reviewerName\",\n      \"properties\": {\n        \"dtype\": \"string\",\n        \"num_unique_values\": 4594,\n        \"samples\": [\n          \"nta699\"\n        ],\n        \"semantic_type\": \"\",\n        \"description\": \"\"\n      }\n    },\n    {\n      \"column\": \"helpful\",\n      \"properties\": {\n        \"dtype\": \"category\",\n        \"num_unique_values\": 42,\n        \"samples\": [\n          \"[1952, 2020]\"\n        ],\n        \"semantic_type\": \"\",\n        \"description\": \"\"\n      }\n    },\n    {\n      \"column\": \"reviewText\",\n      \"properties\": {\n        \"dtype\": \"string\",\n        \"num_unique_values\": 4912,\n        \"samples\": [\n          \"Bought this for extended memory in a Galaxy S III.  Great price. Easy to install and the phone recognized it instantly. Does what its supposed to do.\"\n        ],\n        \"semantic_type\": \"\",\n        \"description\": \"\"\n      }\n    },\n    {\n      \"column\": \"overall\",\n      \"properties\": {\n        \"dtype\": \"number\",\n        \"std\": 0.9968451383820338,\n        \"min\": 1.0,\n        \"max\": 5.0,\n        \"num_unique_values\": 5,\n        \"samples\": [\n          5.0\n        ],\n        \"semantic_type\": \"\",\n        \"description\": \"\"\n      }\n    },\n    {\n      \"column\": \"summary\",\n      \"properties\": {\n        \"dtype\": \"string\",\n        \"num_unique_values\": 3885,\n        \"samples\": [\n          \"NICE!!!\"\n        ],\n        \"semantic_type\": \"\",\n        \"description\": \"\"\n      }\n    },\n    {\n      \"column\": \"unixReviewTime\",\n      \"properties\": {\n        \"dtype\": \"number\",\n        \"std\": 15818574,\n        \"min\": 1339200000,\n        \"max\": 1406073600,\n        \"num_unique_values\": 690,\n        \"samples\": [\n          1386028800\n        ],\n        \"semantic_type\": \"\",\n        \"description\": \"\"\n      }\n    },\n    {\n      \"column\": \"reviewTime\",\n      \"properties\": {\n        \"dtype\": \"object\",\n        \"num_unique_values\": 690,\n        \"samples\": [\n          \"2013-03-12\"\n        ],\n        \"semantic_type\": \"\",\n        \"description\": \"\"\n      }\n    },\n    {\n      \"column\": \"day_diff\",\n      \"properties\": {\n        \"dtype\": \"number\",\n        \"std\": 209,\n        \"min\": 1,\n        \"max\": 1064,\n        \"num_unique_values\": 690,\n        \"samples\": [\n          636\n        ],\n        \"semantic_type\": \"\",\n        \"description\": \"\"\n      }\n    },\n    {\n      \"column\": \"helpful_yes\",\n      \"properties\": {\n        \"dtype\": \"number\",\n        \"std\": 41,\n        \"min\": 0,\n        \"max\": 1952,\n        \"num_unique_values\": 23,\n        \"samples\": [\n          1428\n        ],\n        \"semantic_type\": \"\",\n        \"description\": \"\"\n      }\n    },\n    {\n      \"column\": \"total_vote\",\n      \"properties\": {\n        \"dtype\": \"number\",\n        \"std\": 44,\n        \"min\": 0,\n        \"max\": 2020,\n        \"num_unique_values\": 26,\n        \"samples\": [\n          495\n        ],\n        \"semantic_type\": \"\",\n        \"description\": \"\"\n      }\n    }\n  ]\n}"
            }
          },
          "metadata": {},
          "execution_count": 8
        }
      ],
      "source": [
        "df.head()"
      ]
    },
    {
      "source": [
        "# @title overall\n",
        "\n",
        "from matplotlib import pyplot as plt\n",
        "df['overall'].plot(kind='hist', bins=20, title='overall')\n",
        "plt.gca().spines[['top', 'right',]].set_visible(False)"
      ],
      "cell_type": "code",
      "execution_count": 9,
      "outputs": [
        {
          "output_type": "display_data",
          "data": {
            "text/plain": [
              "<Figure size 640x480 with 1 Axes>"
            ],
            "image/png": "[encoded data removed]"
          },
          "metadata": {}
        }
      ],
      "metadata": {
        "colab": {
          "base_uri": "https://localhost:8080/",
          "height": 452
        },
        "id": "6Aa1SGF9G-_K",
        "outputId": "4ac357d3-5723-4bd4-f313-0f1b91f56461"
      },
      "id": "6Aa1SGF9G-_K"
    },
    {
      "source": [
        "# @title helpful_yes\n",
        "\n",
        "from matplotlib import pyplot as plt\n",
        "df['helpful_yes'].plot(kind='line', figsize=(8, 4), title='helpful_yes')\n",
        "plt.gca().spines[['top', 'right']].set_visible(False)"
      ],
      "cell_type": "code",
      "execution_count": 10,
      "outputs": [
        {
          "output_type": "display_data",
          "data": {
            "text/plain": [
              "<Figure size 800x400 with 1 Axes>"
            ],
            "image/png": "[encoded data removed]"
          },
          "metadata": {}
        }
      ],
      "metadata": {
        "colab": {
          "base_uri": "https://localhost:8080/",
          "height": 391
        },
        "id": "Bp-5GsNuAcqr",
        "outputId": "7ca5b380-a27b-42dc-8b52-51205570d6b7"
      },
      "id": "Bp-5GsNuAcqr"
    },
    {
      "source": [
        "# @title overall\n",
        "\n",
        "from matplotlib import pyplot as plt\n",
        "df['overall'].plot(kind='hist', bins=20, title='overall')\n",
        "plt.gca().spines[['top', 'right',]].set_visible(False)"
      ],
      "cell_type": "code",
      "execution_count": 11,
      "outputs": [
        {
          "output_type": "display_data",
          "data": {
            "text/plain": [
              "<Figure size 640x480 with 1 Axes>"
            ],
            "image/png": "[encoded data removed]"
          },
          "metadata": {}
        }
      ],
      "metadata": {
        "colab": {
          "base_uri": "https://localhost:8080/",
          "height": 452
        },
        "id": "rjxq2io3ALR9",
        "outputId": "80d485eb-4c73-4081-a973-e4cc0e868a88"
      },
      "id": "rjxq2io3ALR9"
    },
    {
      "cell_type": "code",
      "execution_count": 12,
      "id": "a5c1fd99",
      "metadata": {
        "papermill": {
          "duration": 0.036992,
          "end_time": "2024-01-08T20:47:32.801320",
          "exception": false,
          "start_time": "2024-01-08T20:47:32.764328",
          "status": "completed"
        },
        "tags": [],
        "colab": {
          "base_uri": "https://localhost:8080/",
          "height": 458
        },
        "id": "a5c1fd99",
        "outputId": "0d4b67e4-d9d8-4776-a03e-f7a92e5974fc"
      },
      "outputs": [
        {
          "output_type": "execute_result",
          "data": {
            "text/plain": [
              "0                                              No issues.\n",
              "1       Purchased this for my device, it worked as adv...\n",
              "2       it works as expected. I should have sprung for...\n",
              "3       This think has worked out great.Had a diff. br...\n",
              "4       Bought it with Retail Packaging, arrived legit...\n",
              "                              ...                        \n",
              "4910    I bought this Sandisk 16GB Class 10 to use wit...\n",
              "4911    Used this for extending the capabilities of my...\n",
              "4912    Great card that is very fast and reliable. It ...\n",
              "4913    Good amount of space for the stuff I want to d...\n",
              "4914    I've heard bad things about this 64gb Micro SD...\n",
              "Name: reviewText, Length: 4915, dtype: object"
            ],
            "text/html": [
              "<div>\n",
              "<style scoped>\n",
              "    .dataframe tbody tr th:only-of-type {\n",
              "        vertical-align: middle;\n",
              "    }\n",
              "\n",
              "    .dataframe tbody tr th {\n",
              "        vertical-align: top;\n",
              "    }\n",
              "\n",
              "    .dataframe thead th {\n",
              "        text-align: right;\n",
              "    }\n",
              "</style>\n",
              "<table border=\"1\" class=\"dataframe\">\n",
              "  <thead>\n",
              "    <tr style=\"text-align: right;\">\n",
              "      <th></th>\n",
              "      <th>reviewText</th>\n",
              "    </tr>\n",
              "  </thead>\n",
              "  <tbody>\n",
              "    <tr>\n",
              "      <th>0</th>\n",
              "      <td>No issues.</td>\n",
              "    </tr>\n",
              "    <tr>\n",
              "      <th>1</th>\n",
              "      <td>Purchased this for my device, it worked as adv...</td>\n",
              "    </tr>\n",
              "    <tr>\n",
              "      <th>2</th>\n",
              "      <td>it works as expected. I should have sprung for...</td>\n",
              "    </tr>\n",
              "    <tr>\n",
              "      <th>3</th>\n",
              "      <td>This think has worked out great.Had a diff. br...</td>\n",
              "    </tr>\n",
              "    <tr>\n",
              "      <th>4</th>\n",
              "      <td>Bought it with Retail Packaging, arrived legit...</td>\n",
              "    </tr>\n",
              "    <tr>\n",
              "      <th>...</th>\n",
              "      <td>...</td>\n",
              "    </tr>\n",
              "    <tr>\n",
              "      <th>4910</th>\n",
              "      <td>I bought this Sandisk 16GB Class 10 to use wit...</td>\n",
              "    </tr>\n",
              "    <tr>\n",
              "      <th>4911</th>\n",
              "      <td>Used this for extending the capabilities of my...</td>\n",
              "    </tr>\n",
              "    <tr>\n",
              "      <th>4912</th>\n",
              "      <td>Great card that is very fast and reliable. It ...</td>\n",
              "    </tr>\n",
              "    <tr>\n",
              "      <th>4913</th>\n",
              "      <td>Good amount of space for the stuff I want to d...</td>\n",
              "    </tr>\n",
              "    <tr>\n",
              "      <th>4914</th>\n",
              "      <td>I've heard bad things about this 64gb Micro SD...</td>\n",
              "    </tr>\n",
              "  </tbody>\n",
              "</table>\n",
              "<p>4915 rows × 1 columns</p>\n",
              "</div><br><label><b>dtype:</b> object</label>"
            ]
          },
          "metadata": {},
          "execution_count": 12
        }
      ],
      "source": [
        "df['reviewText']"
      ]
    },
    {
      "cell_type": "code",
      "execution_count": 13,
      "id": "a0424b31",
      "metadata": {
        "papermill": {
          "duration": 0.037876,
          "end_time": "2024-01-08T20:47:32.865464",
          "exception": false,
          "start_time": "2024-01-08T20:47:32.827588",
          "status": "completed"
        },
        "tags": [],
        "id": "a0424b31"
      },
      "outputs": [],
      "source": [
        "df['reviewText'] = df['reviewText'].str.lower()"
      ]
    },
    {
      "cell_type": "code",
      "execution_count": 14,
      "id": "632c30f8",
      "metadata": {
        "papermill": {
          "duration": 0.038112,
          "end_time": "2024-01-08T20:47:32.929122",
          "exception": false,
          "start_time": "2024-01-08T20:47:32.891010",
          "status": "completed"
        },
        "tags": [],
        "colab": {
          "base_uri": "https://localhost:8080/",
          "height": 458
        },
        "id": "632c30f8",
        "outputId": "08c07c3c-f091-4583-f98f-be87540b540b"
      },
      "outputs": [
        {
          "output_type": "execute_result",
          "data": {
            "text/plain": [
              "0                                              no issues.\n",
              "1       purchased this for my device, it worked as adv...\n",
              "2       it works as expected. i should have sprung for...\n",
              "3       this think has worked out great.had a diff. br...\n",
              "4       bought it with retail packaging, arrived legit...\n",
              "                              ...                        \n",
              "4910    i bought this sandisk 16gb class 10 to use wit...\n",
              "4911    used this for extending the capabilities of my...\n",
              "4912    great card that is very fast and reliable. it ...\n",
              "4913    good amount of space for the stuff i want to d...\n",
              "4914    i've heard bad things about this 64gb micro sd...\n",
              "Name: reviewText, Length: 4915, dtype: object"
            ],
            "text/html": [
              "<div>\n",
              "<style scoped>\n",
              "    .dataframe tbody tr th:only-of-type {\n",
              "        vertical-align: middle;\n",
              "    }\n",
              "\n",
              "    .dataframe tbody tr th {\n",
              "        vertical-align: top;\n",
              "    }\n",
              "\n",
              "    .dataframe thead th {\n",
              "        text-align: right;\n",
              "    }\n",
              "</style>\n",
              "<table border=\"1\" class=\"dataframe\">\n",
              "  <thead>\n",
              "    <tr style=\"text-align: right;\">\n",
              "      <th></th>\n",
              "      <th>reviewText</th>\n",
              "    </tr>\n",
              "  </thead>\n",
              "  <tbody>\n",
              "    <tr>\n",
              "      <th>0</th>\n",
              "      <td>no issues.</td>\n",
              "    </tr>\n",
              "    <tr>\n",
              "      <th>1</th>\n",
              "      <td>purchased this for my device, it worked as adv...</td>\n",
              "    </tr>\n",
              "    <tr>\n",
              "      <th>2</th>\n",
              "      <td>it works as expected. i should have sprung for...</td>\n",
              "    </tr>\n",
              "    <tr>\n",
              "      <th>3</th>\n",
              "      <td>this think has worked out great.had a diff. br...</td>\n",
              "    </tr>\n",
              "    <tr>\n",
              "      <th>4</th>\n",
              "      <td>bought it with retail packaging, arrived legit...</td>\n",
              "    </tr>\n",
              "    <tr>\n",
              "      <th>...</th>\n",
              "      <td>...</td>\n",
              "    </tr>\n",
              "    <tr>\n",
              "      <th>4910</th>\n",
              "      <td>i bought this sandisk 16gb class 10 to use wit...</td>\n",
              "    </tr>\n",
              "    <tr>\n",
              "      <th>4911</th>\n",
              "      <td>used this for extending the capabilities of my...</td>\n",
              "    </tr>\n",
              "    <tr>\n",
              "      <th>4912</th>\n",
              "      <td>great card that is very fast and reliable. it ...</td>\n",
              "    </tr>\n",
              "    <tr>\n",
              "      <th>4913</th>\n",
              "      <td>good amount of space for the stuff i want to d...</td>\n",
              "    </tr>\n",
              "    <tr>\n",
              "      <th>4914</th>\n",
              "      <td>i've heard bad things about this 64gb micro sd...</td>\n",
              "    </tr>\n",
              "  </tbody>\n",
              "</table>\n",
              "<p>4915 rows × 1 columns</p>\n",
              "</div><br><label><b>dtype:</b> object</label>"
            ]
          },
          "metadata": {},
          "execution_count": 14
        }
      ],
      "source": [
        "df['reviewText']"
      ]
    },
    {
      "cell_type": "code",
      "execution_count": 15,
      "id": "92d56f07",
      "metadata": {
        "papermill": {
          "duration": 0.060934,
          "end_time": "2024-01-08T20:47:33.117143",
          "exception": false,
          "start_time": "2024-01-08T20:47:33.056209",
          "status": "completed"
        },
        "tags": [],
        "id": "92d56f07"
      },
      "outputs": [],
      "source": [
        "df['reviewText'] = df['reviewText'].str.replace('[^\\w\\s]', '', regex=True)"
      ]
    },
    {
      "cell_type": "code",
      "execution_count": 16,
      "id": "6cba98c5",
      "metadata": {
        "papermill": {
          "duration": 0.036125,
          "end_time": "2024-01-08T20:47:33.179419",
          "exception": false,
          "start_time": "2024-01-08T20:47:33.143294",
          "status": "completed"
        },
        "tags": [],
        "colab": {
          "base_uri": "https://localhost:8080/",
          "height": 458
        },
        "id": "6cba98c5",
        "outputId": "8bbdb682-cb0d-4049-a8d9-91fad0102f4e"
      },
      "outputs": [
        {
          "output_type": "execute_result",
          "data": {
            "text/plain": [
              "0                                               no issues\n",
              "1       purchased this for my device it worked as adve...\n",
              "2       it works as expected i should have sprung for ...\n",
              "3       this think has worked out greathad a diff bran...\n",
              "4       bought it with retail packaging arrived legit ...\n",
              "                              ...                        \n",
              "4910    i bought this sandisk 16gb class 10 to use wit...\n",
              "4911    used this for extending the capabilities of my...\n",
              "4912    great card that is very fast and reliable it c...\n",
              "4913    good amount of space for the stuff i want to d...\n",
              "4914    ive heard bad things about this 64gb micro sd ...\n",
              "Name: reviewText, Length: 4915, dtype: object"
            ],
            "text/html": [
              "<div>\n",
              "<style scoped>\n",
              "    .dataframe tbody tr th:only-of-type {\n",
              "        vertical-align: middle;\n",
              "    }\n",
              "\n",
              "    .dataframe tbody tr th {\n",
              "        vertical-align: top;\n",
              "    }\n",
              "\n",
              "    .dataframe thead th {\n",
              "        text-align: right;\n",
              "    }\n",
              "</style>\n",
              "<table border=\"1\" class=\"dataframe\">\n",
              "  <thead>\n",
              "    <tr style=\"text-align: right;\">\n",
              "      <th></th>\n",
              "      <th>reviewText</th>\n",
              "    </tr>\n",
              "  </thead>\n",
              "  <tbody>\n",
              "    <tr>\n",
              "      <th>0</th>\n",
              "      <td>no issues</td>\n",
              "    </tr>\n",
              "    <tr>\n",
              "      <th>1</th>\n",
              "      <td>purchased this for my device it worked as adve...</td>\n",
              "    </tr>\n",
              "    <tr>\n",
              "      <th>2</th>\n",
              "      <td>it works as expected i should have sprung for ...</td>\n",
              "    </tr>\n",
              "    <tr>\n",
              "      <th>3</th>\n",
              "      <td>this think has worked out greathad a diff bran...</td>\n",
              "    </tr>\n",
              "    <tr>\n",
              "      <th>4</th>\n",
              "      <td>bought it with retail packaging arrived legit ...</td>\n",
              "    </tr>\n",
              "    <tr>\n",
              "      <th>...</th>\n",
              "      <td>...</td>\n",
              "    </tr>\n",
              "    <tr>\n",
              "      <th>4910</th>\n",
              "      <td>i bought this sandisk 16gb class 10 to use wit...</td>\n",
              "    </tr>\n",
              "    <tr>\n",
              "      <th>4911</th>\n",
              "      <td>used this for extending the capabilities of my...</td>\n",
              "    </tr>\n",
              "    <tr>\n",
              "      <th>4912</th>\n",
              "      <td>great card that is very fast and reliable it c...</td>\n",
              "    </tr>\n",
              "    <tr>\n",
              "      <th>4913</th>\n",
              "      <td>good amount of space for the stuff i want to d...</td>\n",
              "    </tr>\n",
              "    <tr>\n",
              "      <th>4914</th>\n",
              "      <td>ive heard bad things about this 64gb micro sd ...</td>\n",
              "    </tr>\n",
              "  </tbody>\n",
              "</table>\n",
              "<p>4915 rows × 1 columns</p>\n",
              "</div><br><label><b>dtype:</b> object</label>"
            ]
          },
          "metadata": {},
          "execution_count": 16
        }
      ],
      "source": [
        "df['reviewText']"
      ]
    },
    {
      "cell_type": "code",
      "execution_count": 17,
      "id": "a4c127a7",
      "metadata": {
        "papermill": {
          "duration": 0.059117,
          "end_time": "2024-01-08T20:47:33.368727",
          "exception": false,
          "start_time": "2024-01-08T20:47:33.309610",
          "status": "completed"
        },
        "tags": [],
        "id": "a4c127a7"
      },
      "outputs": [],
      "source": [
        "df['reviewText'] = df['reviewText'].str.replace('\\d', '', regex=True)"
      ]
    },
    {
      "cell_type": "code",
      "execution_count": 18,
      "id": "5eb72cfe",
      "metadata": {
        "papermill": {
          "duration": 0.036093,
          "end_time": "2024-01-08T20:47:33.432322",
          "exception": false,
          "start_time": "2024-01-08T20:47:33.396229",
          "status": "completed"
        },
        "tags": [],
        "colab": {
          "base_uri": "https://localhost:8080/",
          "height": 458
        },
        "id": "5eb72cfe",
        "outputId": "3b074942-d69f-48ad-e55e-548c5a5ae1e8"
      },
      "outputs": [
        {
          "output_type": "execute_result",
          "data": {
            "text/plain": [
              "0                                               no issues\n",
              "1       purchased this for my device it worked as adve...\n",
              "2       it works as expected i should have sprung for ...\n",
              "3       this think has worked out greathad a diff bran...\n",
              "4       bought it with retail packaging arrived legit ...\n",
              "                              ...                        \n",
              "4910    i bought this sandisk gb class  to use with my...\n",
              "4911    used this for extending the capabilities of my...\n",
              "4912    great card that is very fast and reliable it c...\n",
              "4913    good amount of space for the stuff i want to d...\n",
              "4914    ive heard bad things about this gb micro sd ca...\n",
              "Name: reviewText, Length: 4915, dtype: object"
            ],
            "text/html": [
              "<div>\n",
              "<style scoped>\n",
              "    .dataframe tbody tr th:only-of-type {\n",
              "        vertical-align: middle;\n",
              "    }\n",
              "\n",
              "    .dataframe tbody tr th {\n",
              "        vertical-align: top;\n",
              "    }\n",
              "\n",
              "    .dataframe thead th {\n",
              "        text-align: right;\n",
              "    }\n",
              "</style>\n",
              "<table border=\"1\" class=\"dataframe\">\n",
              "  <thead>\n",
              "    <tr style=\"text-align: right;\">\n",
              "      <th></th>\n",
              "      <th>reviewText</th>\n",
              "    </tr>\n",
              "  </thead>\n",
              "  <tbody>\n",
              "    <tr>\n",
              "      <th>0</th>\n",
              "      <td>no issues</td>\n",
              "    </tr>\n",
              "    <tr>\n",
              "      <th>1</th>\n",
              "      <td>purchased this for my device it worked as adve...</td>\n",
              "    </tr>\n",
              "    <tr>\n",
              "      <th>2</th>\n",
              "      <td>it works as expected i should have sprung for ...</td>\n",
              "    </tr>\n",
              "    <tr>\n",
              "      <th>3</th>\n",
              "      <td>this think has worked out greathad a diff bran...</td>\n",
              "    </tr>\n",
              "    <tr>\n",
              "      <th>4</th>\n",
              "      <td>bought it with retail packaging arrived legit ...</td>\n",
              "    </tr>\n",
              "    <tr>\n",
              "      <th>...</th>\n",
              "      <td>...</td>\n",
              "    </tr>\n",
              "    <tr>\n",
              "      <th>4910</th>\n",
              "      <td>i bought this sandisk gb class  to use with my...</td>\n",
              "    </tr>\n",
              "    <tr>\n",
              "      <th>4911</th>\n",
              "      <td>used this for extending the capabilities of my...</td>\n",
              "    </tr>\n",
              "    <tr>\n",
              "      <th>4912</th>\n",
              "      <td>great card that is very fast and reliable it c...</td>\n",
              "    </tr>\n",
              "    <tr>\n",
              "      <th>4913</th>\n",
              "      <td>good amount of space for the stuff i want to d...</td>\n",
              "    </tr>\n",
              "    <tr>\n",
              "      <th>4914</th>\n",
              "      <td>ive heard bad things about this gb micro sd ca...</td>\n",
              "    </tr>\n",
              "  </tbody>\n",
              "</table>\n",
              "<p>4915 rows × 1 columns</p>\n",
              "</div><br><label><b>dtype:</b> object</label>"
            ]
          },
          "metadata": {},
          "execution_count": 18
        }
      ],
      "source": [
        "df['reviewText']"
      ]
    },
    {
      "cell_type": "code",
      "execution_count": 19,
      "id": "2cf9cee0",
      "metadata": {
        "papermill": {
          "duration": 0.085083,
          "end_time": "2024-01-08T20:47:33.647158",
          "exception": false,
          "start_time": "2024-01-08T20:47:33.562075",
          "status": "completed"
        },
        "tags": [],
        "colab": {
          "base_uri": "https://localhost:8080/"
        },
        "id": "2cf9cee0",
        "outputId": "5a547eda-c379-4224-e2ad-6350a24c2c0a"
      },
      "outputs": [
        {
          "output_type": "stream",
          "name": "stderr",
          "text": [
            "[nltk_data] Downloading package stopwords to /root/nltk_data...\n",
            "[nltk_data]   Unzipping corpora/stopwords.zip.\n"
          ]
        },
        {
          "output_type": "execute_result",
          "data": {
            "text/plain": [
              "True"
            ]
          },
          "metadata": {},
          "execution_count": 19
        }
      ],
      "source": [
        "nltk.download('stopwords')"
      ]
    },
    {
      "cell_type": "code",
      "execution_count": 20,
      "id": "bafac5cc",
      "metadata": {
        "papermill": {
          "duration": 0.037886,
          "end_time": "2024-01-08T20:47:33.711230",
          "exception": false,
          "start_time": "2024-01-08T20:47:33.673344",
          "status": "completed"
        },
        "tags": [],
        "id": "bafac5cc"
      },
      "outputs": [],
      "source": [
        "sw = stopwords.words('english')"
      ]
    },
    {
      "cell_type": "code",
      "execution_count": 22,
      "id": "60921c6f",
      "metadata": {
        "papermill": {
          "duration": 0.039452,
          "end_time": "2024-01-08T20:47:33.776953",
          "exception": false,
          "start_time": "2024-01-08T20:47:33.737501",
          "status": "completed"
        },
        "tags": [],
        "colab": {
          "base_uri": "https://localhost:8080/"
        },
        "id": "60921c6f",
        "outputId": "0a95b15d-4799-4399-c92f-85a4f7f42e83"
      },
      "outputs": [
        {
          "output_type": "execute_result",
          "data": {
            "text/plain": [
              "['i',\n",
              " 'me',\n",
              " 'my',\n",
              " 'myself',\n",
              " 'we',\n",
              " 'our',\n",
              " 'ours',\n",
              " 'ourselves',\n",
              " 'you',\n",
              " \"you're\",\n",
              " \"you've\",\n",
              " \"you'll\",\n",
              " \"you'd\",\n",
              " 'your',\n",
              " 'yours',\n",
              " 'yourself',\n",
              " 'yourselves',\n",
              " 'he',\n",
              " 'him',\n",
              " 'his',\n",
              " 'himself',\n",
              " 'she',\n",
              " \"she's\",\n",
              " 'her',\n",
              " 'hers',\n",
              " 'herself',\n",
              " 'it',\n",
              " \"it's\",\n",
              " 'its',\n",
              " 'itself',\n",
              " 'they',\n",
              " 'them',\n",
              " 'their',\n",
              " 'theirs',\n",
              " 'themselves',\n",
              " 'what',\n",
              " 'which',\n",
              " 'who',\n",
              " 'whom',\n",
              " 'this',\n",
              " 'that',\n",
              " \"that'll\",\n",
              " 'these',\n",
              " 'those',\n",
              " 'am',\n",
              " 'is',\n",
              " 'are',\n",
              " 'was',\n",
              " 'were',\n",
              " 'be',\n",
              " 'been',\n",
              " 'being',\n",
              " 'have',\n",
              " 'has',\n",
              " 'had',\n",
              " 'having',\n",
              " 'do',\n",
              " 'does',\n",
              " 'did',\n",
              " 'doing',\n",
              " 'a',\n",
              " 'an',\n",
              " 'the',\n",
              " 'and',\n",
              " 'but',\n",
              " 'if',\n",
              " 'or',\n",
              " 'because',\n",
              " 'as',\n",
              " 'until',\n",
              " 'while',\n",
              " 'of',\n",
              " 'at',\n",
              " 'by',\n",
              " 'for',\n",
              " 'with',\n",
              " 'about',\n",
              " 'against',\n",
              " 'between',\n",
              " 'into',\n",
              " 'through',\n",
              " 'during',\n",
              " 'before',\n",
              " 'after',\n",
              " 'above',\n",
              " 'below',\n",
              " 'to',\n",
              " 'from',\n",
              " 'up',\n",
              " 'down',\n",
              " 'in',\n",
              " 'out',\n",
              " 'on',\n",
              " 'off',\n",
              " 'over',\n",
              " 'under',\n",
              " 'again',\n",
              " 'further',\n",
              " 'then',\n",
              " 'once',\n",
              " 'here',\n",
              " 'there',\n",
              " 'when',\n",
              " 'where',\n",
              " 'why',\n",
              " 'how',\n",
              " 'all',\n",
              " 'any',\n",
              " 'both',\n",
              " 'each',\n",
              " 'few',\n",
              " 'more',\n",
              " 'most',\n",
              " 'other',\n",
              " 'some',\n",
              " 'such',\n",
              " 'no',\n",
              " 'nor',\n",
              " 'not',\n",
              " 'only',\n",
              " 'own',\n",
              " 'same',\n",
              " 'so',\n",
              " 'than',\n",
              " 'too',\n",
              " 'very',\n",
              " 's',\n",
              " 't',\n",
              " 'can',\n",
              " 'will',\n",
              " 'just',\n",
              " 'don',\n",
              " \"don't\",\n",
              " 'should',\n",
              " \"should've\",\n",
              " 'now',\n",
              " 'd',\n",
              " 'll',\n",
              " 'm',\n",
              " 'o',\n",
              " 're',\n",
              " 've',\n",
              " 'y',\n",
              " 'ain',\n",
              " 'aren',\n",
              " \"aren't\",\n",
              " 'couldn',\n",
              " \"couldn't\",\n",
              " 'didn',\n",
              " \"didn't\",\n",
              " 'doesn',\n",
              " \"doesn't\",\n",
              " 'hadn',\n",
              " \"hadn't\",\n",
              " 'hasn',\n",
              " \"hasn't\",\n",
              " 'haven',\n",
              " \"haven't\",\n",
              " 'isn',\n",
              " \"isn't\",\n",
              " 'ma',\n",
              " 'mightn',\n",
              " \"mightn't\",\n",
              " 'mustn',\n",
              " \"mustn't\",\n",
              " 'needn',\n",
              " \"needn't\",\n",
              " 'shan',\n",
              " \"shan't\",\n",
              " 'shouldn',\n",
              " \"shouldn't\",\n",
              " 'wasn',\n",
              " \"wasn't\",\n",
              " 'weren',\n",
              " \"weren't\",\n",
              " 'won',\n",
              " \"won't\",\n",
              " 'wouldn',\n",
              " \"wouldn't\"]"
            ]
          },
          "metadata": {},
          "execution_count": 22
        }
      ],
      "source": [
        "sw"
      ]
    },
    {
      "cell_type": "code",
      "execution_count": 23,
      "id": "e9d0dc18",
      "metadata": {
        "papermill": {
          "duration": 0.427393,
          "end_time": "2024-01-08T20:47:34.230974",
          "exception": false,
          "start_time": "2024-01-08T20:47:33.803581",
          "status": "completed"
        },
        "tags": [],
        "id": "e9d0dc18"
      },
      "outputs": [],
      "source": [
        "df['reviewText'] = df['reviewText'].apply(lambda x: \" \".join(x for x in str(x).split() if x not in sw))"
      ]
    },
    {
      "cell_type": "code",
      "execution_count": 24,
      "id": "c280c920",
      "metadata": {
        "papermill": {
          "duration": 0.042032,
          "end_time": "2024-01-08T20:47:34.300978",
          "exception": false,
          "start_time": "2024-01-08T20:47:34.258946",
          "status": "completed"
        },
        "tags": [],
        "colab": {
          "base_uri": "https://localhost:8080/",
          "height": 458
        },
        "id": "c280c920",
        "outputId": "7a61e629-758a-4000-8685-28212738937d"
      },
      "outputs": [
        {
          "output_type": "execute_result",
          "data": {
            "text/plain": [
              "0                                                  issues\n",
              "1       purchased device worked advertised never much ...\n",
              "2       works expected sprung higher capacity think ma...\n",
              "3       think worked greathad diff bran gb card went s...\n",
              "4       bought retail packaging arrived legit orange e...\n",
              "                              ...                        \n",
              "4910    bought sandisk gb class use htc inspire months...\n",
              "4911    used extending capabilities samsung galaxy not...\n",
              "4912    great card fast reliable comes optional adapte...\n",
              "4913          good amount space stuff want fits gopro say\n",
              "4914    ive heard bad things gb micro sd card crapping...\n",
              "Name: reviewText, Length: 4915, dtype: object"
            ],
            "text/html": [
              "<div>\n",
              "<style scoped>\n",
              "    .dataframe tbody tr th:only-of-type {\n",
              "        vertical-align: middle;\n",
              "    }\n",
              "\n",
              "    .dataframe tbody tr th {\n",
              "        vertical-align: top;\n",
              "    }\n",
              "\n",
              "    .dataframe thead th {\n",
              "        text-align: right;\n",
              "    }\n",
              "</style>\n",
              "<table border=\"1\" class=\"dataframe\">\n",
              "  <thead>\n",
              "    <tr style=\"text-align: right;\">\n",
              "      <th></th>\n",
              "      <th>reviewText</th>\n",
              "    </tr>\n",
              "  </thead>\n",
              "  <tbody>\n",
              "    <tr>\n",
              "      <th>0</th>\n",
              "      <td>issues</td>\n",
              "    </tr>\n",
              "    <tr>\n",
              "      <th>1</th>\n",
              "      <td>purchased device worked advertised never much ...</td>\n",
              "    </tr>\n",
              "    <tr>\n",
              "      <th>2</th>\n",
              "      <td>works expected sprung higher capacity think ma...</td>\n",
              "    </tr>\n",
              "    <tr>\n",
              "      <th>3</th>\n",
              "      <td>think worked greathad diff bran gb card went s...</td>\n",
              "    </tr>\n",
              "    <tr>\n",
              "      <th>4</th>\n",
              "      <td>bought retail packaging arrived legit orange e...</td>\n",
              "    </tr>\n",
              "    <tr>\n",
              "      <th>...</th>\n",
              "      <td>...</td>\n",
              "    </tr>\n",
              "    <tr>\n",
              "      <th>4910</th>\n",
              "      <td>bought sandisk gb class use htc inspire months...</td>\n",
              "    </tr>\n",
              "    <tr>\n",
              "      <th>4911</th>\n",
              "      <td>used extending capabilities samsung galaxy not...</td>\n",
              "    </tr>\n",
              "    <tr>\n",
              "      <th>4912</th>\n",
              "      <td>great card fast reliable comes optional adapte...</td>\n",
              "    </tr>\n",
              "    <tr>\n",
              "      <th>4913</th>\n",
              "      <td>good amount space stuff want fits gopro say</td>\n",
              "    </tr>\n",
              "    <tr>\n",
              "      <th>4914</th>\n",
              "      <td>ive heard bad things gb micro sd card crapping...</td>\n",
              "    </tr>\n",
              "  </tbody>\n",
              "</table>\n",
              "<p>4915 rows × 1 columns</p>\n",
              "</div><br><label><b>dtype:</b> object</label>"
            ]
          },
          "metadata": {},
          "execution_count": 24
        }
      ],
      "source": [
        "df['reviewText']"
      ]
    },
    {
      "cell_type": "code",
      "execution_count": 25,
      "id": "18957c7e",
      "metadata": {
        "papermill": {
          "duration": 0.069449,
          "end_time": "2024-01-08T20:47:34.502802",
          "exception": false,
          "start_time": "2024-01-08T20:47:34.433353",
          "status": "completed"
        },
        "tags": [],
        "id": "18957c7e"
      },
      "outputs": [],
      "source": [
        "temp_df = pd.Series(' '.join(df['reviewText']).split()).value_counts()"
      ]
    },
    {
      "cell_type": "code",
      "execution_count": 26,
      "id": "7b195878",
      "metadata": {
        "papermill": {
          "duration": 0.040777,
          "end_time": "2024-01-08T20:47:34.570025",
          "exception": false,
          "start_time": "2024-01-08T20:47:34.529248",
          "status": "completed"
        },
        "tags": [],
        "colab": {
          "base_uri": "https://localhost:8080/",
          "height": 458
        },
        "id": "7b195878",
        "outputId": "1258de0b-e7cd-4870-dc38-2c790bbc674a"
      },
      "outputs": [
        {
          "output_type": "execute_result",
          "data": {
            "text/plain": [
              "card           4603\n",
              "gb             1725\n",
              "phone          1685\n",
              "works          1559\n",
              "great          1445\n",
              "               ... \n",
              "outmoded          1\n",
              "stocking          1\n",
              "cardsso           1\n",
              "requirement       1\n",
              "packageill        1\n",
              "Name: count, Length: 9701, dtype: int64"
            ],
            "text/html": [
              "<div>\n",
              "<style scoped>\n",
              "    .dataframe tbody tr th:only-of-type {\n",
              "        vertical-align: middle;\n",
              "    }\n",
              "\n",
              "    .dataframe tbody tr th {\n",
              "        vertical-align: top;\n",
              "    }\n",
              "\n",
              "    .dataframe thead th {\n",
              "        text-align: right;\n",
              "    }\n",
              "</style>\n",
              "<table border=\"1\" class=\"dataframe\">\n",
              "  <thead>\n",
              "    <tr style=\"text-align: right;\">\n",
              "      <th></th>\n",
              "      <th>count</th>\n",
              "    </tr>\n",
              "  </thead>\n",
              "  <tbody>\n",
              "    <tr>\n",
              "      <th>card</th>\n",
              "      <td>4603</td>\n",
              "    </tr>\n",
              "    <tr>\n",
              "      <th>gb</th>\n",
              "      <td>1725</td>\n",
              "    </tr>\n",
              "    <tr>\n",
              "      <th>phone</th>\n",
              "      <td>1685</td>\n",
              "    </tr>\n",
              "    <tr>\n",
              "      <th>works</th>\n",
              "      <td>1559</td>\n",
              "    </tr>\n",
              "    <tr>\n",
              "      <th>great</th>\n",
              "      <td>1445</td>\n",
              "    </tr>\n",
              "    <tr>\n",
              "      <th>...</th>\n",
              "      <td>...</td>\n",
              "    </tr>\n",
              "    <tr>\n",
              "      <th>outmoded</th>\n",
              "      <td>1</td>\n",
              "    </tr>\n",
              "    <tr>\n",
              "      <th>stocking</th>\n",
              "      <td>1</td>\n",
              "    </tr>\n",
              "    <tr>\n",
              "      <th>cardsso</th>\n",
              "      <td>1</td>\n",
              "    </tr>\n",
              "    <tr>\n",
              "      <th>requirement</th>\n",
              "      <td>1</td>\n",
              "    </tr>\n",
              "    <tr>\n",
              "      <th>packageill</th>\n",
              "      <td>1</td>\n",
              "    </tr>\n",
              "  </tbody>\n",
              "</table>\n",
              "<p>9701 rows × 1 columns</p>\n",
              "</div><br><label><b>dtype:</b> int64</label>"
            ]
          },
          "metadata": {},
          "execution_count": 26
        }
      ],
      "source": [
        "temp_df"
      ]
    },
    {
      "cell_type": "code",
      "execution_count": 27,
      "id": "ab731399",
      "metadata": {
        "papermill": {
          "duration": 0.039919,
          "end_time": "2024-01-08T20:47:34.637341",
          "exception": false,
          "start_time": "2024-01-08T20:47:34.597422",
          "status": "completed"
        },
        "tags": [],
        "id": "ab731399"
      },
      "outputs": [],
      "source": [
        "drops = temp_df[temp_df <= 1]"
      ]
    },
    {
      "cell_type": "code",
      "execution_count": 28,
      "id": "14886dae",
      "metadata": {
        "papermill": {
          "duration": 0.271045,
          "end_time": "2024-01-08T20:47:34.936171",
          "exception": false,
          "start_time": "2024-01-08T20:47:34.665126",
          "status": "completed"
        },
        "tags": [],
        "id": "14886dae"
      },
      "outputs": [],
      "source": [
        "df['reviewText'] = df['reviewText'].apply(lambda x: \" \".join(x for x in x.split() if x not in drops))"
      ]
    },
    {
      "cell_type": "code",
      "execution_count": 29,
      "id": "46dead21",
      "metadata": {
        "papermill": {
          "duration": 0.039452,
          "end_time": "2024-01-08T20:47:35.002469",
          "exception": false,
          "start_time": "2024-01-08T20:47:34.963017",
          "status": "completed"
        },
        "tags": [],
        "colab": {
          "base_uri": "https://localhost:8080/",
          "height": 458
        },
        "id": "46dead21",
        "outputId": "b77c0973-bde3-45f3-c05a-d59f291cb7ab"
      },
      "outputs": [
        {
          "output_type": "execute_result",
          "data": {
            "text/plain": [
              "0                                                  issues\n",
              "1       purchased device worked advertised never much ...\n",
              "2       works expected higher capacity think made bit ...\n",
              "3       think worked gb card went south one held prett...\n",
              "4       bought retail packaging arrived legit envelope...\n",
              "                              ...                        \n",
              "4910    bought sandisk gb class use htc inspire months...\n",
              "4911    used capabilities samsung galaxy note greatly ...\n",
              "4912    great card fast reliable comes optional adapte...\n",
              "4913          good amount space stuff want fits gopro say\n",
              "4914    ive heard bad things gb micro sd card crapping...\n",
              "Name: reviewText, Length: 4915, dtype: object"
            ],
            "text/html": [
              "<div>\n",
              "<style scoped>\n",
              "    .dataframe tbody tr th:only-of-type {\n",
              "        vertical-align: middle;\n",
              "    }\n",
              "\n",
              "    .dataframe tbody tr th {\n",
              "        vertical-align: top;\n",
              "    }\n",
              "\n",
              "    .dataframe thead th {\n",
              "        text-align: right;\n",
              "    }\n",
              "</style>\n",
              "<table border=\"1\" class=\"dataframe\">\n",
              "  <thead>\n",
              "    <tr style=\"text-align: right;\">\n",
              "      <th></th>\n",
              "      <th>reviewText</th>\n",
              "    </tr>\n",
              "  </thead>\n",
              "  <tbody>\n",
              "    <tr>\n",
              "      <th>0</th>\n",
              "      <td>issues</td>\n",
              "    </tr>\n",
              "    <tr>\n",
              "      <th>1</th>\n",
              "      <td>purchased device worked advertised never much ...</td>\n",
              "    </tr>\n",
              "    <tr>\n",
              "      <th>2</th>\n",
              "      <td>works expected higher capacity think made bit ...</td>\n",
              "    </tr>\n",
              "    <tr>\n",
              "      <th>3</th>\n",
              "      <td>think worked gb card went south one held prett...</td>\n",
              "    </tr>\n",
              "    <tr>\n",
              "      <th>4</th>\n",
              "      <td>bought retail packaging arrived legit envelope...</td>\n",
              "    </tr>\n",
              "    <tr>\n",
              "      <th>...</th>\n",
              "      <td>...</td>\n",
              "    </tr>\n",
              "    <tr>\n",
              "      <th>4910</th>\n",
              "      <td>bought sandisk gb class use htc inspire months...</td>\n",
              "    </tr>\n",
              "    <tr>\n",
              "      <th>4911</th>\n",
              "      <td>used capabilities samsung galaxy note greatly ...</td>\n",
              "    </tr>\n",
              "    <tr>\n",
              "      <th>4912</th>\n",
              "      <td>great card fast reliable comes optional adapte...</td>\n",
              "    </tr>\n",
              "    <tr>\n",
              "      <th>4913</th>\n",
              "      <td>good amount space stuff want fits gopro say</td>\n",
              "    </tr>\n",
              "    <tr>\n",
              "      <th>4914</th>\n",
              "      <td>ive heard bad things gb micro sd card crapping...</td>\n",
              "    </tr>\n",
              "  </tbody>\n",
              "</table>\n",
              "<p>4915 rows × 1 columns</p>\n",
              "</div><br><label><b>dtype:</b> object</label>"
            ]
          },
          "metadata": {},
          "execution_count": 29
        }
      ],
      "source": [
        "df['reviewText']"
      ]
    },
    {
      "cell_type": "code",
      "execution_count": 30,
      "id": "b913d10a",
      "metadata": {
        "papermill": {
          "duration": 0.061786,
          "end_time": "2024-01-08T20:47:35.091368",
          "exception": false,
          "start_time": "2024-01-08T20:47:35.029582",
          "status": "completed"
        },
        "tags": [],
        "id": "b913d10a"
      },
      "outputs": [],
      "source": [
        "temp_df_1 = pd.Series(' '.join(df['reviewText']).split()).value_counts()"
      ]
    },
    {
      "cell_type": "code",
      "execution_count": 31,
      "id": "034a25c6",
      "metadata": {
        "papermill": {
          "duration": 0.038194,
          "end_time": "2024-01-08T20:47:35.158300",
          "exception": false,
          "start_time": "2024-01-08T20:47:35.120106",
          "status": "completed"
        },
        "tags": [],
        "colab": {
          "base_uri": "https://localhost:8080/",
          "height": 458
        },
        "id": "034a25c6",
        "outputId": "f49b3935-4469-4ca2-b927-b4e3fcc0db8b"
      },
      "outputs": [
        {
          "output_type": "execute_result",
          "data": {
            "text/plain": [
              "card        4603\n",
              "gb          1725\n",
              "phone       1685\n",
              "works       1559\n",
              "great       1445\n",
              "            ... \n",
              "exceeds        2\n",
              "embedded       2\n",
              "errori         2\n",
              "anime          2\n",
              "backs          2\n",
              "Name: count, Length: 4089, dtype: int64"
            ],
            "text/html": [
              "<div>\n",
              "<style scoped>\n",
              "    .dataframe tbody tr th:only-of-type {\n",
              "        vertical-align: middle;\n",
              "    }\n",
              "\n",
              "    .dataframe tbody tr th {\n",
              "        vertical-align: top;\n",
              "    }\n",
              "\n",
              "    .dataframe thead th {\n",
              "        text-align: right;\n",
              "    }\n",
              "</style>\n",
              "<table border=\"1\" class=\"dataframe\">\n",
              "  <thead>\n",
              "    <tr style=\"text-align: right;\">\n",
              "      <th></th>\n",
              "      <th>count</th>\n",
              "    </tr>\n",
              "  </thead>\n",
              "  <tbody>\n",
              "    <tr>\n",
              "      <th>card</th>\n",
              "      <td>4603</td>\n",
              "    </tr>\n",
              "    <tr>\n",
              "      <th>gb</th>\n",
              "      <td>1725</td>\n",
              "    </tr>\n",
              "    <tr>\n",
              "      <th>phone</th>\n",
              "      <td>1685</td>\n",
              "    </tr>\n",
              "    <tr>\n",
              "      <th>works</th>\n",
              "      <td>1559</td>\n",
              "    </tr>\n",
              "    <tr>\n",
              "      <th>great</th>\n",
              "      <td>1445</td>\n",
              "    </tr>\n",
              "    <tr>\n",
              "      <th>...</th>\n",
              "      <td>...</td>\n",
              "    </tr>\n",
              "    <tr>\n",
              "      <th>exceeds</th>\n",
              "      <td>2</td>\n",
              "    </tr>\n",
              "    <tr>\n",
              "      <th>embedded</th>\n",
              "      <td>2</td>\n",
              "    </tr>\n",
              "    <tr>\n",
              "      <th>errori</th>\n",
              "      <td>2</td>\n",
              "    </tr>\n",
              "    <tr>\n",
              "      <th>anime</th>\n",
              "      <td>2</td>\n",
              "    </tr>\n",
              "    <tr>\n",
              "      <th>backs</th>\n",
              "      <td>2</td>\n",
              "    </tr>\n",
              "  </tbody>\n",
              "</table>\n",
              "<p>4089 rows × 1 columns</p>\n",
              "</div><br><label><b>dtype:</b> int64</label>"
            ]
          },
          "metadata": {},
          "execution_count": 31
        }
      ],
      "source": [
        "temp_df_1"
      ]
    },
    {
      "cell_type": "code",
      "execution_count": 32,
      "id": "1ba74c5a-3a3f-4515-b6b1-ab376f5135cc",
      "metadata": {
        "colab": {
          "base_uri": "https://localhost:8080/"
        },
        "id": "1ba74c5a-3a3f-4515-b6b1-ab376f5135cc",
        "outputId": "589cb1c5-af7a-4ffd-9d25-8c9a856980fe"
      },
      "outputs": [
        {
          "output_type": "stream",
          "name": "stdout",
          "text": [
            "Requirement already satisfied: textblob in /usr/local/lib/python3.10/dist-packages (0.17.1)\n",
            "Requirement already satisfied: nltk>=3.1 in /usr/local/lib/python3.10/dist-packages (from textblob) (3.8.1)\n",
            "Requirement already satisfied: click in /usr/local/lib/python3.10/dist-packages (from nltk>=3.1->textblob) (8.1.7)\n",
            "Requirement already satisfied: joblib in /usr/local/lib/python3.10/dist-packages (from nltk>=3.1->textblob) (1.4.2)\n",
            "Requirement already satisfied: regex>=2021.8.3 in /usr/local/lib/python3.10/dist-packages (from nltk>=3.1->textblob) (2024.5.15)\n",
            "Requirement already satisfied: tqdm in /usr/local/lib/python3.10/dist-packages (from nltk>=3.1->textblob) (4.66.5)\n"
          ]
        }
      ],
      "source": [
        "pip install textblob"
      ]
    },
    {
      "cell_type": "code",
      "execution_count": 33,
      "id": "828d1ca0-069e-4077-b472-6b8759432eac",
      "metadata": {
        "colab": {
          "base_uri": "https://localhost:8080/"
        },
        "id": "828d1ca0-069e-4077-b472-6b8759432eac",
        "outputId": "e6103d83-2e25-403d-fc89-64d86848238a"
      },
      "outputs": [
        {
          "output_type": "stream",
          "name": "stderr",
          "text": [
            "[nltk_data] Downloading package punkt to /root/nltk_data...\n",
            "[nltk_data]   Unzipping tokenizers/punkt.zip.\n"
          ]
        },
        {
          "output_type": "execute_result",
          "data": {
            "text/plain": [
              "True"
            ]
          },
          "metadata": {},
          "execution_count": 33
        }
      ],
      "source": [
        "import nltk\n",
        "nltk.download('punkt')"
      ]
    },
    {
      "cell_type": "code",
      "execution_count": 34,
      "id": "c71832ba",
      "metadata": {
        "papermill": {
          "duration": 1.490299,
          "end_time": "2024-01-08T20:47:36.782841",
          "exception": false,
          "start_time": "2024-01-08T20:47:35.292542",
          "status": "completed"
        },
        "tags": [],
        "colab": {
          "base_uri": "https://localhost:8080/",
          "height": 241
        },
        "id": "c71832ba",
        "outputId": "9c04a900-e734-4a6d-ca90-a5794dc41be4"
      },
      "outputs": [
        {
          "output_type": "execute_result",
          "data": {
            "text/plain": [
              "0                                             [issues]\n",
              "1    [purchased, device, worked, advertised, never,...\n",
              "2    [works, expected, higher, capacity, think, mad...\n",
              "3    [think, worked, gb, card, went, south, one, he...\n",
              "4    [bought, retail, packaging, arrived, legit, en...\n",
              "Name: reviewText, dtype: object"
            ],
            "text/html": [
              "<div>\n",
              "<style scoped>\n",
              "    .dataframe tbody tr th:only-of-type {\n",
              "        vertical-align: middle;\n",
              "    }\n",
              "\n",
              "    .dataframe tbody tr th {\n",
              "        vertical-align: top;\n",
              "    }\n",
              "\n",
              "    .dataframe thead th {\n",
              "        text-align: right;\n",
              "    }\n",
              "</style>\n",
              "<table border=\"1\" class=\"dataframe\">\n",
              "  <thead>\n",
              "    <tr style=\"text-align: right;\">\n",
              "      <th></th>\n",
              "      <th>reviewText</th>\n",
              "    </tr>\n",
              "  </thead>\n",
              "  <tbody>\n",
              "    <tr>\n",
              "      <th>0</th>\n",
              "      <td>[issues]</td>\n",
              "    </tr>\n",
              "    <tr>\n",
              "      <th>1</th>\n",
              "      <td>[purchased, device, worked, advertised, never,...</td>\n",
              "    </tr>\n",
              "    <tr>\n",
              "      <th>2</th>\n",
              "      <td>[works, expected, higher, capacity, think, mad...</td>\n",
              "    </tr>\n",
              "    <tr>\n",
              "      <th>3</th>\n",
              "      <td>[think, worked, gb, card, went, south, one, he...</td>\n",
              "    </tr>\n",
              "    <tr>\n",
              "      <th>4</th>\n",
              "      <td>[bought, retail, packaging, arrived, legit, en...</td>\n",
              "    </tr>\n",
              "  </tbody>\n",
              "</table>\n",
              "</div><br><label><b>dtype:</b> object</label>"
            ]
          },
          "metadata": {},
          "execution_count": 34
        }
      ],
      "source": [
        "df[\"reviewText\"].apply(lambda x: TextBlob(x).words).head()"
      ]
    },
    {
      "cell_type": "code",
      "execution_count": 35,
      "id": "b0280dd6",
      "metadata": {
        "execution": {
          "iopub.execute_input": "2024-01-08T20:47:36.946799Z",
          "iopub.status.busy": "2024-01-08T20:47:36.946415Z",
          "iopub.status.idle": "2024-01-08T20:47:37.030993Z",
          "shell.execute_reply": "2024-01-08T20:47:37.030353Z"
        },
        "papermill": {
          "duration": 0.114707,
          "end_time": "2024-01-08T20:47:37.032733",
          "exception": false,
          "start_time": "2024-01-08T20:47:36.918026",
          "status": "completed"
        },
        "tags": [],
        "colab": {
          "base_uri": "https://localhost:8080/"
        },
        "id": "b0280dd6",
        "outputId": "aa26c463-27e7-4425-8d97-0a1a9fc88f5b"
      },
      "outputs": [
        {
          "output_type": "stream",
          "name": "stderr",
          "text": [
            "[nltk_data] Downloading package punkt to /root/nltk_data...\n",
            "[nltk_data]   Package punkt is already up-to-date!\n"
          ]
        },
        {
          "output_type": "execute_result",
          "data": {
            "text/plain": [
              "True"
            ]
          },
          "metadata": {},
          "execution_count": 35
        }
      ],
      "source": [
        "nltk.download('punkt')"
      ]
    },
    {
      "cell_type": "code",
      "execution_count": 36,
      "id": "faf359fb",
      "metadata": {
        "papermill": {
          "duration": 0.057389,
          "end_time": "2024-01-08T20:47:37.117328",
          "exception": false,
          "start_time": "2024-01-08T20:47:37.059939",
          "status": "completed"
        },
        "tags": [],
        "colab": {
          "base_uri": "https://localhost:8080/"
        },
        "id": "faf359fb",
        "outputId": "2f356df3-1808-475e-d2fc-38e9843f507d"
      },
      "outputs": [
        {
          "output_type": "stream",
          "name": "stderr",
          "text": [
            "[nltk_data] Downloading package wordnet to /root/nltk_data...\n"
          ]
        },
        {
          "output_type": "execute_result",
          "data": {
            "text/plain": [
              "True"
            ]
          },
          "metadata": {},
          "execution_count": 36
        }
      ],
      "source": [
        "nltk.download('wordnet')"
      ]
    },
    {
      "cell_type": "code",
      "execution_count": 37,
      "id": "6c54b9a3",
      "metadata": {
        "papermill": {
          "duration": 0.158368,
          "end_time": "2024-01-08T20:47:37.305742",
          "exception": false,
          "start_time": "2024-01-08T20:47:37.147374",
          "status": "completed"
        },
        "tags": [],
        "colab": {
          "base_uri": "https://localhost:8080/"
        },
        "id": "6c54b9a3",
        "outputId": "08dd2931-6a55-4a6d-b918-1120eade0a6a"
      },
      "outputs": [
        {
          "output_type": "stream",
          "name": "stderr",
          "text": [
            "[nltk_data] Downloading package omw-1.4 to /root/nltk_data...\n"
          ]
        },
        {
          "output_type": "execute_result",
          "data": {
            "text/plain": [
              "True"
            ]
          },
          "metadata": {},
          "execution_count": 37
        }
      ],
      "source": [
        "nltk.download('omw-1.4')"
      ]
    },
    {
      "cell_type": "code",
      "execution_count": 38,
      "id": "9834a6d6",
      "metadata": {
        "papermill": {
          "duration": 2.288841,
          "end_time": "2024-01-08T20:47:39.621624",
          "exception": false,
          "start_time": "2024-01-08T20:47:37.332783",
          "status": "completed"
        },
        "tags": [],
        "id": "9834a6d6"
      },
      "outputs": [],
      "source": [
        "df['reviewText'] = df['reviewText'].apply(lambda x: \" \".join([Word(word).lemmatize() for word in x.split()]))"
      ]
    },
    {
      "cell_type": "code",
      "execution_count": 39,
      "id": "b9046a1a",
      "metadata": {
        "papermill": {
          "duration": 0.038144,
          "end_time": "2024-01-08T20:47:39.689692",
          "exception": false,
          "start_time": "2024-01-08T20:47:39.651548",
          "status": "completed"
        },
        "tags": [],
        "colab": {
          "base_uri": "https://localhost:8080/",
          "height": 458
        },
        "id": "b9046a1a",
        "outputId": "84f5b7be-f687-4f0d-a503-fd0ff7a55153"
      },
      "outputs": [
        {
          "output_type": "execute_result",
          "data": {
            "text/plain": [
              "0                                                   issue\n",
              "1       purchased device worked advertised never much ...\n",
              "2       work expected higher capacity think made bit e...\n",
              "3       think worked gb card went south one held prett...\n",
              "4       bought retail packaging arrived legit envelope...\n",
              "                              ...                        \n",
              "4910    bought sandisk gb class use htc inspire month ...\n",
              "4911    used capability samsung galaxy note greatly ex...\n",
              "4912    great card fast reliable come optional adapter...\n",
              "4913           good amount space stuff want fit gopro say\n",
              "4914    ive heard bad thing gb micro sd card crapping ...\n",
              "Name: reviewText, Length: 4915, dtype: object"
            ],
            "text/html": [
              "<div>\n",
              "<style scoped>\n",
              "    .dataframe tbody tr th:only-of-type {\n",
              "        vertical-align: middle;\n",
              "    }\n",
              "\n",
              "    .dataframe tbody tr th {\n",
              "        vertical-align: top;\n",
              "    }\n",
              "\n",
              "    .dataframe thead th {\n",
              "        text-align: right;\n",
              "    }\n",
              "</style>\n",
              "<table border=\"1\" class=\"dataframe\">\n",
              "  <thead>\n",
              "    <tr style=\"text-align: right;\">\n",
              "      <th></th>\n",
              "      <th>reviewText</th>\n",
              "    </tr>\n",
              "  </thead>\n",
              "  <tbody>\n",
              "    <tr>\n",
              "      <th>0</th>\n",
              "      <td>issue</td>\n",
              "    </tr>\n",
              "    <tr>\n",
              "      <th>1</th>\n",
              "      <td>purchased device worked advertised never much ...</td>\n",
              "    </tr>\n",
              "    <tr>\n",
              "      <th>2</th>\n",
              "      <td>work expected higher capacity think made bit e...</td>\n",
              "    </tr>\n",
              "    <tr>\n",
              "      <th>3</th>\n",
              "      <td>think worked gb card went south one held prett...</td>\n",
              "    </tr>\n",
              "    <tr>\n",
              "      <th>4</th>\n",
              "      <td>bought retail packaging arrived legit envelope...</td>\n",
              "    </tr>\n",
              "    <tr>\n",
              "      <th>...</th>\n",
              "      <td>...</td>\n",
              "    </tr>\n",
              "    <tr>\n",
              "      <th>4910</th>\n",
              "      <td>bought sandisk gb class use htc inspire month ...</td>\n",
              "    </tr>\n",
              "    <tr>\n",
              "      <th>4911</th>\n",
              "      <td>used capability samsung galaxy note greatly ex...</td>\n",
              "    </tr>\n",
              "    <tr>\n",
              "      <th>4912</th>\n",
              "      <td>great card fast reliable come optional adapter...</td>\n",
              "    </tr>\n",
              "    <tr>\n",
              "      <th>4913</th>\n",
              "      <td>good amount space stuff want fit gopro say</td>\n",
              "    </tr>\n",
              "    <tr>\n",
              "      <th>4914</th>\n",
              "      <td>ive heard bad thing gb micro sd card crapping ...</td>\n",
              "    </tr>\n",
              "  </tbody>\n",
              "</table>\n",
              "<p>4915 rows × 1 columns</p>\n",
              "</div><br><label><b>dtype:</b> object</label>"
            ]
          },
          "metadata": {},
          "execution_count": 39
        }
      ],
      "source": [
        "df['reviewText']"
      ]
    },
    {
      "cell_type": "code",
      "execution_count": 40,
      "id": "a65d821e",
      "metadata": {
        "papermill": {
          "duration": 3.363346,
          "end_time": "2024-01-08T20:47:43.248455",
          "exception": false,
          "start_time": "2024-01-08T20:47:39.885109",
          "status": "completed"
        },
        "tags": [],
        "id": "a65d821e"
      },
      "outputs": [],
      "source": [
        "tf = df[\"reviewText\"].apply(lambda x: pd.value_counts(x.split(\" \"))).sum(axis=0).reset_index()"
      ]
    },
    {
      "cell_type": "code",
      "execution_count": 41,
      "id": "d1f4af04",
      "metadata": {
        "papermill": {
          "duration": 0.036702,
          "end_time": "2024-01-08T20:47:43.313069",
          "exception": false,
          "start_time": "2024-01-08T20:47:43.276367",
          "status": "completed"
        },
        "tags": [],
        "id": "d1f4af04"
      },
      "outputs": [],
      "source": [
        "tf.columns = ['words', 'tf']"
      ]
    },
    {
      "cell_type": "code",
      "execution_count": 42,
      "id": "1e945286",
      "metadata": {
        "papermill": {
          "duration": 0.037954,
          "end_time": "2024-01-08T20:47:43.379735",
          "exception": false,
          "start_time": "2024-01-08T20:47:43.341781",
          "status": "completed"
        },
        "tags": [],
        "id": "1e945286"
      },
      "outputs": [],
      "source": [
        "tf_sorted = tf.sort_values(by='tf', ascending=False)"
      ]
    },
    {
      "cell_type": "code",
      "execution_count": 43,
      "id": "2d364794",
      "metadata": {
        "papermill": {
          "duration": 0.041868,
          "end_time": "2024-01-08T20:47:43.450717",
          "exception": false,
          "start_time": "2024-01-08T20:47:43.408849",
          "status": "completed"
        },
        "tags": [],
        "colab": {
          "base_uri": "https://localhost:8080/",
          "height": 424
        },
        "id": "2d364794",
        "outputId": "5eeaeeb6-8a74-4dda-aafa-dfb1e429a4e5"
      },
      "outputs": [
        {
          "output_type": "execute_result",
          "data": {
            "text/plain": [
              "             words      tf\n",
              "27            card 5537.00\n",
              "14            work 2044.00\n",
              "7            phone 1909.00\n",
              "28              gb 1756.00\n",
              "91           great 1445.00\n",
              "...            ...     ...\n",
              "3666      problemi    2.00\n",
              "3667  deliberately    2.00\n",
              "3669  disappearing    2.00\n",
              "3670      zenfolio    2.00\n",
              "1098                  1.00\n",
              "\n",
              "[3688 rows x 2 columns]"
            ],
            "text/html": [
              "\n",
              "  <div id=\"df-11faa0eb-820d-4c50-87ac-2d7b9b47fbae\" class=\"colab-df-container\">\n",
              "    <div>\n",
              "<style scoped>\n",
              "    .dataframe tbody tr th:only-of-type {\n",
              "        vertical-align: middle;\n",
              "    }\n",
              "\n",
              "    .dataframe tbody tr th {\n",
              "        vertical-align: top;\n",
              "    }\n",
              "\n",
              "    .dataframe thead th {\n",
              "        text-align: right;\n",
              "    }\n",
              "</style>\n",
              "<table border=\"1\" class=\"dataframe\">\n",
              "  <thead>\n",
              "    <tr style=\"text-align: right;\">\n",
              "      <th></th>\n",
              "      <th>words</th>\n",
              "      <th>tf</th>\n",
              "    </tr>\n",
              "  </thead>\n",
              "  <tbody>\n",
              "    <tr>\n",
              "      <th>27</th>\n",
              "      <td>card</td>\n",
              "      <td>5537.00</td>\n",
              "    </tr>\n",
              "    <tr>\n",
              "      <th>14</th>\n",
              "      <td>work</td>\n",
              "      <td>2044.00</td>\n",
              "    </tr>\n",
              "    <tr>\n",
              "      <th>7</th>\n",
              "      <td>phone</td>\n",
              "      <td>1909.00</td>\n",
              "    </tr>\n",
              "    <tr>\n",
              "      <th>28</th>\n",
              "      <td>gb</td>\n",
              "      <td>1756.00</td>\n",
              "    </tr>\n",
              "    <tr>\n",
              "      <th>91</th>\n",
              "      <td>great</td>\n",
              "      <td>1445.00</td>\n",
              "    </tr>\n",
              "    <tr>\n",
              "      <th>...</th>\n",
              "      <td>...</td>\n",
              "      <td>...</td>\n",
              "    </tr>\n",
              "    <tr>\n",
              "      <th>3666</th>\n",
              "      <td>problemi</td>\n",
              "      <td>2.00</td>\n",
              "    </tr>\n",
              "    <tr>\n",
              "      <th>3667</th>\n",
              "      <td>deliberately</td>\n",
              "      <td>2.00</td>\n",
              "    </tr>\n",
              "    <tr>\n",
              "      <th>3669</th>\n",
              "      <td>disappearing</td>\n",
              "      <td>2.00</td>\n",
              "    </tr>\n",
              "    <tr>\n",
              "      <th>3670</th>\n",
              "      <td>zenfolio</td>\n",
              "      <td>2.00</td>\n",
              "    </tr>\n",
              "    <tr>\n",
              "      <th>1098</th>\n",
              "      <td></td>\n",
              "      <td>1.00</td>\n",
              "    </tr>\n",
              "  </tbody>\n",
              "</table>\n",
              "<p>3688 rows × 2 columns</p>\n",
              "</div>\n",
              "    <div class=\"colab-df-buttons\">\n",
              "\n",
              "  <div class=\"colab-df-container\">\n",
              "    <button class=\"colab-df-convert\" onclick=\"convertToInteractive('df-11faa0eb-820d-4c50-87ac-2d7b9b47fbae')\"\n",
              "            title=\"Convert this dataframe to an interactive table.\"\n",
              "            style=\"display:none;\">\n",
              "\n",
              "  <svg xmlns=\"http://www.w3.org/2000/svg\" height=\"24px\" viewBox=\"0 -960 960 960\">\n",
              "    <path d=\"M120-120v-720h720v720H120Zm60-500h600v-160H180v160Zm220 220h160v-160H400v160Zm0 220h160v-160H400v160ZM180-400h160v-160H180v160Zm440 0h160v-160H620v160ZM180-180h160v-160H180v160Zm440 0h160v-160H620v160Z\"/>\n",
              "  </svg>\n",
              "    </button>\n",
              "\n",
              "  <style>\n",
              "    .colab-df-container {\n",
              "      display:flex;\n",
              "      gap: 12px;\n",
              "    }\n",
              "\n",
              "    .colab-df-convert {\n",
              "      background-color: #E8F0FE;\n",
              "      border: none;\n",
              "      border-radius: 50%;\n",
              "      cursor: pointer;\n",
              "      display: none;\n",
              "      fill: #1967D2;\n",
              "      height: 32px;\n",
              "      padding: 0 0 0 0;\n",
              "      width: 32px;\n",
              "    }\n",
              "\n",
              "    .colab-df-convert:hover {\n",
              "      background-color: #E2EBFA;\n",
              "      box-shadow: 0px 1px 2px rgba(60, 64, 67, 0.3), 0px 1px 3px 1px rgba(60, 64, 67, 0.15);\n",
              "      fill: #174EA6;\n",
              "    }\n",
              "\n",
              "    .colab-df-buttons div {\n",
              "      margin-bottom: 4px;\n",
              "    }\n",
              "\n",
              "    [theme=dark] .colab-df-convert {\n",
              "      background-color: #3B4455;\n",
              "      fill: #D2E3FC;\n",
              "    }\n",
              "\n",
              "    [theme=dark] .colab-df-convert:hover {\n",
              "      background-color: #434B5C;\n",
              "      box-shadow: 0px 1px 3px 1px rgba(0, 0, 0, 0.15);\n",
              "      filter: drop-shadow(0px 1px 2px rgba(0, 0, 0, 0.3));\n",
              "      fill: #FFFFFF;\n",
              "    }\n",
              "  </style>\n",
              "\n",
              "    <script>\n",
              "      const buttonEl =\n",
              "        document.querySelector('#df-11faa0eb-820d-4c50-87ac-2d7b9b47fbae button.colab-df-convert');\n",
              "      buttonEl.style.display =\n",
              "        google.colab.kernel.accessAllowed ? 'block' : 'none';\n",
              "\n",
              "      async function convertToInteractive(key) {\n",
              "        const element = document.querySelector('#df-11faa0eb-820d-4c50-87ac-2d7b9b47fbae');\n",
              "        const dataTable =\n",
              "          await google.colab.kernel.invokeFunction('convertToInteractive',\n",
              "                                                    [key], {});\n",
              "        if (!dataTable) return;\n",
              "\n",
              "        const docLinkHtml = 'Like what you see? Visit the ' +\n",
              "          '<a target=\"_blank\" href=https://colab.research.google.com/notebooks/data_table.ipynb>data table notebook</a>'\n",
              "          + ' to learn more about interactive tables.';\n",
              "        element.innerHTML = '';\n",
              "        dataTable['output_type'] = 'display_data';\n",
              "        await google.colab.output.renderOutput(dataTable, element);\n",
              "        const docLink = document.createElement('div');\n",
              "        docLink.innerHTML = docLinkHtml;\n",
              "        element.appendChild(docLink);\n",
              "      }\n",
              "    </script>\n",
              "  </div>\n",
              "\n",
              "\n",
              "<div id=\"df-86ed1114-77e9-492f-a7ed-3b4fb6700031\">\n",
              "  <button class=\"colab-df-quickchart\" onclick=\"quickchart('df-86ed1114-77e9-492f-a7ed-3b4fb6700031')\"\n",
              "            title=\"Suggest charts\"\n",
              "            style=\"display:none;\">\n",
              "\n",
              "<svg xmlns=\"http://www.w3.org/2000/svg\" height=\"24px\"viewBox=\"0 0 24 24\"\n",
              "     width=\"24px\">\n",
              "    <g>\n",
              "        <path d=\"M19 3H5c-1.1 0-2 .9-2 2v14c0 1.1.9 2 2 2h14c1.1 0 2-.9 2-2V5c0-1.1-.9-2-2-2zM9 17H7v-7h2v7zm4 0h-2V7h2v10zm4 0h-2v-4h2v4z\"/>\n",
              "    </g>\n",
              "</svg>\n",
              "  </button>\n",
              "\n",
              "<style>\n",
              "  .colab-df-quickchart {\n",
              "      --bg-color: #E8F0FE;\n",
              "      --fill-color: #1967D2;\n",
              "      --hover-bg-color: #E2EBFA;\n",
              "      --hover-fill-color: #174EA6;\n",
              "      --disabled-fill-color: #AAA;\n",
              "      --disabled-bg-color: #DDD;\n",
              "  }\n",
              "\n",
              "  [theme=dark] .colab-df-quickchart {\n",
              "      --bg-color: #3B4455;\n",
              "      --fill-color: #D2E3FC;\n",
              "      --hover-bg-color: #434B5C;\n",
              "      --hover-fill-color: #FFFFFF;\n",
              "      --disabled-bg-color: #3B4455;\n",
              "      --disabled-fill-color: #666;\n",
              "  }\n",
              "\n",
              "  .colab-df-quickchart {\n",
              "    background-color: var(--bg-color);\n",
              "    border: none;\n",
              "    border-radius: 50%;\n",
              "    cursor: pointer;\n",
              "    display: none;\n",
              "    fill: var(--fill-color);\n",
              "    height: 32px;\n",
              "    padding: 0;\n",
              "    width: 32px;\n",
              "  }\n",
              "\n",
              "  .colab-df-quickchart:hover {\n",
              "    background-color: var(--hover-bg-color);\n",
              "    box-shadow: 0 1px 2px rgba(60, 64, 67, 0.3), 0 1px 3px 1px rgba(60, 64, 67, 0.15);\n",
              "    fill: var(--button-hover-fill-color);\n",
              "  }\n",
              "\n",
              "  .colab-df-quickchart-complete:disabled,\n",
              "  .colab-df-quickchart-complete:disabled:hover {\n",
              "    background-color: var(--disabled-bg-color);\n",
              "    fill: var(--disabled-fill-color);\n",
              "    box-shadow: none;\n",
              "  }\n",
              "\n",
              "  .colab-df-spinner {\n",
              "    border: 2px solid var(--fill-color);\n",
              "    border-color: transparent;\n",
              "    border-bottom-color: var(--fill-color);\n",
              "    animation:\n",
              "      spin 1s steps(1) infinite;\n",
              "  }\n",
              "\n",
              "  @keyframes spin {\n",
              "    0% {\n",
              "      border-color: transparent;\n",
              "      border-bottom-color: var(--fill-color);\n",
              "      border-left-color: var(--fill-color);\n",
              "    }\n",
              "    20% {\n",
              "      border-color: transparent;\n",
              "      border-left-color: var(--fill-color);\n",
              "      border-top-color: var(--fill-color);\n",
              "    }\n",
              "    30% {\n",
              "      border-color: transparent;\n",
              "      border-left-color: var(--fill-color);\n",
              "      border-top-color: var(--fill-color);\n",
              "      border-right-color: var(--fill-color);\n",
              "    }\n",
              "    40% {\n",
              "      border-color: transparent;\n",
              "      border-right-color: var(--fill-color);\n",
              "      border-top-color: var(--fill-color);\n",
              "    }\n",
              "    60% {\n",
              "      border-color: transparent;\n",
              "      border-right-color: var(--fill-color);\n",
              "    }\n",
              "    80% {\n",
              "      border-color: transparent;\n",
              "      border-right-color: var(--fill-color);\n",
              "      border-bottom-color: var(--fill-color);\n",
              "    }\n",
              "    90% {\n",
              "      border-color: transparent;\n",
              "      border-bottom-color: var(--fill-color);\n",
              "    }\n",
              "  }\n",
              "</style>\n",
              "\n",
              "  <script>\n",
              "    async function quickchart(key) {\n",
              "      const quickchartButtonEl =\n",
              "        document.querySelector('#' + key + ' button');\n",
              "      quickchartButtonEl.disabled = true;  // To prevent multiple clicks.\n",
              "      quickchartButtonEl.classList.add('colab-df-spinner');\n",
              "      try {\n",
              "        const charts = await google.colab.kernel.invokeFunction(\n",
              "            'suggestCharts', [key], {});\n",
              "      } catch (error) {\n",
              "        console.error('Error during call to suggestCharts:', error);\n",
              "      }\n",
              "      quickchartButtonEl.classList.remove('colab-df-spinner');\n",
              "      quickchartButtonEl.classList.add('colab-df-quickchart-complete');\n",
              "    }\n",
              "    (() => {\n",
              "      let quickchartButtonEl =\n",
              "        document.querySelector('#df-86ed1114-77e9-492f-a7ed-3b4fb6700031 button');\n",
              "      quickchartButtonEl.style.display =\n",
              "        google.colab.kernel.accessAllowed ? 'block' : 'none';\n",
              "    })();\n",
              "  </script>\n",
              "</div>\n",
              "\n",
              "  <div id=\"id_94bea2e2-ee1c-4a54-8b49-77e2841465d2\">\n",
              "    <style>\n",
              "      .colab-df-generate {\n",
              "        background-color: #E8F0FE;\n",
              "        border: none;\n",
              "        border-radius: 50%;\n",
              "        cursor: pointer;\n",
              "        display: none;\n",
              "        fill: #1967D2;\n",
              "        height: 32px;\n",
              "        padding: 0 0 0 0;\n",
              "        width: 32px;\n",
              "      }\n",
              "\n",
              "      .colab-df-generate:hover {\n",
              "        background-color: #E2EBFA;\n",
              "        box-shadow: 0px 1px 2px rgba(60, 64, 67, 0.3), 0px 1px 3px 1px rgba(60, 64, 67, 0.15);\n",
              "        fill: #174EA6;\n",
              "      }\n",
              "\n",
              "      [theme=dark] .colab-df-generate {\n",
              "        background-color: #3B4455;\n",
              "        fill: #D2E3FC;\n",
              "      }\n",
              "\n",
              "      [theme=dark] .colab-df-generate:hover {\n",
              "        background-color: #434B5C;\n",
              "        box-shadow: 0px 1px 3px 1px rgba(0, 0, 0, 0.15);\n",
              "        filter: drop-shadow(0px 1px 2px rgba(0, 0, 0, 0.3));\n",
              "        fill: #FFFFFF;\n",
              "      }\n",
              "    </style>\n",
              "    <button class=\"colab-df-generate\" onclick=\"generateWithVariable('tf_sorted')\"\n",
              "            title=\"Generate code using this dataframe.\"\n",
              "            style=\"display:none;\">\n",
              "\n",
              "  <svg xmlns=\"http://www.w3.org/2000/svg\" height=\"24px\"viewBox=\"0 0 24 24\"\n",
              "       width=\"24px\">\n",
              "    <path d=\"M7,19H8.4L18.45,9,17,7.55,7,17.6ZM5,21V16.75L18.45,3.32a2,2,0,0,1,2.83,0l1.4,1.43a1.91,1.91,0,0,1,.58,1.4,1.91,1.91,0,0,1-.58,1.4L9.25,21ZM18.45,9,17,7.55Zm-12,3A5.31,5.31,0,0,0,4.9,8.1,5.31,5.31,0,0,0,1,6.5,5.31,5.31,0,0,0,4.9,4.9,5.31,5.31,0,0,0,6.5,1,5.31,5.31,0,0,0,8.1,4.9,5.31,5.31,0,0,0,12,6.5,5.46,5.46,0,0,0,6.5,12Z\"/>\n",
              "  </svg>\n",
              "    </button>\n",
              "    <script>\n",
              "      (() => {\n",
              "      const buttonEl =\n",
              "        document.querySelector('#id_94bea2e2-ee1c-4a54-8b49-77e2841465d2 button.colab-df-generate');\n",
              "      buttonEl.style.display =\n",
              "        google.colab.kernel.accessAllowed ? 'block' : 'none';\n",
              "\n",
              "      buttonEl.onclick = () => {\n",
              "        google.colab.notebook.generateWithVariable('tf_sorted');\n",
              "      }\n",
              "      })();\n",
              "    </script>\n",
              "  </div>\n",
              "\n",
              "    </div>\n",
              "  </div>\n"
            ],
            "application/vnd.google.colaboratory.intrinsic+json": {
              "type": "dataframe",
              "variable_name": "tf_sorted",
              "summary": "{\n  \"name\": \"tf_sorted\",\n  \"rows\": 3688,\n  \"fields\": [\n    {\n      \"column\": \"words\",\n      \"properties\": {\n        \"dtype\": \"string\",\n        \"num_unique_values\": 3688,\n        \"samples\": [\n          \"restore\",\n          \"terabyte\",\n          \"nook\"\n        ],\n        \"semantic_type\": \"\",\n        \"description\": \"\"\n      }\n    },\n    {\n      \"column\": \"tf\",\n      \"properties\": {\n        \"dtype\": \"number\",\n        \"std\": 140.40725844229712,\n        \"min\": 1.0,\n        \"max\": 5537.0,\n        \"num_unique_values\": 265,\n        \"samples\": [\n          88.0,\n          168.0,\n          201.0\n        ],\n        \"semantic_type\": \"\",\n        \"description\": \"\"\n      }\n    }\n  ]\n}"
            }
          },
          "metadata": {},
          "execution_count": 43
        }
      ],
      "source": [
        "tf_sorted"
      ]
    },
    {
      "source": [
        "# @title tf\n",
        "\n",
        "from matplotlib import pyplot as plt\n",
        "tf_sorted['tf'].plot(kind='hist', bins=20, title='tf')\n",
        "plt.gca().spines[['top', 'right',]].set_visible(False)"
      ],
      "cell_type": "code",
      "execution_count": 44,
      "outputs": [
        {
          "output_type": "display_data",
          "data": {
            "text/plain": [
              "<Figure size 640x480 with 1 Axes>"
            ],
            "image/png": "[encoded data removed]"
          },
          "metadata": {}
        }
      ],
      "metadata": {
        "colab": {
          "base_uri": "https://localhost:8080/",
          "height": 452
        },
        "id": "IJPSoV3UA_V6",
        "outputId": "8831858f-f530-4857-f03b-649996d4b57a"
      },
      "id": "IJPSoV3UA_V6"
    },
    {
      "cell_type": "code",
      "execution_count": 45,
      "id": "823efc46",
      "metadata": {
        "papermill": {
          "duration": 0.439391,
          "end_time": "2024-01-08T20:47:44.033455",
          "exception": false,
          "start_time": "2024-01-08T20:47:43.594064",
          "status": "completed"
        },
        "tags": [],
        "colab": {
          "base_uri": "https://localhost:8080/",
          "height": 498
        },
        "id": "823efc46",
        "outputId": "e203d02b-4694-4b64-9858-04340edbe1cd"
      },
      "outputs": [
        {
          "output_type": "display_data",
          "data": {
            "text/plain": [
              "<Figure size 640x480 with 1 Axes>"
            ],
            "image/png": "[encoded data removed]"
          },
          "metadata": {}
        }
      ],
      "source": [
        "tf[tf[\"tf\"] > 500].plot.bar(x=\"words\", y=\"tf\")\n",
        "plt.show(block=True)"
      ]
    },
    {
      "cell_type": "code",
      "execution_count": 46,
      "id": "5f8e8159",
      "metadata": {
        "papermill": {
          "duration": 1.21239,
          "end_time": "2024-01-08T20:47:45.397917",
          "exception": false,
          "start_time": "2024-01-08T20:47:44.185527",
          "status": "completed"
        },
        "tags": [],
        "colab": {
          "base_uri": "https://localhost:8080/",
          "height": 285
        },
        "id": "5f8e8159",
        "outputId": "b2feed1f-3422-47fd-e869-f801d9a0fd1f"
      },
      "outputs": [
        {
          "output_type": "display_data",
          "data": {
            "text/plain": [
              "<Figure size 640x480 with 1 Axes>"
            ],
            "image/png": "[encoded data removed]"
          },
          "metadata": {}
        }
      ],
      "source": [
        "text = \" \".join(i for i in df.reviewText)\n",
        "\n",
        "wordcloud = WordCloud().generate(text)\n",
        "plt.imshow(wordcloud, interpolation=\"bilinear\")\n",
        "plt.axis(\"off\")\n",
        "plt.show()"
      ]
    },
    {
      "cell_type": "code",
      "execution_count": 47,
      "id": "dd9af65e",
      "metadata": {
        "papermill": {
          "duration": 0.041683,
          "end_time": "2024-01-08T20:47:45.479951",
          "exception": false,
          "start_time": "2024-01-08T20:47:45.438268",
          "status": "completed"
        },
        "tags": [],
        "colab": {
          "base_uri": "https://localhost:8080/",
          "height": 302
        },
        "id": "dd9af65e",
        "outputId": "86bd6992-f467-4a18-e2ea-375572899144"
      },
      "outputs": [
        {
          "output_type": "display_data",
          "data": {
            "text/plain": [
              "<Figure size 640x480 with 1 Axes>"
            ],
            "image/png": "[encoded data removed]"
          },
          "metadata": {}
        },
        {
          "output_type": "execute_result",
          "data": {
            "text/plain": [
              "<wordcloud.wordcloud.WordCloud at 0x7a26909e7e80>"
            ]
          },
          "metadata": {},
          "execution_count": 47
        }
      ],
      "source": [
        "wordcloud = WordCloud(max_font_size=50,\n",
        "                      max_words=100,\n",
        "                      background_color=\"white\").generate(text)\n",
        "plt.figure()\n",
        "plt.imshow(wordcloud, interpolation=\"bilinear\")\n",
        "plt.axis(\"off\")\n",
        "plt.show()\n",
        "\n",
        "wordcloud.to_file(\"wordcloud.png\")"
      ]
    },
    {
      "cell_type": "code",
      "execution_count": 48,
      "id": "b593a6b3-5edf-4b66-bf5b-a387c12dac24",
      "metadata": {
        "colab": {
          "base_uri": "https://localhost:8080/"
        },
        "id": "b593a6b3-5edf-4b66-bf5b-a387c12dac24",
        "outputId": "752eccb1-7833-458f-cf94-e968d47a4bb0"
      },
      "outputs": [
        {
          "output_type": "stream",
          "name": "stdout",
          "text": [
            "Requirement already satisfied: numpy in /usr/local/lib/python3.10/dist-packages (1.26.4)\n",
            "Requirement already satisfied: pillow in /usr/local/lib/python3.10/dist-packages (9.4.0)\n",
            "Requirement already satisfied: wordcloud in /usr/local/lib/python3.10/dist-packages (1.9.3)\n",
            "Requirement already satisfied: matplotlib in /usr/local/lib/python3.10/dist-packages (3.7.1)\n",
            "Requirement already satisfied: contourpy>=1.0.1 in /usr/local/lib/python3.10/dist-packages (from matplotlib) (1.2.1)\n",
            "Requirement already satisfied: cycler>=0.10 in /usr/local/lib/python3.10/dist-packages (from matplotlib) (0.12.1)\n",
            "Requirement already satisfied: fonttools>=4.22.0 in /usr/local/lib/python3.10/dist-packages (from matplotlib) (4.53.1)\n",
            "Requirement already satisfied: kiwisolver>=1.0.1 in /usr/local/lib/python3.10/dist-packages (from matplotlib) (1.4.5)\n",
            "Requirement already satisfied: packaging>=20.0 in /usr/local/lib/python3.10/dist-packages (from matplotlib) (24.1)\n",
            "Requirement already satisfied: pyparsing>=2.3.1 in /usr/local/lib/python3.10/dist-packages (from matplotlib) (3.1.2)\n",
            "Requirement already satisfied: python-dateutil>=2.7 in /usr/local/lib/python3.10/dist-packages (from matplotlib) (2.8.2)\n",
            "Requirement already satisfied: six>=1.5 in /usr/local/lib/python3.10/dist-packages (from python-dateutil>=2.7->matplotlib) (1.16.0)\n"
          ]
        }
      ],
      "source": [
        "pip install numpy pillow wordcloud matplotlib"
      ]
    },
    {
      "cell_type": "code",
      "execution_count": 49,
      "id": "edf79a10",
      "metadata": {
        "papermill": {
          "duration": 0.044316,
          "end_time": "2024-01-08T20:47:45.867545",
          "exception": false,
          "start_time": "2024-01-08T20:47:45.823229",
          "status": "completed"
        },
        "tags": [],
        "colab": {
          "base_uri": "https://localhost:8080/"
        },
        "id": "edf79a10",
        "outputId": "685b7bd4-2cfe-4bbb-e105-ea967a09e100"
      },
      "outputs": [
        {
          "output_type": "stream",
          "name": "stderr",
          "text": [
            "[nltk_data] Downloading package vader_lexicon to /root/nltk_data...\n"
          ]
        },
        {
          "output_type": "execute_result",
          "data": {
            "text/plain": [
              "True"
            ]
          },
          "metadata": {},
          "execution_count": 49
        }
      ],
      "source": [
        "nltk.download('vader_lexicon')"
      ]
    },
    {
      "cell_type": "code",
      "execution_count": 50,
      "id": "50997f81",
      "metadata": {
        "papermill": {
          "duration": 0.042885,
          "end_time": "2024-01-08T20:47:45.941552",
          "exception": false,
          "start_time": "2024-01-08T20:47:45.898667",
          "status": "completed"
        },
        "tags": [],
        "colab": {
          "base_uri": "https://localhost:8080/",
          "height": 241
        },
        "id": "50997f81",
        "outputId": "071a6fa1-ba22-40e1-a2e0-30dd90cd739b"
      },
      "outputs": [
        {
          "output_type": "execute_result",
          "data": {
            "text/plain": [
              "0                                                issue\n",
              "1    purchased device worked advertised never much ...\n",
              "2    work expected higher capacity think made bit e...\n",
              "3    think worked gb card went south one held prett...\n",
              "4    bought retail packaging arrived legit envelope...\n",
              "Name: reviewText, dtype: object"
            ],
            "text/html": [
              "<div>\n",
              "<style scoped>\n",
              "    .dataframe tbody tr th:only-of-type {\n",
              "        vertical-align: middle;\n",
              "    }\n",
              "\n",
              "    .dataframe tbody tr th {\n",
              "        vertical-align: top;\n",
              "    }\n",
              "\n",
              "    .dataframe thead th {\n",
              "        text-align: right;\n",
              "    }\n",
              "</style>\n",
              "<table border=\"1\" class=\"dataframe\">\n",
              "  <thead>\n",
              "    <tr style=\"text-align: right;\">\n",
              "      <th></th>\n",
              "      <th>reviewText</th>\n",
              "    </tr>\n",
              "  </thead>\n",
              "  <tbody>\n",
              "    <tr>\n",
              "      <th>0</th>\n",
              "      <td>issue</td>\n",
              "    </tr>\n",
              "    <tr>\n",
              "      <th>1</th>\n",
              "      <td>purchased device worked advertised never much ...</td>\n",
              "    </tr>\n",
              "    <tr>\n",
              "      <th>2</th>\n",
              "      <td>work expected higher capacity think made bit e...</td>\n",
              "    </tr>\n",
              "    <tr>\n",
              "      <th>3</th>\n",
              "      <td>think worked gb card went south one held prett...</td>\n",
              "    </tr>\n",
              "    <tr>\n",
              "      <th>4</th>\n",
              "      <td>bought retail packaging arrived legit envelope...</td>\n",
              "    </tr>\n",
              "  </tbody>\n",
              "</table>\n",
              "</div><br><label><b>dtype:</b> object</label>"
            ]
          },
          "metadata": {},
          "execution_count": 50
        }
      ],
      "source": [
        "df[\"reviewText\"].head()"
      ]
    },
    {
      "cell_type": "code",
      "execution_count": 51,
      "id": "df102c78",
      "metadata": {
        "papermill": {
          "duration": 0.049468,
          "end_time": "2024-01-08T20:47:46.021737",
          "exception": false,
          "start_time": "2024-01-08T20:47:45.972269",
          "status": "completed"
        },
        "tags": [],
        "id": "df102c78"
      },
      "outputs": [],
      "source": [
        "sia = SentimentIntensityAnalyzer()"
      ]
    },
    {
      "cell_type": "code",
      "execution_count": 52,
      "id": "e4cd97c3",
      "metadata": {
        "papermill": {
          "duration": 0.043523,
          "end_time": "2024-01-08T20:47:46.096534",
          "exception": false,
          "start_time": "2024-01-08T20:47:46.053011",
          "status": "completed"
        },
        "tags": [],
        "colab": {
          "base_uri": "https://localhost:8080/"
        },
        "id": "e4cd97c3",
        "outputId": "50ee8538-a797-4e6e-cb76-c719a42d357b"
      },
      "outputs": [
        {
          "output_type": "execute_result",
          "data": {
            "text/plain": [
              "{'neg': 0.0, 'neu': 0.423, 'pos': 0.577, 'compound': 0.6249}"
            ]
          },
          "metadata": {},
          "execution_count": 52
        }
      ],
      "source": [
        "sia.polarity_scores(\"The film was awesome\")"
      ]
    },
    {
      "cell_type": "markdown",
      "id": "dba83cc5",
      "metadata": {
        "papermill": {
          "duration": 0.032704,
          "end_time": "2024-01-08T20:47:46.161559",
          "exception": false,
          "start_time": "2024-01-08T20:47:46.128855",
          "status": "completed"
        },
        "tags": [],
        "id": "dba83cc5"
      },
      "source": [
        "**'compound': 0.6249**"
      ]
    },
    {
      "cell_type": "code",
      "execution_count": 53,
      "id": "747f35af",
      "metadata": {
        "papermill": {
          "duration": 0.042132,
          "end_time": "2024-01-08T20:47:46.235312",
          "exception": false,
          "start_time": "2024-01-08T20:47:46.193180",
          "status": "completed"
        },
        "tags": [],
        "colab": {
          "base_uri": "https://localhost:8080/"
        },
        "id": "747f35af",
        "outputId": "861d14aa-72a0-4718-c95a-b4abaa3366b4"
      },
      "outputs": [
        {
          "output_type": "execute_result",
          "data": {
            "text/plain": [
              "{'neg': 0.207, 'neu': 0.666, 'pos': 0.127, 'compound': -0.298}"
            ]
          },
          "metadata": {},
          "execution_count": 53
        }
      ],
      "source": [
        "sia.polarity_scores(\"I liked this music but it is not good as the other one\")"
      ]
    },
    {
      "cell_type": "markdown",
      "id": "2523c065",
      "metadata": {
        "papermill": {
          "duration": 0.032,
          "end_time": "2024-01-08T20:47:46.298545",
          "exception": false,
          "start_time": "2024-01-08T20:47:46.266545",
          "status": "completed"
        },
        "tags": [],
        "id": "2523c065"
      },
      "source": [
        "**'compound': -0.298**"
      ]
    },
    {
      "cell_type": "code",
      "execution_count": 54,
      "id": "06fbbeef",
      "metadata": {
        "papermill": {
          "duration": 0.046434,
          "end_time": "2024-01-08T20:47:46.376943",
          "exception": false,
          "start_time": "2024-01-08T20:47:46.330509",
          "status": "completed"
        },
        "tags": [],
        "colab": {
          "base_uri": "https://localhost:8080/",
          "height": 398
        },
        "id": "06fbbeef",
        "outputId": "1cb02d6f-b748-46e9-d0e7-cca33896a9c9"
      },
      "outputs": [
        {
          "output_type": "execute_result",
          "data": {
            "text/plain": [
              "0    {'neg': 0.0, 'neu': 1.0, 'pos': 0.0, 'compound...\n",
              "1    {'neg': 0.0, 'neu': 1.0, 'pos': 0.0, 'compound...\n",
              "2    {'neg': 0.0, 'neu': 0.803, 'pos': 0.197, 'comp...\n",
              "3    {'neg': 0.0, 'neu': 0.798, 'pos': 0.202, 'comp...\n",
              "4    {'neg': 0.0, 'neu': 0.747, 'pos': 0.253, 'comp...\n",
              "5    {'neg': 0.0, 'neu': 1.0, 'pos': 0.0, 'compound...\n",
              "6    {'neg': 0.108, 'neu': 0.598, 'pos': 0.295, 'co...\n",
              "7    {'neg': 0.077, 'neu': 0.65, 'pos': 0.272, 'com...\n",
              "8    {'neg': 0.0, 'neu': 1.0, 'pos': 0.0, 'compound...\n",
              "9    {'neg': 0.0, 'neu': 0.457, 'pos': 0.543, 'comp...\n",
              "Name: reviewText, dtype: object"
            ],
            "text/html": [
              "<div>\n",
              "<style scoped>\n",
              "    .dataframe tbody tr th:only-of-type {\n",
              "        vertical-align: middle;\n",
              "    }\n",
              "\n",
              "    .dataframe tbody tr th {\n",
              "        vertical-align: top;\n",
              "    }\n",
              "\n",
              "    .dataframe thead th {\n",
              "        text-align: right;\n",
              "    }\n",
              "</style>\n",
              "<table border=\"1\" class=\"dataframe\">\n",
              "  <thead>\n",
              "    <tr style=\"text-align: right;\">\n",
              "      <th></th>\n",
              "      <th>reviewText</th>\n",
              "    </tr>\n",
              "  </thead>\n",
              "  <tbody>\n",
              "    <tr>\n",
              "      <th>0</th>\n",
              "      <td>{'neg': 0.0, 'neu': 1.0, 'pos': 0.0, 'compound...</td>\n",
              "    </tr>\n",
              "    <tr>\n",
              "      <th>1</th>\n",
              "      <td>{'neg': 0.0, 'neu': 1.0, 'pos': 0.0, 'compound...</td>\n",
              "    </tr>\n",
              "    <tr>\n",
              "      <th>2</th>\n",
              "      <td>{'neg': 0.0, 'neu': 0.803, 'pos': 0.197, 'comp...</td>\n",
              "    </tr>\n",
              "    <tr>\n",
              "      <th>3</th>\n",
              "      <td>{'neg': 0.0, 'neu': 0.798, 'pos': 0.202, 'comp...</td>\n",
              "    </tr>\n",
              "    <tr>\n",
              "      <th>4</th>\n",
              "      <td>{'neg': 0.0, 'neu': 0.747, 'pos': 0.253, 'comp...</td>\n",
              "    </tr>\n",
              "    <tr>\n",
              "      <th>5</th>\n",
              "      <td>{'neg': 0.0, 'neu': 1.0, 'pos': 0.0, 'compound...</td>\n",
              "    </tr>\n",
              "    <tr>\n",
              "      <th>6</th>\n",
              "      <td>{'neg': 0.108, 'neu': 0.598, 'pos': 0.295, 'co...</td>\n",
              "    </tr>\n",
              "    <tr>\n",
              "      <th>7</th>\n",
              "      <td>{'neg': 0.077, 'neu': 0.65, 'pos': 0.272, 'com...</td>\n",
              "    </tr>\n",
              "    <tr>\n",
              "      <th>8</th>\n",
              "      <td>{'neg': 0.0, 'neu': 1.0, 'pos': 0.0, 'compound...</td>\n",
              "    </tr>\n",
              "    <tr>\n",
              "      <th>9</th>\n",
              "      <td>{'neg': 0.0, 'neu': 0.457, 'pos': 0.543, 'comp...</td>\n",
              "    </tr>\n",
              "  </tbody>\n",
              "</table>\n",
              "</div><br><label><b>dtype:</b> object</label>"
            ]
          },
          "metadata": {},
          "execution_count": 54
        }
      ],
      "source": [
        "df[\"reviewText\"][0:10].apply(lambda x: sia.polarity_scores(x))"
      ]
    },
    {
      "cell_type": "code",
      "execution_count": 55,
      "id": "1b13b587",
      "metadata": {
        "papermill": {
          "duration": 0.047131,
          "end_time": "2024-01-08T20:47:46.456141",
          "exception": false,
          "start_time": "2024-01-08T20:47:46.409010",
          "status": "completed"
        },
        "tags": [],
        "colab": {
          "base_uri": "https://localhost:8080/",
          "height": 398
        },
        "id": "1b13b587",
        "outputId": "702660aa-20c1-4dfc-b508-0e65f38978ea"
      },
      "outputs": [
        {
          "output_type": "execute_result",
          "data": {
            "text/plain": [
              "0   0.00\n",
              "1   0.00\n",
              "2   0.40\n",
              "3   0.65\n",
              "4   0.86\n",
              "5   0.00\n",
              "6   0.87\n",
              "7   0.82\n",
              "8   0.00\n",
              "9   0.92\n",
              "Name: reviewText, dtype: float64"
            ],
            "text/html": [
              "<div>\n",
              "<style scoped>\n",
              "    .dataframe tbody tr th:only-of-type {\n",
              "        vertical-align: middle;\n",
              "    }\n",
              "\n",
              "    .dataframe tbody tr th {\n",
              "        vertical-align: top;\n",
              "    }\n",
              "\n",
              "    .dataframe thead th {\n",
              "        text-align: right;\n",
              "    }\n",
              "</style>\n",
              "<table border=\"1\" class=\"dataframe\">\n",
              "  <thead>\n",
              "    <tr style=\"text-align: right;\">\n",
              "      <th></th>\n",
              "      <th>reviewText</th>\n",
              "    </tr>\n",
              "  </thead>\n",
              "  <tbody>\n",
              "    <tr>\n",
              "      <th>0</th>\n",
              "      <td>0.00</td>\n",
              "    </tr>\n",
              "    <tr>\n",
              "      <th>1</th>\n",
              "      <td>0.00</td>\n",
              "    </tr>\n",
              "    <tr>\n",
              "      <th>2</th>\n",
              "      <td>0.40</td>\n",
              "    </tr>\n",
              "    <tr>\n",
              "      <th>3</th>\n",
              "      <td>0.65</td>\n",
              "    </tr>\n",
              "    <tr>\n",
              "      <th>4</th>\n",
              "      <td>0.86</td>\n",
              "    </tr>\n",
              "    <tr>\n",
              "      <th>5</th>\n",
              "      <td>0.00</td>\n",
              "    </tr>\n",
              "    <tr>\n",
              "      <th>6</th>\n",
              "      <td>0.87</td>\n",
              "    </tr>\n",
              "    <tr>\n",
              "      <th>7</th>\n",
              "      <td>0.82</td>\n",
              "    </tr>\n",
              "    <tr>\n",
              "      <th>8</th>\n",
              "      <td>0.00</td>\n",
              "    </tr>\n",
              "    <tr>\n",
              "      <th>9</th>\n",
              "      <td>0.92</td>\n",
              "    </tr>\n",
              "  </tbody>\n",
              "</table>\n",
              "</div><br><label><b>dtype:</b> float64</label>"
            ]
          },
          "metadata": {},
          "execution_count": 55
        }
      ],
      "source": [
        "df[\"reviewText\"][0:10].apply(lambda x: sia.polarity_scores(x)[\"compound\"])"
      ]
    },
    {
      "cell_type": "code",
      "execution_count": 56,
      "id": "347b3a7e",
      "metadata": {
        "papermill": {
          "duration": 1.604042,
          "end_time": "2024-01-08T20:47:48.091666",
          "exception": false,
          "start_time": "2024-01-08T20:47:46.487624",
          "status": "completed"
        },
        "tags": [],
        "id": "347b3a7e"
      },
      "outputs": [],
      "source": [
        "df[\"polarity_score\"] = df[\"reviewText\"].apply(lambda x: sia.polarity_scores(x)[\"compound\"])"
      ]
    },
    {
      "cell_type": "code",
      "execution_count": 57,
      "id": "6d2ad07a",
      "metadata": {
        "papermill": {
          "duration": 0.053619,
          "end_time": "2024-01-08T20:47:48.176855",
          "exception": false,
          "start_time": "2024-01-08T20:47:48.123236",
          "status": "completed"
        },
        "tags": [],
        "colab": {
          "base_uri": "https://localhost:8080/",
          "height": 1000
        },
        "id": "6d2ad07a",
        "outputId": "24a05422-aec9-49e4-c6a1-48cfb946a3ed"
      },
      "outputs": [
        {
          "output_type": "execute_result",
          "data": {
            "text/plain": [
              "        reviewerID        asin                                      reviewerName helpful                                         reviewText  overall  \\\n",
              "0   A3SBTW3WS4IQSN  B007WTAJTO                                               NaN  [0, 0]                                              issue     4.00   \n",
              "1   A18K1ODH1I2MVB  B007WTAJTO                                              0mie  [0, 0]  purchased device worked advertised never much ...     5.00   \n",
              "2   A2FII3I2MBMUIA  B007WTAJTO                                               1K3  [0, 0]  work expected higher capacity think made bit e...     4.00   \n",
              "3    A3H99DFEG68SR  B007WTAJTO                                               1m2  [0, 0]  think worked gb card went south one held prett...     5.00   \n",
              "4   A375ZM4U047O79  B007WTAJTO                                      2&amp;1/2Men  [0, 0]  bought retail packaging arrived legit envelope...     5.00   \n",
              "5   A2IDCSC6NVONIZ  B007WTAJTO                                           2Cents!  [0, 0]  mini storage doesnt anything else supposed pur...     5.00   \n",
              "6   A26YHXZD5UFPVQ  B007WTAJTO                                        2K1Toaster  [0, 0]  phone never skip beat file transfer speedy cor...     5.00   \n",
              "7   A3CW0ZLUO5X2B1  B007WTAJTO  35-year Technology Consumer \"8-tracks to 802.11\"  [0, 0]  hard believe affordable digital become gb devi...     5.00   \n",
              "8   A2CYJO155QP33S  B007WTAJTO                                         4evryoung  [1, 1]  work htc rezound running short space gb sandis...     5.00   \n",
              "9   A2S7XG3ZC4VGOQ  B007WTAJTO                                          53rdcard  [0, 0]  galaxy super fast card totally happy happy sti...     5.00   \n",
              "10  A1RTQROTWR5NCB  B007WTAJTO                                         808TREX50  [0, 0]  like sd card take music video downloads person...     5.00   \n",
              "11  A2Q3ICGWZLY3JJ  B007WTAJTO                                             98020  [0, 0]  work file writes bit slower expected usb read ...     3.00   \n",
              "12   AN2VFTXYW1SZU  B007WTAJTO                                            9z4cda  [0, 0]                          name speaks go sandisk go     5.00   \n",
              "13   AVHN134ADVP4R  B007WTAJTO                              A4Q96 \"Gadget Lover\"  [0, 0]  solid sdhc card fast reading writing fast reco...     5.00   \n",
              "14   A3EA7KGYC8LB0  B007WTAJTO                                     Aaron \"Aaron\"  [0, 0]  heard card write speed insufficient however us...     5.00   \n",
              "15  A29RI184HRX66H  B007WTAJTO                                     Aaron \"Aaron\"  [0, 0]  bought use go pro hero black edition requires ...     5.00   \n",
              "16  A2G9ZHVA6IOGBY  B007WTAJTO                                     Aaron Alvarez  [0, 0]  got gb one filled kept getting insufficient di...     5.00   \n",
              "17  A1OATGH4DF0RF0  B007WTAJTO                                 Aaron F. Virginie  [0, 1]  class speed rating seamless full hd sandisk ul...     5.00   \n",
              "18  A1V6CQACZ9IOLC  B007WTAJTO                                      Aaron Graves  [0, 0]  read write speed better samsung sd card previo...     5.00   \n",
              "19  A2ELBSIZ26GKM2  B007WTAJTO                                             Aaron  [0, 0]  work video stuttering like gb blah blah blah b...     5.00   \n",
              "\n",
              "                                              summary  unixReviewTime  reviewTime  day_diff  helpful_yes  total_vote  polarity_score  \n",
              "0                                          Four Stars      1406073600  2014-07-23       138            0           0            0.00  \n",
              "1                                       MOAR SPACE!!!      1382659200  2013-10-25       409            0           0            0.00  \n",
              "2                           nothing to really say....      1356220800  2012-12-23       715            0           0            0.40  \n",
              "3              Great buy at this price!!!  *** UPDATE      1384992000  2013-11-21       382            0           0            0.65  \n",
              "4                                    best deal around      1373673600  2013-07-13       513            0           0            0.86  \n",
              "5                         Not a lot to really be said      1367193600  2013-04-29       588            0           0            0.00  \n",
              "6                                          Works well      1382140800  2013-10-19       415            0           0            0.87  \n",
              "7   32 GB for less than two sawbucks...what's not ...      1404950400  2014-10-07        62            0           0            0.82  \n",
              "8                                       Loads of room      1395619200  2014-03-24       259            1           1            0.00  \n",
              "9                                         works great      1381449600  2013-11-10       393            0           0            0.92  \n",
              "10                                 32GB MicroSD Card.      1368230400  2013-11-05       398            0           0            0.94  \n",
              "11              It works, but not as fast as expected      1384905600  2013-11-20       383            0           0            0.00  \n",
              "12                               A RENOUND NAME BRAND      1404432000  2014-04-07       245            0           0            0.00  \n",
              "13                                    Great SDHC card      1384992000  2013-11-21       382            0           0            0.82  \n",
              "14                  Use it for my GoPro Hero 3+ Black      1392595200  2014-02-17       294            0           0            0.31  \n",
              "15                    Awesome price, great brand name      1357257600  2013-04-01       616            0           0            0.72  \n",
              "16                                  great price. fast      1393718400  2014-02-03       308            0           0            0.85  \n",
              "17                                Get Fast Load Times      1372896000  2013-04-07       610            0           1            0.90  \n",
              "18                     Very good little Micro SD card      1398988800  2014-02-05       306            0           0            0.85  \n",
              "19                                              works      1389052800  2014-07-01       160            0           0           -0.34  "
            ],
            "text/html": [
              "\n",
              "  <div id=\"df-a7e76f94-f846-4169-aa14-254d1b6726fa\" class=\"colab-df-container\">\n",
              "    <div>\n",
              "<style scoped>\n",
              "    .dataframe tbody tr th:only-of-type {\n",
              "        vertical-align: middle;\n",
              "    }\n",
              "\n",
              "    .dataframe tbody tr th {\n",
              "        vertical-align: top;\n",
              "    }\n",
              "\n",
              "    .dataframe thead th {\n",
              "        text-align: right;\n",
              "    }\n",
              "</style>\n",
              "<table border=\"1\" class=\"dataframe\">\n",
              "  <thead>\n",
              "    <tr style=\"text-align: right;\">\n",
              "      <th></th>\n",
              "      <th>reviewerID</th>\n",
              "      <th>asin</th>\n",
              "      <th>reviewerName</th>\n",
              "      <th>helpful</th>\n",
              "      <th>reviewText</th>\n",
              "      <th>overall</th>\n",
              "      <th>summary</th>\n",
              "      <th>unixReviewTime</th>\n",
              "      <th>reviewTime</th>\n",
              "      <th>day_diff</th>\n",
              "      <th>helpful_yes</th>\n",
              "      <th>total_vote</th>\n",
              "      <th>polarity_score</th>\n",
              "    </tr>\n",
              "  </thead>\n",
              "  <tbody>\n",
              "    <tr>\n",
              "      <th>0</th>\n",
              "      <td>A3SBTW3WS4IQSN</td>\n",
              "      <td>B007WTAJTO</td>\n",
              "      <td>NaN</td>\n",
              "      <td>[0, 0]</td>\n",
              "      <td>issue</td>\n",
              "      <td>4.00</td>\n",
              "      <td>Four Stars</td>\n",
              "      <td>1406073600</td>\n",
              "      <td>2014-07-23</td>\n",
              "      <td>138</td>\n",
              "      <td>0</td>\n",
              "      <td>0</td>\n",
              "      <td>0.00</td>\n",
              "    </tr>\n",
              "    <tr>\n",
              "      <th>1</th>\n",
              "      <td>A18K1ODH1I2MVB</td>\n",
              "      <td>B007WTAJTO</td>\n",
              "      <td>0mie</td>\n",
              "      <td>[0, 0]</td>\n",
              "      <td>purchased device worked advertised never much ...</td>\n",
              "      <td>5.00</td>\n",
              "      <td>MOAR SPACE!!!</td>\n",
              "      <td>1382659200</td>\n",
              "      <td>2013-10-25</td>\n",
              "      <td>409</td>\n",
              "      <td>0</td>\n",
              "      <td>0</td>\n",
              "      <td>0.00</td>\n",
              "    </tr>\n",
              "    <tr>\n",
              "      <th>2</th>\n",
              "      <td>A2FII3I2MBMUIA</td>\n",
              "      <td>B007WTAJTO</td>\n",
              "      <td>1K3</td>\n",
              "      <td>[0, 0]</td>\n",
              "      <td>work expected higher capacity think made bit e...</td>\n",
              "      <td>4.00</td>\n",
              "      <td>nothing to really say....</td>\n",
              "      <td>1356220800</td>\n",
              "      <td>2012-12-23</td>\n",
              "      <td>715</td>\n",
              "      <td>0</td>\n",
              "      <td>0</td>\n",
              "      <td>0.40</td>\n",
              "    </tr>\n",
              "    <tr>\n",
              "      <th>3</th>\n",
              "      <td>A3H99DFEG68SR</td>\n",
              "      <td>B007WTAJTO</td>\n",
              "      <td>1m2</td>\n",
              "      <td>[0, 0]</td>\n",
              "      <td>think worked gb card went south one held prett...</td>\n",
              "      <td>5.00</td>\n",
              "      <td>Great buy at this price!!!  *** UPDATE</td>\n",
              "      <td>1384992000</td>\n",
              "      <td>2013-11-21</td>\n",
              "      <td>382</td>\n",
              "      <td>0</td>\n",
              "      <td>0</td>\n",
              "      <td>0.65</td>\n",
              "    </tr>\n",
              "    <tr>\n",
              "      <th>4</th>\n",
              "      <td>A375ZM4U047O79</td>\n",
              "      <td>B007WTAJTO</td>\n",
              "      <td>2&amp;amp;1/2Men</td>\n",
              "      <td>[0, 0]</td>\n",
              "      <td>bought retail packaging arrived legit envelope...</td>\n",
              "      <td>5.00</td>\n",
              "      <td>best deal around</td>\n",
              "      <td>1373673600</td>\n",
              "      <td>2013-07-13</td>\n",
              "      <td>513</td>\n",
              "      <td>0</td>\n",
              "      <td>0</td>\n",
              "      <td>0.86</td>\n",
              "    </tr>\n",
              "    <tr>\n",
              "      <th>5</th>\n",
              "      <td>A2IDCSC6NVONIZ</td>\n",
              "      <td>B007WTAJTO</td>\n",
              "      <td>2Cents!</td>\n",
              "      <td>[0, 0]</td>\n",
              "      <td>mini storage doesnt anything else supposed pur...</td>\n",
              "      <td>5.00</td>\n",
              "      <td>Not a lot to really be said</td>\n",
              "      <td>1367193600</td>\n",
              "      <td>2013-04-29</td>\n",
              "      <td>588</td>\n",
              "      <td>0</td>\n",
              "      <td>0</td>\n",
              "      <td>0.00</td>\n",
              "    </tr>\n",
              "    <tr>\n",
              "      <th>6</th>\n",
              "      <td>A26YHXZD5UFPVQ</td>\n",
              "      <td>B007WTAJTO</td>\n",
              "      <td>2K1Toaster</td>\n",
              "      <td>[0, 0]</td>\n",
              "      <td>phone never skip beat file transfer speedy cor...</td>\n",
              "      <td>5.00</td>\n",
              "      <td>Works well</td>\n",
              "      <td>1382140800</td>\n",
              "      <td>2013-10-19</td>\n",
              "      <td>415</td>\n",
              "      <td>0</td>\n",
              "      <td>0</td>\n",
              "      <td>0.87</td>\n",
              "    </tr>\n",
              "    <tr>\n",
              "      <th>7</th>\n",
              "      <td>A3CW0ZLUO5X2B1</td>\n",
              "      <td>B007WTAJTO</td>\n",
              "      <td>35-year Technology Consumer \"8-tracks to 802.11\"</td>\n",
              "      <td>[0, 0]</td>\n",
              "      <td>hard believe affordable digital become gb devi...</td>\n",
              "      <td>5.00</td>\n",
              "      <td>32 GB for less than two sawbucks...what's not ...</td>\n",
              "      <td>1404950400</td>\n",
              "      <td>2014-10-07</td>\n",
              "      <td>62</td>\n",
              "      <td>0</td>\n",
              "      <td>0</td>\n",
              "      <td>0.82</td>\n",
              "    </tr>\n",
              "    <tr>\n",
              "      <th>8</th>\n",
              "      <td>A2CYJO155QP33S</td>\n",
              "      <td>B007WTAJTO</td>\n",
              "      <td>4evryoung</td>\n",
              "      <td>[1, 1]</td>\n",
              "      <td>work htc rezound running short space gb sandis...</td>\n",
              "      <td>5.00</td>\n",
              "      <td>Loads of room</td>\n",
              "      <td>1395619200</td>\n",
              "      <td>2014-03-24</td>\n",
              "      <td>259</td>\n",
              "      <td>1</td>\n",
              "      <td>1</td>\n",
              "      <td>0.00</td>\n",
              "    </tr>\n",
              "    <tr>\n",
              "      <th>9</th>\n",
              "      <td>A2S7XG3ZC4VGOQ</td>\n",
              "      <td>B007WTAJTO</td>\n",
              "      <td>53rdcard</td>\n",
              "      <td>[0, 0]</td>\n",
              "      <td>galaxy super fast card totally happy happy sti...</td>\n",
              "      <td>5.00</td>\n",
              "      <td>works great</td>\n",
              "      <td>1381449600</td>\n",
              "      <td>2013-11-10</td>\n",
              "      <td>393</td>\n",
              "      <td>0</td>\n",
              "      <td>0</td>\n",
              "      <td>0.92</td>\n",
              "    </tr>\n",
              "    <tr>\n",
              "      <th>10</th>\n",
              "      <td>A1RTQROTWR5NCB</td>\n",
              "      <td>B007WTAJTO</td>\n",
              "      <td>808TREX50</td>\n",
              "      <td>[0, 0]</td>\n",
              "      <td>like sd card take music video downloads person...</td>\n",
              "      <td>5.00</td>\n",
              "      <td>32GB MicroSD Card.</td>\n",
              "      <td>1368230400</td>\n",
              "      <td>2013-11-05</td>\n",
              "      <td>398</td>\n",
              "      <td>0</td>\n",
              "      <td>0</td>\n",
              "      <td>0.94</td>\n",
              "    </tr>\n",
              "    <tr>\n",
              "      <th>11</th>\n",
              "      <td>A2Q3ICGWZLY3JJ</td>\n",
              "      <td>B007WTAJTO</td>\n",
              "      <td>98020</td>\n",
              "      <td>[0, 0]</td>\n",
              "      <td>work file writes bit slower expected usb read ...</td>\n",
              "      <td>3.00</td>\n",
              "      <td>It works, but not as fast as expected</td>\n",
              "      <td>1384905600</td>\n",
              "      <td>2013-11-20</td>\n",
              "      <td>383</td>\n",
              "      <td>0</td>\n",
              "      <td>0</td>\n",
              "      <td>0.00</td>\n",
              "    </tr>\n",
              "    <tr>\n",
              "      <th>12</th>\n",
              "      <td>AN2VFTXYW1SZU</td>\n",
              "      <td>B007WTAJTO</td>\n",
              "      <td>9z4cda</td>\n",
              "      <td>[0, 0]</td>\n",
              "      <td>name speaks go sandisk go</td>\n",
              "      <td>5.00</td>\n",
              "      <td>A RENOUND NAME BRAND</td>\n",
              "      <td>1404432000</td>\n",
              "      <td>2014-04-07</td>\n",
              "      <td>245</td>\n",
              "      <td>0</td>\n",
              "      <td>0</td>\n",
              "      <td>0.00</td>\n",
              "    </tr>\n",
              "    <tr>\n",
              "      <th>13</th>\n",
              "      <td>AVHN134ADVP4R</td>\n",
              "      <td>B007WTAJTO</td>\n",
              "      <td>A4Q96 \"Gadget Lover\"</td>\n",
              "      <td>[0, 0]</td>\n",
              "      <td>solid sdhc card fast reading writing fast reco...</td>\n",
              "      <td>5.00</td>\n",
              "      <td>Great SDHC card</td>\n",
              "      <td>1384992000</td>\n",
              "      <td>2013-11-21</td>\n",
              "      <td>382</td>\n",
              "      <td>0</td>\n",
              "      <td>0</td>\n",
              "      <td>0.82</td>\n",
              "    </tr>\n",
              "    <tr>\n",
              "      <th>14</th>\n",
              "      <td>A3EA7KGYC8LB0</td>\n",
              "      <td>B007WTAJTO</td>\n",
              "      <td>Aaron \"Aaron\"</td>\n",
              "      <td>[0, 0]</td>\n",
              "      <td>heard card write speed insufficient however us...</td>\n",
              "      <td>5.00</td>\n",
              "      <td>Use it for my GoPro Hero 3+ Black</td>\n",
              "      <td>1392595200</td>\n",
              "      <td>2014-02-17</td>\n",
              "      <td>294</td>\n",
              "      <td>0</td>\n",
              "      <td>0</td>\n",
              "      <td>0.31</td>\n",
              "    </tr>\n",
              "    <tr>\n",
              "      <th>15</th>\n",
              "      <td>A29RI184HRX66H</td>\n",
              "      <td>B007WTAJTO</td>\n",
              "      <td>Aaron \"Aaron\"</td>\n",
              "      <td>[0, 0]</td>\n",
              "      <td>bought use go pro hero black edition requires ...</td>\n",
              "      <td>5.00</td>\n",
              "      <td>Awesome price, great brand name</td>\n",
              "      <td>1357257600</td>\n",
              "      <td>2013-04-01</td>\n",
              "      <td>616</td>\n",
              "      <td>0</td>\n",
              "      <td>0</td>\n",
              "      <td>0.72</td>\n",
              "    </tr>\n",
              "    <tr>\n",
              "      <th>16</th>\n",
              "      <td>A2G9ZHVA6IOGBY</td>\n",
              "      <td>B007WTAJTO</td>\n",
              "      <td>Aaron Alvarez</td>\n",
              "      <td>[0, 0]</td>\n",
              "      <td>got gb one filled kept getting insufficient di...</td>\n",
              "      <td>5.00</td>\n",
              "      <td>great price. fast</td>\n",
              "      <td>1393718400</td>\n",
              "      <td>2014-02-03</td>\n",
              "      <td>308</td>\n",
              "      <td>0</td>\n",
              "      <td>0</td>\n",
              "      <td>0.85</td>\n",
              "    </tr>\n",
              "    <tr>\n",
              "      <th>17</th>\n",
              "      <td>A1OATGH4DF0RF0</td>\n",
              "      <td>B007WTAJTO</td>\n",
              "      <td>Aaron F. Virginie</td>\n",
              "      <td>[0, 1]</td>\n",
              "      <td>class speed rating seamless full hd sandisk ul...</td>\n",
              "      <td>5.00</td>\n",
              "      <td>Get Fast Load Times</td>\n",
              "      <td>1372896000</td>\n",
              "      <td>2013-04-07</td>\n",
              "      <td>610</td>\n",
              "      <td>0</td>\n",
              "      <td>1</td>\n",
              "      <td>0.90</td>\n",
              "    </tr>\n",
              "    <tr>\n",
              "      <th>18</th>\n",
              "      <td>A1V6CQACZ9IOLC</td>\n",
              "      <td>B007WTAJTO</td>\n",
              "      <td>Aaron Graves</td>\n",
              "      <td>[0, 0]</td>\n",
              "      <td>read write speed better samsung sd card previo...</td>\n",
              "      <td>5.00</td>\n",
              "      <td>Very good little Micro SD card</td>\n",
              "      <td>1398988800</td>\n",
              "      <td>2014-02-05</td>\n",
              "      <td>306</td>\n",
              "      <td>0</td>\n",
              "      <td>0</td>\n",
              "      <td>0.85</td>\n",
              "    </tr>\n",
              "    <tr>\n",
              "      <th>19</th>\n",
              "      <td>A2ELBSIZ26GKM2</td>\n",
              "      <td>B007WTAJTO</td>\n",
              "      <td>Aaron</td>\n",
              "      <td>[0, 0]</td>\n",
              "      <td>work video stuttering like gb blah blah blah b...</td>\n",
              "      <td>5.00</td>\n",
              "      <td>works</td>\n",
              "      <td>1389052800</td>\n",
              "      <td>2014-07-01</td>\n",
              "      <td>160</td>\n",
              "      <td>0</td>\n",
              "      <td>0</td>\n",
              "      <td>-0.34</td>\n",
              "    </tr>\n",
              "  </tbody>\n",
              "</table>\n",
              "</div>\n",
              "    <div class=\"colab-df-buttons\">\n",
              "\n",
              "  <div class=\"colab-df-container\">\n",
              "    <button class=\"colab-df-convert\" onclick=\"convertToInteractive('df-a7e76f94-f846-4169-aa14-254d1b6726fa')\"\n",
              "            title=\"Convert this dataframe to an interactive table.\"\n",
              "            style=\"display:none;\">\n",
              "\n",
              "  <svg xmlns=\"http://www.w3.org/2000/svg\" height=\"24px\" viewBox=\"0 -960 960 960\">\n",
              "    <path d=\"M120-120v-720h720v720H120Zm60-500h600v-160H180v160Zm220 220h160v-160H400v160Zm0 220h160v-160H400v160ZM180-400h160v-160H180v160Zm440 0h160v-160H620v160ZM180-180h160v-160H180v160Zm440 0h160v-160H620v160Z\"/>\n",
              "  </svg>\n",
              "    </button>\n",
              "\n",
              "  <style>\n",
              "    .colab-df-container {\n",
              "      display:flex;\n",
              "      gap: 12px;\n",
              "    }\n",
              "\n",
              "    .colab-df-convert {\n",
              "      background-color: #E8F0FE;\n",
              "      border: none;\n",
              "      border-radius: 50%;\n",
              "      cursor: pointer;\n",
              "      display: none;\n",
              "      fill: #1967D2;\n",
              "      height: 32px;\n",
              "      padding: 0 0 0 0;\n",
              "      width: 32px;\n",
              "    }\n",
              "\n",
              "    .colab-df-convert:hover {\n",
              "      background-color: #E2EBFA;\n",
              "      box-shadow: 0px 1px 2px rgba(60, 64, 67, 0.3), 0px 1px 3px 1px rgba(60, 64, 67, 0.15);\n",
              "      fill: #174EA6;\n",
              "    }\n",
              "\n",
              "    .colab-df-buttons div {\n",
              "      margin-bottom: 4px;\n",
              "    }\n",
              "\n",
              "    [theme=dark] .colab-df-convert {\n",
              "      background-color: #3B4455;\n",
              "      fill: #D2E3FC;\n",
              "    }\n",
              "\n",
              "    [theme=dark] .colab-df-convert:hover {\n",
              "      background-color: #434B5C;\n",
              "      box-shadow: 0px 1px 3px 1px rgba(0, 0, 0, 0.15);\n",
              "      filter: drop-shadow(0px 1px 2px rgba(0, 0, 0, 0.3));\n",
              "      fill: #FFFFFF;\n",
              "    }\n",
              "  </style>\n",
              "\n",
              "    <script>\n",
              "      const buttonEl =\n",
              "        document.querySelector('#df-a7e76f94-f846-4169-aa14-254d1b6726fa button.colab-df-convert');\n",
              "      buttonEl.style.display =\n",
              "        google.colab.kernel.accessAllowed ? 'block' : 'none';\n",
              "\n",
              "      async function convertToInteractive(key) {\n",
              "        const element = document.querySelector('#df-a7e76f94-f846-4169-aa14-254d1b6726fa');\n",
              "        const dataTable =\n",
              "          await google.colab.kernel.invokeFunction('convertToInteractive',\n",
              "                                                    [key], {});\n",
              "        if (!dataTable) return;\n",
              "\n",
              "        const docLinkHtml = 'Like what you see? Visit the ' +\n",
              "          '<a target=\"_blank\" href=https://colab.research.google.com/notebooks/data_table.ipynb>data table notebook</a>'\n",
              "          + ' to learn more about interactive tables.';\n",
              "        element.innerHTML = '';\n",
              "        dataTable['output_type'] = 'display_data';\n",
              "        await google.colab.output.renderOutput(dataTable, element);\n",
              "        const docLink = document.createElement('div');\n",
              "        docLink.innerHTML = docLinkHtml;\n",
              "        element.appendChild(docLink);\n",
              "      }\n",
              "    </script>\n",
              "  </div>\n",
              "\n",
              "\n",
              "<div id=\"df-dfe1308b-ce54-4528-a697-adcc20393266\">\n",
              "  <button class=\"colab-df-quickchart\" onclick=\"quickchart('df-dfe1308b-ce54-4528-a697-adcc20393266')\"\n",
              "            title=\"Suggest charts\"\n",
              "            style=\"display:none;\">\n",
              "\n",
              "<svg xmlns=\"http://www.w3.org/2000/svg\" height=\"24px\"viewBox=\"0 0 24 24\"\n",
              "     width=\"24px\">\n",
              "    <g>\n",
              "        <path d=\"M19 3H5c-1.1 0-2 .9-2 2v14c0 1.1.9 2 2 2h14c1.1 0 2-.9 2-2V5c0-1.1-.9-2-2-2zM9 17H7v-7h2v7zm4 0h-2V7h2v10zm4 0h-2v-4h2v4z\"/>\n",
              "    </g>\n",
              "</svg>\n",
              "  </button>\n",
              "\n",
              "<style>\n",
              "  .colab-df-quickchart {\n",
              "      --bg-color: #E8F0FE;\n",
              "      --fill-color: #1967D2;\n",
              "      --hover-bg-color: #E2EBFA;\n",
              "      --hover-fill-color: #174EA6;\n",
              "      --disabled-fill-color: #AAA;\n",
              "      --disabled-bg-color: #DDD;\n",
              "  }\n",
              "\n",
              "  [theme=dark] .colab-df-quickchart {\n",
              "      --bg-color: #3B4455;\n",
              "      --fill-color: #D2E3FC;\n",
              "      --hover-bg-color: #434B5C;\n",
              "      --hover-fill-color: #FFFFFF;\n",
              "      --disabled-bg-color: #3B4455;\n",
              "      --disabled-fill-color: #666;\n",
              "  }\n",
              "\n",
              "  .colab-df-quickchart {\n",
              "    background-color: var(--bg-color);\n",
              "    border: none;\n",
              "    border-radius: 50%;\n",
              "    cursor: pointer;\n",
              "    display: none;\n",
              "    fill: var(--fill-color);\n",
              "    height: 32px;\n",
              "    padding: 0;\n",
              "    width: 32px;\n",
              "  }\n",
              "\n",
              "  .colab-df-quickchart:hover {\n",
              "    background-color: var(--hover-bg-color);\n",
              "    box-shadow: 0 1px 2px rgba(60, 64, 67, 0.3), 0 1px 3px 1px rgba(60, 64, 67, 0.15);\n",
              "    fill: var(--button-hover-fill-color);\n",
              "  }\n",
              "\n",
              "  .colab-df-quickchart-complete:disabled,\n",
              "  .colab-df-quickchart-complete:disabled:hover {\n",
              "    background-color: var(--disabled-bg-color);\n",
              "    fill: var(--disabled-fill-color);\n",
              "    box-shadow: none;\n",
              "  }\n",
              "\n",
              "  .colab-df-spinner {\n",
              "    border: 2px solid var(--fill-color);\n",
              "    border-color: transparent;\n",
              "    border-bottom-color: var(--fill-color);\n",
              "    animation:\n",
              "      spin 1s steps(1) infinite;\n",
              "  }\n",
              "\n",
              "  @keyframes spin {\n",
              "    0% {\n",
              "      border-color: transparent;\n",
              "      border-bottom-color: var(--fill-color);\n",
              "      border-left-color: var(--fill-color);\n",
              "    }\n",
              "    20% {\n",
              "      border-color: transparent;\n",
              "      border-left-color: var(--fill-color);\n",
              "      border-top-color: var(--fill-color);\n",
              "    }\n",
              "    30% {\n",
              "      border-color: transparent;\n",
              "      border-left-color: var(--fill-color);\n",
              "      border-top-color: var(--fill-color);\n",
              "      border-right-color: var(--fill-color);\n",
              "    }\n",
              "    40% {\n",
              "      border-color: transparent;\n",
              "      border-right-color: var(--fill-color);\n",
              "      border-top-color: var(--fill-color);\n",
              "    }\n",
              "    60% {\n",
              "      border-color: transparent;\n",
              "      border-right-color: var(--fill-color);\n",
              "    }\n",
              "    80% {\n",
              "      border-color: transparent;\n",
              "      border-right-color: var(--fill-color);\n",
              "      border-bottom-color: var(--fill-color);\n",
              "    }\n",
              "    90% {\n",
              "      border-color: transparent;\n",
              "      border-bottom-color: var(--fill-color);\n",
              "    }\n",
              "  }\n",
              "</style>\n",
              "\n",
              "  <script>\n",
              "    async function quickchart(key) {\n",
              "      const quickchartButtonEl =\n",
              "        document.querySelector('#' + key + ' button');\n",
              "      quickchartButtonEl.disabled = true;  // To prevent multiple clicks.\n",
              "      quickchartButtonEl.classList.add('colab-df-spinner');\n",
              "      try {\n",
              "        const charts = await google.colab.kernel.invokeFunction(\n",
              "            'suggestCharts', [key], {});\n",
              "      } catch (error) {\n",
              "        console.error('Error during call to suggestCharts:', error);\n",
              "      }\n",
              "      quickchartButtonEl.classList.remove('colab-df-spinner');\n",
              "      quickchartButtonEl.classList.add('colab-df-quickchart-complete');\n",
              "    }\n",
              "    (() => {\n",
              "      let quickchartButtonEl =\n",
              "        document.querySelector('#df-dfe1308b-ce54-4528-a697-adcc20393266 button');\n",
              "      quickchartButtonEl.style.display =\n",
              "        google.colab.kernel.accessAllowed ? 'block' : 'none';\n",
              "    })();\n",
              "  </script>\n",
              "</div>\n",
              "\n",
              "    </div>\n",
              "  </div>\n"
            ],
            "application/vnd.google.colaboratory.intrinsic+json": {
              "type": "dataframe",
              "variable_name": "df",
              "summary": "{\n  \"name\": \"df\",\n  \"rows\": 4915,\n  \"fields\": [\n    {\n      \"column\": \"reviewerID\",\n      \"properties\": {\n        \"dtype\": \"string\",\n        \"num_unique_values\": 4915,\n        \"samples\": [\n          \"A3V5DNLW7DPMUA\",\n          \"A1F08OEM2LEJLK\",\n          \"AOOJ8Y18T3DGM\"\n        ],\n        \"semantic_type\": \"\",\n        \"description\": \"\"\n      }\n    },\n    {\n      \"column\": \"asin\",\n      \"properties\": {\n        \"dtype\": \"category\",\n        \"num_unique_values\": 1,\n        \"samples\": [\n          \"B007WTAJTO\"\n        ],\n        \"semantic_type\": \"\",\n        \"description\": \"\"\n      }\n    },\n    {\n      \"column\": \"reviewerName\",\n      \"properties\": {\n        \"dtype\": \"string\",\n        \"num_unique_values\": 4594,\n        \"samples\": [\n          \"nta699\"\n        ],\n        \"semantic_type\": \"\",\n        \"description\": \"\"\n      }\n    },\n    {\n      \"column\": \"helpful\",\n      \"properties\": {\n        \"dtype\": \"category\",\n        \"num_unique_values\": 42,\n        \"samples\": [\n          \"[1952, 2020]\"\n        ],\n        \"semantic_type\": \"\",\n        \"description\": \"\"\n      }\n    },\n    {\n      \"column\": \"reviewText\",\n      \"properties\": {\n        \"dtype\": \"string\",\n        \"num_unique_values\": 4912,\n        \"samples\": [\n          \"bought extended memory galaxy iii great price easy install phone recognized instantly supposed\"\n        ],\n        \"semantic_type\": \"\",\n        \"description\": \"\"\n      }\n    },\n    {\n      \"column\": \"overall\",\n      \"properties\": {\n        \"dtype\": \"number\",\n        \"std\": 0.9968451383820338,\n        \"min\": 1.0,\n        \"max\": 5.0,\n        \"num_unique_values\": 5,\n        \"samples\": [\n          5.0\n        ],\n        \"semantic_type\": \"\",\n        \"description\": \"\"\n      }\n    },\n    {\n      \"column\": \"summary\",\n      \"properties\": {\n        \"dtype\": \"string\",\n        \"num_unique_values\": 3885,\n        \"samples\": [\n          \"NICE!!!\"\n        ],\n        \"semantic_type\": \"\",\n        \"description\": \"\"\n      }\n    },\n    {\n      \"column\": \"unixReviewTime\",\n      \"properties\": {\n        \"dtype\": \"number\",\n        \"std\": 15818574,\n        \"min\": 1339200000,\n        \"max\": 1406073600,\n        \"num_unique_values\": 690,\n        \"samples\": [\n          1386028800\n        ],\n        \"semantic_type\": \"\",\n        \"description\": \"\"\n      }\n    },\n    {\n      \"column\": \"reviewTime\",\n      \"properties\": {\n        \"dtype\": \"object\",\n        \"num_unique_values\": 690,\n        \"samples\": [\n          \"2013-03-12\"\n        ],\n        \"semantic_type\": \"\",\n        \"description\": \"\"\n      }\n    },\n    {\n      \"column\": \"day_diff\",\n      \"properties\": {\n        \"dtype\": \"number\",\n        \"std\": 209,\n        \"min\": 1,\n        \"max\": 1064,\n        \"num_unique_values\": 690,\n        \"samples\": [\n          636\n        ],\n        \"semantic_type\": \"\",\n        \"description\": \"\"\n      }\n    },\n    {\n      \"column\": \"helpful_yes\",\n      \"properties\": {\n        \"dtype\": \"number\",\n        \"std\": 41,\n        \"min\": 0,\n        \"max\": 1952,\n        \"num_unique_values\": 23,\n        \"samples\": [\n          1428\n        ],\n        \"semantic_type\": \"\",\n        \"description\": \"\"\n      }\n    },\n    {\n      \"column\": \"total_vote\",\n      \"properties\": {\n        \"dtype\": \"number\",\n        \"std\": 44,\n        \"min\": 0,\n        \"max\": 2020,\n        \"num_unique_values\": 26,\n        \"samples\": [\n          495\n        ],\n        \"semantic_type\": \"\",\n        \"description\": \"\"\n      }\n    },\n    {\n      \"column\": \"polarity_score\",\n      \"properties\": {\n        \"dtype\": \"number\",\n        \"std\": 0.4413106818685574,\n        \"min\": -0.9929,\n        \"max\": 0.9989,\n        \"num_unique_values\": 1159,\n        \"samples\": [\n          -0.6501\n        ],\n        \"semantic_type\": \"\",\n        \"description\": \"\"\n      }\n    }\n  ]\n}"
            }
          },
          "metadata": {},
          "execution_count": 57
        }
      ],
      "source": [
        "df.head(20)"
      ]
    },
    {
      "cell_type": "code",
      "execution_count": 58,
      "id": "8e3d56da",
      "metadata": {
        "papermill": {
          "duration": 0.048119,
          "end_time": "2024-01-08T20:47:48.386865",
          "exception": false,
          "start_time": "2024-01-08T20:47:48.338746",
          "status": "completed"
        },
        "tags": [],
        "colab": {
          "base_uri": "https://localhost:8080/",
          "height": 398
        },
        "id": "8e3d56da",
        "outputId": "dd412c62-ec0d-432e-ba39-1467da425b53"
      },
      "outputs": [
        {
          "output_type": "execute_result",
          "data": {
            "text/plain": [
              "0    neg\n",
              "1    neg\n",
              "2    pos\n",
              "3    pos\n",
              "4    pos\n",
              "5    neg\n",
              "6    pos\n",
              "7    pos\n",
              "8    neg\n",
              "9    pos\n",
              "Name: reviewText, dtype: object"
            ],
            "text/html": [
              "<div>\n",
              "<style scoped>\n",
              "    .dataframe tbody tr th:only-of-type {\n",
              "        vertical-align: middle;\n",
              "    }\n",
              "\n",
              "    .dataframe tbody tr th {\n",
              "        vertical-align: top;\n",
              "    }\n",
              "\n",
              "    .dataframe thead th {\n",
              "        text-align: right;\n",
              "    }\n",
              "</style>\n",
              "<table border=\"1\" class=\"dataframe\">\n",
              "  <thead>\n",
              "    <tr style=\"text-align: right;\">\n",
              "      <th></th>\n",
              "      <th>reviewText</th>\n",
              "    </tr>\n",
              "  </thead>\n",
              "  <tbody>\n",
              "    <tr>\n",
              "      <th>0</th>\n",
              "      <td>neg</td>\n",
              "    </tr>\n",
              "    <tr>\n",
              "      <th>1</th>\n",
              "      <td>neg</td>\n",
              "    </tr>\n",
              "    <tr>\n",
              "      <th>2</th>\n",
              "      <td>pos</td>\n",
              "    </tr>\n",
              "    <tr>\n",
              "      <th>3</th>\n",
              "      <td>pos</td>\n",
              "    </tr>\n",
              "    <tr>\n",
              "      <th>4</th>\n",
              "      <td>pos</td>\n",
              "    </tr>\n",
              "    <tr>\n",
              "      <th>5</th>\n",
              "      <td>neg</td>\n",
              "    </tr>\n",
              "    <tr>\n",
              "      <th>6</th>\n",
              "      <td>pos</td>\n",
              "    </tr>\n",
              "    <tr>\n",
              "      <th>7</th>\n",
              "      <td>pos</td>\n",
              "    </tr>\n",
              "    <tr>\n",
              "      <th>8</th>\n",
              "      <td>neg</td>\n",
              "    </tr>\n",
              "    <tr>\n",
              "      <th>9</th>\n",
              "      <td>pos</td>\n",
              "    </tr>\n",
              "  </tbody>\n",
              "</table>\n",
              "</div><br><label><b>dtype:</b> object</label>"
            ]
          },
          "metadata": {},
          "execution_count": 58
        }
      ],
      "source": [
        "df[\"reviewText\"][0:10].apply(lambda x: \"pos\" if sia.polarity_scores(x)[\"compound\"] > 0 else \"neg\")"
      ]
    },
    {
      "cell_type": "code",
      "execution_count": 59,
      "id": "6aa2ed12",
      "metadata": {
        "papermill": {
          "duration": 1.608807,
          "end_time": "2024-01-08T20:47:50.027325",
          "exception": false,
          "start_time": "2024-01-08T20:47:48.418518",
          "status": "completed"
        },
        "tags": [],
        "id": "6aa2ed12"
      },
      "outputs": [],
      "source": [
        "df[\"sentiment_label\"] = df[\"reviewText\"].apply(lambda x: \"pos\" if sia.polarity_scores(x)[\"compound\"] > 0 else \"neg\")"
      ]
    },
    {
      "cell_type": "code",
      "execution_count": 60,
      "id": "16a25f64",
      "metadata": {
        "papermill": {
          "duration": 0.051555,
          "end_time": "2024-01-08T20:47:50.110709",
          "exception": false,
          "start_time": "2024-01-08T20:47:50.059154",
          "status": "completed"
        },
        "tags": [],
        "colab": {
          "base_uri": "https://localhost:8080/",
          "height": 414
        },
        "id": "16a25f64",
        "outputId": "891d6165-26e2-4372-dcf1-efbfa3564739"
      },
      "outputs": [
        {
          "output_type": "execute_result",
          "data": {
            "text/plain": [
              "       reviewerID        asin  reviewerName helpful                                         reviewText  overall                                 summary  unixReviewTime  reviewTime  day_diff  \\\n",
              "0  A3SBTW3WS4IQSN  B007WTAJTO           NaN  [0, 0]                                              issue     4.00                              Four Stars      1406073600  2014-07-23       138   \n",
              "1  A18K1ODH1I2MVB  B007WTAJTO          0mie  [0, 0]  purchased device worked advertised never much ...     5.00                           MOAR SPACE!!!      1382659200  2013-10-25       409   \n",
              "2  A2FII3I2MBMUIA  B007WTAJTO           1K3  [0, 0]  work expected higher capacity think made bit e...     4.00               nothing to really say....      1356220800  2012-12-23       715   \n",
              "3   A3H99DFEG68SR  B007WTAJTO           1m2  [0, 0]  think worked gb card went south one held prett...     5.00  Great buy at this price!!!  *** UPDATE      1384992000  2013-11-21       382   \n",
              "4  A375ZM4U047O79  B007WTAJTO  2&amp;1/2Men  [0, 0]  bought retail packaging arrived legit envelope...     5.00                        best deal around      1373673600  2013-07-13       513   \n",
              "\n",
              "   helpful_yes  total_vote  polarity_score sentiment_label  \n",
              "0            0           0            0.00             neg  \n",
              "1            0           0            0.00             neg  \n",
              "2            0           0            0.40             pos  \n",
              "3            0           0            0.65             pos  \n",
              "4            0           0            0.86             pos  "
            ],
            "text/html": [
              "\n",
              "  <div id=\"df-ba3df681-7f44-4d90-8305-88f38a953150\" class=\"colab-df-container\">\n",
              "    <div>\n",
              "<style scoped>\n",
              "    .dataframe tbody tr th:only-of-type {\n",
              "        vertical-align: middle;\n",
              "    }\n",
              "\n",
              "    .dataframe tbody tr th {\n",
              "        vertical-align: top;\n",
              "    }\n",
              "\n",
              "    .dataframe thead th {\n",
              "        text-align: right;\n",
              "    }\n",
              "</style>\n",
              "<table border=\"1\" class=\"dataframe\">\n",
              "  <thead>\n",
              "    <tr style=\"text-align: right;\">\n",
              "      <th></th>\n",
              "      <th>reviewerID</th>\n",
              "      <th>asin</th>\n",
              "      <th>reviewerName</th>\n",
              "      <th>helpful</th>\n",
              "      <th>reviewText</th>\n",
              "      <th>overall</th>\n",
              "      <th>summary</th>\n",
              "      <th>unixReviewTime</th>\n",
              "      <th>reviewTime</th>\n",
              "      <th>day_diff</th>\n",
              "      <th>helpful_yes</th>\n",
              "      <th>total_vote</th>\n",
              "      <th>polarity_score</th>\n",
              "      <th>sentiment_label</th>\n",
              "    </tr>\n",
              "  </thead>\n",
              "  <tbody>\n",
              "    <tr>\n",
              "      <th>0</th>\n",
              "      <td>A3SBTW3WS4IQSN</td>\n",
              "      <td>B007WTAJTO</td>\n",
              "      <td>NaN</td>\n",
              "      <td>[0, 0]</td>\n",
              "      <td>issue</td>\n",
              "      <td>4.00</td>\n",
              "      <td>Four Stars</td>\n",
              "      <td>1406073600</td>\n",
              "      <td>2014-07-23</td>\n",
              "      <td>138</td>\n",
              "      <td>0</td>\n",
              "      <td>0</td>\n",
              "      <td>0.00</td>\n",
              "      <td>neg</td>\n",
              "    </tr>\n",
              "    <tr>\n",
              "      <th>1</th>\n",
              "      <td>A18K1ODH1I2MVB</td>\n",
              "      <td>B007WTAJTO</td>\n",
              "      <td>0mie</td>\n",
              "      <td>[0, 0]</td>\n",
              "      <td>purchased device worked advertised never much ...</td>\n",
              "      <td>5.00</td>\n",
              "      <td>MOAR SPACE!!!</td>\n",
              "      <td>1382659200</td>\n",
              "      <td>2013-10-25</td>\n",
              "      <td>409</td>\n",
              "      <td>0</td>\n",
              "      <td>0</td>\n",
              "      <td>0.00</td>\n",
              "      <td>neg</td>\n",
              "    </tr>\n",
              "    <tr>\n",
              "      <th>2</th>\n",
              "      <td>A2FII3I2MBMUIA</td>\n",
              "      <td>B007WTAJTO</td>\n",
              "      <td>1K3</td>\n",
              "      <td>[0, 0]</td>\n",
              "      <td>work expected higher capacity think made bit e...</td>\n",
              "      <td>4.00</td>\n",
              "      <td>nothing to really say....</td>\n",
              "      <td>1356220800</td>\n",
              "      <td>2012-12-23</td>\n",
              "      <td>715</td>\n",
              "      <td>0</td>\n",
              "      <td>0</td>\n",
              "      <td>0.40</td>\n",
              "      <td>pos</td>\n",
              "    </tr>\n",
              "    <tr>\n",
              "      <th>3</th>\n",
              "      <td>A3H99DFEG68SR</td>\n",
              "      <td>B007WTAJTO</td>\n",
              "      <td>1m2</td>\n",
              "      <td>[0, 0]</td>\n",
              "      <td>think worked gb card went south one held prett...</td>\n",
              "      <td>5.00</td>\n",
              "      <td>Great buy at this price!!!  *** UPDATE</td>\n",
              "      <td>1384992000</td>\n",
              "      <td>2013-11-21</td>\n",
              "      <td>382</td>\n",
              "      <td>0</td>\n",
              "      <td>0</td>\n",
              "      <td>0.65</td>\n",
              "      <td>pos</td>\n",
              "    </tr>\n",
              "    <tr>\n",
              "      <th>4</th>\n",
              "      <td>A375ZM4U047O79</td>\n",
              "      <td>B007WTAJTO</td>\n",
              "      <td>2&amp;amp;1/2Men</td>\n",
              "      <td>[0, 0]</td>\n",
              "      <td>bought retail packaging arrived legit envelope...</td>\n",
              "      <td>5.00</td>\n",
              "      <td>best deal around</td>\n",
              "      <td>1373673600</td>\n",
              "      <td>2013-07-13</td>\n",
              "      <td>513</td>\n",
              "      <td>0</td>\n",
              "      <td>0</td>\n",
              "      <td>0.86</td>\n",
              "      <td>pos</td>\n",
              "    </tr>\n",
              "  </tbody>\n",
              "</table>\n",
              "</div>\n",
              "    <div class=\"colab-df-buttons\">\n",
              "\n",
              "  <div class=\"colab-df-container\">\n",
              "    <button class=\"colab-df-convert\" onclick=\"convertToInteractive('df-ba3df681-7f44-4d90-8305-88f38a953150')\"\n",
              "            title=\"Convert this dataframe to an interactive table.\"\n",
              "            style=\"display:none;\">\n",
              "\n",
              "  <svg xmlns=\"http://www.w3.org/2000/svg\" height=\"24px\" viewBox=\"0 -960 960 960\">\n",
              "    <path d=\"M120-120v-720h720v720H120Zm60-500h600v-160H180v160Zm220 220h160v-160H400v160Zm0 220h160v-160H400v160ZM180-400h160v-160H180v160Zm440 0h160v-160H620v160ZM180-180h160v-160H180v160Zm440 0h160v-160H620v160Z\"/>\n",
              "  </svg>\n",
              "    </button>\n",
              "\n",
              "  <style>\n",
              "    .colab-df-container {\n",
              "      display:flex;\n",
              "      gap: 12px;\n",
              "    }\n",
              "\n",
              "    .colab-df-convert {\n",
              "      background-color: #E8F0FE;\n",
              "      border: none;\n",
              "      border-radius: 50%;\n",
              "      cursor: pointer;\n",
              "      display: none;\n",
              "      fill: #1967D2;\n",
              "      height: 32px;\n",
              "      padding: 0 0 0 0;\n",
              "      width: 32px;\n",
              "    }\n",
              "\n",
              "    .colab-df-convert:hover {\n",
              "      background-color: #E2EBFA;\n",
              "      box-shadow: 0px 1px 2px rgba(60, 64, 67, 0.3), 0px 1px 3px 1px rgba(60, 64, 67, 0.15);\n",
              "      fill: #174EA6;\n",
              "    }\n",
              "\n",
              "    .colab-df-buttons div {\n",
              "      margin-bottom: 4px;\n",
              "    }\n",
              "\n",
              "    [theme=dark] .colab-df-convert {\n",
              "      background-color: #3B4455;\n",
              "      fill: #D2E3FC;\n",
              "    }\n",
              "\n",
              "    [theme=dark] .colab-df-convert:hover {\n",
              "      background-color: #434B5C;\n",
              "      box-shadow: 0px 1px 3px 1px rgba(0, 0, 0, 0.15);\n",
              "      filter: drop-shadow(0px 1px 2px rgba(0, 0, 0, 0.3));\n",
              "      fill: #FFFFFF;\n",
              "    }\n",
              "  </style>\n",
              "\n",
              "    <script>\n",
              "      const buttonEl =\n",
              "        document.querySelector('#df-ba3df681-7f44-4d90-8305-88f38a953150 button.colab-df-convert');\n",
              "      buttonEl.style.display =\n",
              "        google.colab.kernel.accessAllowed ? 'block' : 'none';\n",
              "\n",
              "      async function convertToInteractive(key) {\n",
              "        const element = document.querySelector('#df-ba3df681-7f44-4d90-8305-88f38a953150');\n",
              "        const dataTable =\n",
              "          await google.colab.kernel.invokeFunction('convertToInteractive',\n",
              "                                                    [key], {});\n",
              "        if (!dataTable) return;\n",
              "\n",
              "        const docLinkHtml = 'Like what you see? Visit the ' +\n",
              "          '<a target=\"_blank\" href=https://colab.research.google.com/notebooks/data_table.ipynb>data table notebook</a>'\n",
              "          + ' to learn more about interactive tables.';\n",
              "        element.innerHTML = '';\n",
              "        dataTable['output_type'] = 'display_data';\n",
              "        await google.colab.output.renderOutput(dataTable, element);\n",
              "        const docLink = document.createElement('div');\n",
              "        docLink.innerHTML = docLinkHtml;\n",
              "        element.appendChild(docLink);\n",
              "      }\n",
              "    </script>\n",
              "  </div>\n",
              "\n",
              "\n",
              "<div id=\"df-3fec5525-781c-4038-a80d-74f00c64b849\">\n",
              "  <button class=\"colab-df-quickchart\" onclick=\"quickchart('df-3fec5525-781c-4038-a80d-74f00c64b849')\"\n",
              "            title=\"Suggest charts\"\n",
              "            style=\"display:none;\">\n",
              "\n",
              "<svg xmlns=\"http://www.w3.org/2000/svg\" height=\"24px\"viewBox=\"0 0 24 24\"\n",
              "     width=\"24px\">\n",
              "    <g>\n",
              "        <path d=\"M19 3H5c-1.1 0-2 .9-2 2v14c0 1.1.9 2 2 2h14c1.1 0 2-.9 2-2V5c0-1.1-.9-2-2-2zM9 17H7v-7h2v7zm4 0h-2V7h2v10zm4 0h-2v-4h2v4z\"/>\n",
              "    </g>\n",
              "</svg>\n",
              "  </button>\n",
              "\n",
              "<style>\n",
              "  .colab-df-quickchart {\n",
              "      --bg-color: #E8F0FE;\n",
              "      --fill-color: #1967D2;\n",
              "      --hover-bg-color: #E2EBFA;\n",
              "      --hover-fill-color: #174EA6;\n",
              "      --disabled-fill-color: #AAA;\n",
              "      --disabled-bg-color: #DDD;\n",
              "  }\n",
              "\n",
              "  [theme=dark] .colab-df-quickchart {\n",
              "      --bg-color: #3B4455;\n",
              "      --fill-color: #D2E3FC;\n",
              "      --hover-bg-color: #434B5C;\n",
              "      --hover-fill-color: #FFFFFF;\n",
              "      --disabled-bg-color: #3B4455;\n",
              "      --disabled-fill-color: #666;\n",
              "  }\n",
              "\n",
              "  .colab-df-quickchart {\n",
              "    background-color: var(--bg-color);\n",
              "    border: none;\n",
              "    border-radius: 50%;\n",
              "    cursor: pointer;\n",
              "    display: none;\n",
              "    fill: var(--fill-color);\n",
              "    height: 32px;\n",
              "    padding: 0;\n",
              "    width: 32px;\n",
              "  }\n",
              "\n",
              "  .colab-df-quickchart:hover {\n",
              "    background-color: var(--hover-bg-color);\n",
              "    box-shadow: 0 1px 2px rgba(60, 64, 67, 0.3), 0 1px 3px 1px rgba(60, 64, 67, 0.15);\n",
              "    fill: var(--button-hover-fill-color);\n",
              "  }\n",
              "\n",
              "  .colab-df-quickchart-complete:disabled,\n",
              "  .colab-df-quickchart-complete:disabled:hover {\n",
              "    background-color: var(--disabled-bg-color);\n",
              "    fill: var(--disabled-fill-color);\n",
              "    box-shadow: none;\n",
              "  }\n",
              "\n",
              "  .colab-df-spinner {\n",
              "    border: 2px solid var(--fill-color);\n",
              "    border-color: transparent;\n",
              "    border-bottom-color: var(--fill-color);\n",
              "    animation:\n",
              "      spin 1s steps(1) infinite;\n",
              "  }\n",
              "\n",
              "  @keyframes spin {\n",
              "    0% {\n",
              "      border-color: transparent;\n",
              "      border-bottom-color: var(--fill-color);\n",
              "      border-left-color: var(--fill-color);\n",
              "    }\n",
              "    20% {\n",
              "      border-color: transparent;\n",
              "      border-left-color: var(--fill-color);\n",
              "      border-top-color: var(--fill-color);\n",
              "    }\n",
              "    30% {\n",
              "      border-color: transparent;\n",
              "      border-left-color: var(--fill-color);\n",
              "      border-top-color: var(--fill-color);\n",
              "      border-right-color: var(--fill-color);\n",
              "    }\n",
              "    40% {\n",
              "      border-color: transparent;\n",
              "      border-right-color: var(--fill-color);\n",
              "      border-top-color: var(--fill-color);\n",
              "    }\n",
              "    60% {\n",
              "      border-color: transparent;\n",
              "      border-right-color: var(--fill-color);\n",
              "    }\n",
              "    80% {\n",
              "      border-color: transparent;\n",
              "      border-right-color: var(--fill-color);\n",
              "      border-bottom-color: var(--fill-color);\n",
              "    }\n",
              "    90% {\n",
              "      border-color: transparent;\n",
              "      border-bottom-color: var(--fill-color);\n",
              "    }\n",
              "  }\n",
              "</style>\n",
              "\n",
              "  <script>\n",
              "    async function quickchart(key) {\n",
              "      const quickchartButtonEl =\n",
              "        document.querySelector('#' + key + ' button');\n",
              "      quickchartButtonEl.disabled = true;  // To prevent multiple clicks.\n",
              "      quickchartButtonEl.classList.add('colab-df-spinner');\n",
              "      try {\n",
              "        const charts = await google.colab.kernel.invokeFunction(\n",
              "            'suggestCharts', [key], {});\n",
              "      } catch (error) {\n",
              "        console.error('Error during call to suggestCharts:', error);\n",
              "      }\n",
              "      quickchartButtonEl.classList.remove('colab-df-spinner');\n",
              "      quickchartButtonEl.classList.add('colab-df-quickchart-complete');\n",
              "    }\n",
              "    (() => {\n",
              "      let quickchartButtonEl =\n",
              "        document.querySelector('#df-3fec5525-781c-4038-a80d-74f00c64b849 button');\n",
              "      quickchartButtonEl.style.display =\n",
              "        google.colab.kernel.accessAllowed ? 'block' : 'none';\n",
              "    })();\n",
              "  </script>\n",
              "</div>\n",
              "\n",
              "    </div>\n",
              "  </div>\n"
            ],
            "application/vnd.google.colaboratory.intrinsic+json": {
              "type": "dataframe",
              "variable_name": "df",
              "summary": "{\n  \"name\": \"df\",\n  \"rows\": 4915,\n  \"fields\": [\n    {\n      \"column\": \"reviewerID\",\n      \"properties\": {\n        \"dtype\": \"string\",\n        \"num_unique_values\": 4915,\n        \"samples\": [\n          \"A3V5DNLW7DPMUA\",\n          \"A1F08OEM2LEJLK\",\n          \"AOOJ8Y18T3DGM\"\n        ],\n        \"semantic_type\": \"\",\n        \"description\": \"\"\n      }\n    },\n    {\n      \"column\": \"asin\",\n      \"properties\": {\n        \"dtype\": \"category\",\n        \"num_unique_values\": 1,\n        \"samples\": [\n          \"B007WTAJTO\"\n        ],\n        \"semantic_type\": \"\",\n        \"description\": \"\"\n      }\n    },\n    {\n      \"column\": \"reviewerName\",\n      \"properties\": {\n        \"dtype\": \"string\",\n        \"num_unique_values\": 4594,\n        \"samples\": [\n          \"nta699\"\n        ],\n        \"semantic_type\": \"\",\n        \"description\": \"\"\n      }\n    },\n    {\n      \"column\": \"helpful\",\n      \"properties\": {\n        \"dtype\": \"category\",\n        \"num_unique_values\": 42,\n        \"samples\": [\n          \"[1952, 2020]\"\n        ],\n        \"semantic_type\": \"\",\n        \"description\": \"\"\n      }\n    },\n    {\n      \"column\": \"reviewText\",\n      \"properties\": {\n        \"dtype\": \"string\",\n        \"num_unique_values\": 4912,\n        \"samples\": [\n          \"bought extended memory galaxy iii great price easy install phone recognized instantly supposed\"\n        ],\n        \"semantic_type\": \"\",\n        \"description\": \"\"\n      }\n    },\n    {\n      \"column\": \"overall\",\n      \"properties\": {\n        \"dtype\": \"number\",\n        \"std\": 0.9968451383820338,\n        \"min\": 1.0,\n        \"max\": 5.0,\n        \"num_unique_values\": 5,\n        \"samples\": [\n          5.0\n        ],\n        \"semantic_type\": \"\",\n        \"description\": \"\"\n      }\n    },\n    {\n      \"column\": \"summary\",\n      \"properties\": {\n        \"dtype\": \"string\",\n        \"num_unique_values\": 3885,\n        \"samples\": [\n          \"NICE!!!\"\n        ],\n        \"semantic_type\": \"\",\n        \"description\": \"\"\n      }\n    },\n    {\n      \"column\": \"unixReviewTime\",\n      \"properties\": {\n        \"dtype\": \"number\",\n        \"std\": 15818574,\n        \"min\": 1339200000,\n        \"max\": 1406073600,\n        \"num_unique_values\": 690,\n        \"samples\": [\n          1386028800\n        ],\n        \"semantic_type\": \"\",\n        \"description\": \"\"\n      }\n    },\n    {\n      \"column\": \"reviewTime\",\n      \"properties\": {\n        \"dtype\": \"object\",\n        \"num_unique_values\": 690,\n        \"samples\": [\n          \"2013-03-12\"\n        ],\n        \"semantic_type\": \"\",\n        \"description\": \"\"\n      }\n    },\n    {\n      \"column\": \"day_diff\",\n      \"properties\": {\n        \"dtype\": \"number\",\n        \"std\": 209,\n        \"min\": 1,\n        \"max\": 1064,\n        \"num_unique_values\": 690,\n        \"samples\": [\n          636\n        ],\n        \"semantic_type\": \"\",\n        \"description\": \"\"\n      }\n    },\n    {\n      \"column\": \"helpful_yes\",\n      \"properties\": {\n        \"dtype\": \"number\",\n        \"std\": 41,\n        \"min\": 0,\n        \"max\": 1952,\n        \"num_unique_values\": 23,\n        \"samples\": [\n          1428\n        ],\n        \"semantic_type\": \"\",\n        \"description\": \"\"\n      }\n    },\n    {\n      \"column\": \"total_vote\",\n      \"properties\": {\n        \"dtype\": \"number\",\n        \"std\": 44,\n        \"min\": 0,\n        \"max\": 2020,\n        \"num_unique_values\": 26,\n        \"samples\": [\n          495\n        ],\n        \"semantic_type\": \"\",\n        \"description\": \"\"\n      }\n    },\n    {\n      \"column\": \"polarity_score\",\n      \"properties\": {\n        \"dtype\": \"number\",\n        \"std\": 0.4413106818685574,\n        \"min\": -0.9929,\n        \"max\": 0.9989,\n        \"num_unique_values\": 1159,\n        \"samples\": [\n          -0.6501\n        ],\n        \"semantic_type\": \"\",\n        \"description\": \"\"\n      }\n    },\n    {\n      \"column\": \"sentiment_label\",\n      \"properties\": {\n        \"dtype\": \"category\",\n        \"num_unique_values\": 2,\n        \"samples\": [\n          \"pos\"\n        ],\n        \"semantic_type\": \"\",\n        \"description\": \"\"\n      }\n    }\n  ]\n}"
            }
          },
          "metadata": {},
          "execution_count": 60
        }
      ],
      "source": [
        "df.head()"
      ]
    },
    {
      "cell_type": "code",
      "execution_count": 61,
      "id": "70594214",
      "metadata": {
        "papermill": {
          "duration": 0.044033,
          "end_time": "2024-01-08T20:47:50.186942",
          "exception": false,
          "start_time": "2024-01-08T20:47:50.142909",
          "status": "completed"
        },
        "tags": [],
        "colab": {
          "base_uri": "https://localhost:8080/",
          "height": 178
        },
        "id": "70594214",
        "outputId": "3aa5f3b8-82e2-45fa-ee2f-a7bae7bc1b11"
      },
      "outputs": [
        {
          "output_type": "execute_result",
          "data": {
            "text/plain": [
              "sentiment_label\n",
              "pos    3944\n",
              "neg     971\n",
              "Name: count, dtype: int64"
            ],
            "text/html": [
              "<div>\n",
              "<style scoped>\n",
              "    .dataframe tbody tr th:only-of-type {\n",
              "        vertical-align: middle;\n",
              "    }\n",
              "\n",
              "    .dataframe tbody tr th {\n",
              "        vertical-align: top;\n",
              "    }\n",
              "\n",
              "    .dataframe thead th {\n",
              "        text-align: right;\n",
              "    }\n",
              "</style>\n",
              "<table border=\"1\" class=\"dataframe\">\n",
              "  <thead>\n",
              "    <tr style=\"text-align: right;\">\n",
              "      <th></th>\n",
              "      <th>count</th>\n",
              "    </tr>\n",
              "    <tr>\n",
              "      <th>sentiment_label</th>\n",
              "      <th></th>\n",
              "    </tr>\n",
              "  </thead>\n",
              "  <tbody>\n",
              "    <tr>\n",
              "      <th>pos</th>\n",
              "      <td>3944</td>\n",
              "    </tr>\n",
              "    <tr>\n",
              "      <th>neg</th>\n",
              "      <td>971</td>\n",
              "    </tr>\n",
              "  </tbody>\n",
              "</table>\n",
              "</div><br><label><b>dtype:</b> int64</label>"
            ]
          },
          "metadata": {},
          "execution_count": 61
        }
      ],
      "source": [
        "df[\"sentiment_label\"].value_counts()"
      ]
    },
    {
      "cell_type": "code",
      "execution_count": 62,
      "id": "03ca6fc4",
      "metadata": {
        "papermill": {
          "duration": 0.113321,
          "end_time": "2024-01-08T20:47:50.334393",
          "exception": false,
          "start_time": "2024-01-08T20:47:50.221072",
          "status": "completed"
        },
        "tags": [],
        "colab": {
          "base_uri": "https://localhost:8080/",
          "height": 178
        },
        "id": "03ca6fc4",
        "outputId": "f1c6df2c-8c36-4aeb-bd16-d748809e5e8e"
      },
      "outputs": [
        {
          "output_type": "execute_result",
          "data": {
            "text/plain": [
              "sentiment_label\n",
              "neg   4.09\n",
              "pos   4.71\n",
              "Name: overall, dtype: float64"
            ],
            "text/html": [
              "<div>\n",
              "<style scoped>\n",
              "    .dataframe tbody tr th:only-of-type {\n",
              "        vertical-align: middle;\n",
              "    }\n",
              "\n",
              "    .dataframe tbody tr th {\n",
              "        vertical-align: top;\n",
              "    }\n",
              "\n",
              "    .dataframe thead th {\n",
              "        text-align: right;\n",
              "    }\n",
              "</style>\n",
              "<table border=\"1\" class=\"dataframe\">\n",
              "  <thead>\n",
              "    <tr style=\"text-align: right;\">\n",
              "      <th></th>\n",
              "      <th>overall</th>\n",
              "    </tr>\n",
              "    <tr>\n",
              "      <th>sentiment_label</th>\n",
              "      <th></th>\n",
              "    </tr>\n",
              "  </thead>\n",
              "  <tbody>\n",
              "    <tr>\n",
              "      <th>neg</th>\n",
              "      <td>4.09</td>\n",
              "    </tr>\n",
              "    <tr>\n",
              "      <th>pos</th>\n",
              "      <td>4.71</td>\n",
              "    </tr>\n",
              "  </tbody>\n",
              "</table>\n",
              "</div><br><label><b>dtype:</b> float64</label>"
            ]
          },
          "metadata": {},
          "execution_count": 62
        }
      ],
      "source": [
        "df.groupby(\"sentiment_label\")[\"overall\"].mean()"
      ]
    },
    {
      "cell_type": "code",
      "execution_count": 63,
      "id": "088f8758",
      "metadata": {
        "papermill": {
          "duration": 0.042166,
          "end_time": "2024-01-08T20:47:50.408501",
          "exception": false,
          "start_time": "2024-01-08T20:47:50.366335",
          "status": "completed"
        },
        "tags": [],
        "id": "088f8758"
      },
      "outputs": [],
      "source": [
        "df[\"sentiment_label\"] = LabelEncoder().fit_transform(df[\"sentiment_label\"])"
      ]
    },
    {
      "cell_type": "code",
      "execution_count": 64,
      "id": "41e73700",
      "metadata": {
        "execution": {
          "iopub.execute_input": "2024-01-08T20:47:50.480411Z",
          "iopub.status.busy": "2024-01-08T20:47:50.479838Z",
          "iopub.status.idle": "2024-01-08T20:47:50.493699Z",
          "shell.execute_reply": "2024-01-08T20:47:50.492249Z"
        },
        "papermill": {
          "duration": 0.053358,
          "end_time": "2024-01-08T20:47:50.496267",
          "exception": false,
          "start_time": "2024-01-08T20:47:50.442909",
          "status": "completed"
        },
        "tags": [],
        "colab": {
          "base_uri": "https://localhost:8080/",
          "height": 414
        },
        "id": "41e73700",
        "outputId": "661c237f-2006-4ef7-b187-2f481f2061c4"
      },
      "outputs": [
        {
          "output_type": "execute_result",
          "data": {
            "text/plain": [
              "       reviewerID        asin  reviewerName helpful                                         reviewText  overall                                 summary  unixReviewTime  reviewTime  day_diff  \\\n",
              "0  A3SBTW3WS4IQSN  B007WTAJTO           NaN  [0, 0]                                              issue     4.00                              Four Stars      1406073600  2014-07-23       138   \n",
              "1  A18K1ODH1I2MVB  B007WTAJTO          0mie  [0, 0]  purchased device worked advertised never much ...     5.00                           MOAR SPACE!!!      1382659200  2013-10-25       409   \n",
              "2  A2FII3I2MBMUIA  B007WTAJTO           1K3  [0, 0]  work expected higher capacity think made bit e...     4.00               nothing to really say....      1356220800  2012-12-23       715   \n",
              "3   A3H99DFEG68SR  B007WTAJTO           1m2  [0, 0]  think worked gb card went south one held prett...     5.00  Great buy at this price!!!  *** UPDATE      1384992000  2013-11-21       382   \n",
              "4  A375ZM4U047O79  B007WTAJTO  2&amp;1/2Men  [0, 0]  bought retail packaging arrived legit envelope...     5.00                        best deal around      1373673600  2013-07-13       513   \n",
              "\n",
              "   helpful_yes  total_vote  polarity_score  sentiment_label  \n",
              "0            0           0            0.00                0  \n",
              "1            0           0            0.00                0  \n",
              "2            0           0            0.40                1  \n",
              "3            0           0            0.65                1  \n",
              "4            0           0            0.86                1  "
            ],
            "text/html": [
              "\n",
              "  <div id=\"df-b7fb83f9-b157-47d4-ba74-283924bce1c3\" class=\"colab-df-container\">\n",
              "    <div>\n",
              "<style scoped>\n",
              "    .dataframe tbody tr th:only-of-type {\n",
              "        vertical-align: middle;\n",
              "    }\n",
              "\n",
              "    .dataframe tbody tr th {\n",
              "        vertical-align: top;\n",
              "    }\n",
              "\n",
              "    .dataframe thead th {\n",
              "        text-align: right;\n",
              "    }\n",
              "</style>\n",
              "<table border=\"1\" class=\"dataframe\">\n",
              "  <thead>\n",
              "    <tr style=\"text-align: right;\">\n",
              "      <th></th>\n",
              "      <th>reviewerID</th>\n",
              "      <th>asin</th>\n",
              "      <th>reviewerName</th>\n",
              "      <th>helpful</th>\n",
              "      <th>reviewText</th>\n",
              "      <th>overall</th>\n",
              "      <th>summary</th>\n",
              "      <th>unixReviewTime</th>\n",
              "      <th>reviewTime</th>\n",
              "      <th>day_diff</th>\n",
              "      <th>helpful_yes</th>\n",
              "      <th>total_vote</th>\n",
              "      <th>polarity_score</th>\n",
              "      <th>sentiment_label</th>\n",
              "    </tr>\n",
              "  </thead>\n",
              "  <tbody>\n",
              "    <tr>\n",
              "      <th>0</th>\n",
              "      <td>A3SBTW3WS4IQSN</td>\n",
              "      <td>B007WTAJTO</td>\n",
              "      <td>NaN</td>\n",
              "      <td>[0, 0]</td>\n",
              "      <td>issue</td>\n",
              "      <td>4.00</td>\n",
              "      <td>Four Stars</td>\n",
              "      <td>1406073600</td>\n",
              "      <td>2014-07-23</td>\n",
              "      <td>138</td>\n",
              "      <td>0</td>\n",
              "      <td>0</td>\n",
              "      <td>0.00</td>\n",
              "      <td>0</td>\n",
              "    </tr>\n",
              "    <tr>\n",
              "      <th>1</th>\n",
              "      <td>A18K1ODH1I2MVB</td>\n",
              "      <td>B007WTAJTO</td>\n",
              "      <td>0mie</td>\n",
              "      <td>[0, 0]</td>\n",
              "      <td>purchased device worked advertised never much ...</td>\n",
              "      <td>5.00</td>\n",
              "      <td>MOAR SPACE!!!</td>\n",
              "      <td>1382659200</td>\n",
              "      <td>2013-10-25</td>\n",
              "      <td>409</td>\n",
              "      <td>0</td>\n",
              "      <td>0</td>\n",
              "      <td>0.00</td>\n",
              "      <td>0</td>\n",
              "    </tr>\n",
              "    <tr>\n",
              "      <th>2</th>\n",
              "      <td>A2FII3I2MBMUIA</td>\n",
              "      <td>B007WTAJTO</td>\n",
              "      <td>1K3</td>\n",
              "      <td>[0, 0]</td>\n",
              "      <td>work expected higher capacity think made bit e...</td>\n",
              "      <td>4.00</td>\n",
              "      <td>nothing to really say....</td>\n",
              "      <td>1356220800</td>\n",
              "      <td>2012-12-23</td>\n",
              "      <td>715</td>\n",
              "      <td>0</td>\n",
              "      <td>0</td>\n",
              "      <td>0.40</td>\n",
              "      <td>1</td>\n",
              "    </tr>\n",
              "    <tr>\n",
              "      <th>3</th>\n",
              "      <td>A3H99DFEG68SR</td>\n",
              "      <td>B007WTAJTO</td>\n",
              "      <td>1m2</td>\n",
              "      <td>[0, 0]</td>\n",
              "      <td>think worked gb card went south one held prett...</td>\n",
              "      <td>5.00</td>\n",
              "      <td>Great buy at this price!!!  *** UPDATE</td>\n",
              "      <td>1384992000</td>\n",
              "      <td>2013-11-21</td>\n",
              "      <td>382</td>\n",
              "      <td>0</td>\n",
              "      <td>0</td>\n",
              "      <td>0.65</td>\n",
              "      <td>1</td>\n",
              "    </tr>\n",
              "    <tr>\n",
              "      <th>4</th>\n",
              "      <td>A375ZM4U047O79</td>\n",
              "      <td>B007WTAJTO</td>\n",
              "      <td>2&amp;amp;1/2Men</td>\n",
              "      <td>[0, 0]</td>\n",
              "      <td>bought retail packaging arrived legit envelope...</td>\n",
              "      <td>5.00</td>\n",
              "      <td>best deal around</td>\n",
              "      <td>1373673600</td>\n",
              "      <td>2013-07-13</td>\n",
              "      <td>513</td>\n",
              "      <td>0</td>\n",
              "      <td>0</td>\n",
              "      <td>0.86</td>\n",
              "      <td>1</td>\n",
              "    </tr>\n",
              "  </tbody>\n",
              "</table>\n",
              "</div>\n",
              "    <div class=\"colab-df-buttons\">\n",
              "\n",
              "  <div class=\"colab-df-container\">\n",
              "    <button class=\"colab-df-convert\" onclick=\"convertToInteractive('df-b7fb83f9-b157-47d4-ba74-283924bce1c3')\"\n",
              "            title=\"Convert this dataframe to an interactive table.\"\n",
              "            style=\"display:none;\">\n",
              "\n",
              "  <svg xmlns=\"http://www.w3.org/2000/svg\" height=\"24px\" viewBox=\"0 -960 960 960\">\n",
              "    <path d=\"M120-120v-720h720v720H120Zm60-500h600v-160H180v160Zm220 220h160v-160H400v160Zm0 220h160v-160H400v160ZM180-400h160v-160H180v160Zm440 0h160v-160H620v160ZM180-180h160v-160H180v160Zm440 0h160v-160H620v160Z\"/>\n",
              "  </svg>\n",
              "    </button>\n",
              "\n",
              "  <style>\n",
              "    .colab-df-container {\n",
              "      display:flex;\n",
              "      gap: 12px;\n",
              "    }\n",
              "\n",
              "    .colab-df-convert {\n",
              "      background-color: #E8F0FE;\n",
              "      border: none;\n",
              "      border-radius: 50%;\n",
              "      cursor: pointer;\n",
              "      display: none;\n",
              "      fill: #1967D2;\n",
              "      height: 32px;\n",
              "      padding: 0 0 0 0;\n",
              "      width: 32px;\n",
              "    }\n",
              "\n",
              "    .colab-df-convert:hover {\n",
              "      background-color: #E2EBFA;\n",
              "      box-shadow: 0px 1px 2px rgba(60, 64, 67, 0.3), 0px 1px 3px 1px rgba(60, 64, 67, 0.15);\n",
              "      fill: #174EA6;\n",
              "    }\n",
              "\n",
              "    .colab-df-buttons div {\n",
              "      margin-bottom: 4px;\n",
              "    }\n",
              "\n",
              "    [theme=dark] .colab-df-convert {\n",
              "      background-color: #3B4455;\n",
              "      fill: #D2E3FC;\n",
              "    }\n",
              "\n",
              "    [theme=dark] .colab-df-convert:hover {\n",
              "      background-color: #434B5C;\n",
              "      box-shadow: 0px 1px 3px 1px rgba(0, 0, 0, 0.15);\n",
              "      filter: drop-shadow(0px 1px 2px rgba(0, 0, 0, 0.3));\n",
              "      fill: #FFFFFF;\n",
              "    }\n",
              "  </style>\n",
              "\n",
              "    <script>\n",
              "      const buttonEl =\n",
              "        document.querySelector('#df-b7fb83f9-b157-47d4-ba74-283924bce1c3 button.colab-df-convert');\n",
              "      buttonEl.style.display =\n",
              "        google.colab.kernel.accessAllowed ? 'block' : 'none';\n",
              "\n",
              "      async function convertToInteractive(key) {\n",
              "        const element = document.querySelector('#df-b7fb83f9-b157-47d4-ba74-283924bce1c3');\n",
              "        const dataTable =\n",
              "          await google.colab.kernel.invokeFunction('convertToInteractive',\n",
              "                                                    [key], {});\n",
              "        if (!dataTable) return;\n",
              "\n",
              "        const docLinkHtml = 'Like what you see? Visit the ' +\n",
              "          '<a target=\"_blank\" href=https://colab.research.google.com/notebooks/data_table.ipynb>data table notebook</a>'\n",
              "          + ' to learn more about interactive tables.';\n",
              "        element.innerHTML = '';\n",
              "        dataTable['output_type'] = 'display_data';\n",
              "        await google.colab.output.renderOutput(dataTable, element);\n",
              "        const docLink = document.createElement('div');\n",
              "        docLink.innerHTML = docLinkHtml;\n",
              "        element.appendChild(docLink);\n",
              "      }\n",
              "    </script>\n",
              "  </div>\n",
              "\n",
              "\n",
              "<div id=\"df-4acefdef-0295-499a-988e-19ecf05b2dbf\">\n",
              "  <button class=\"colab-df-quickchart\" onclick=\"quickchart('df-4acefdef-0295-499a-988e-19ecf05b2dbf')\"\n",
              "            title=\"Suggest charts\"\n",
              "            style=\"display:none;\">\n",
              "\n",
              "<svg xmlns=\"http://www.w3.org/2000/svg\" height=\"24px\"viewBox=\"0 0 24 24\"\n",
              "     width=\"24px\">\n",
              "    <g>\n",
              "        <path d=\"M19 3H5c-1.1 0-2 .9-2 2v14c0 1.1.9 2 2 2h14c1.1 0 2-.9 2-2V5c0-1.1-.9-2-2-2zM9 17H7v-7h2v7zm4 0h-2V7h2v10zm4 0h-2v-4h2v4z\"/>\n",
              "    </g>\n",
              "</svg>\n",
              "  </button>\n",
              "\n",
              "<style>\n",
              "  .colab-df-quickchart {\n",
              "      --bg-color: #E8F0FE;\n",
              "      --fill-color: #1967D2;\n",
              "      --hover-bg-color: #E2EBFA;\n",
              "      --hover-fill-color: #174EA6;\n",
              "      --disabled-fill-color: #AAA;\n",
              "      --disabled-bg-color: #DDD;\n",
              "  }\n",
              "\n",
              "  [theme=dark] .colab-df-quickchart {\n",
              "      --bg-color: #3B4455;\n",
              "      --fill-color: #D2E3FC;\n",
              "      --hover-bg-color: #434B5C;\n",
              "      --hover-fill-color: #FFFFFF;\n",
              "      --disabled-bg-color: #3B4455;\n",
              "      --disabled-fill-color: #666;\n",
              "  }\n",
              "\n",
              "  .colab-df-quickchart {\n",
              "    background-color: var(--bg-color);\n",
              "    border: none;\n",
              "    border-radius: 50%;\n",
              "    cursor: pointer;\n",
              "    display: none;\n",
              "    fill: var(--fill-color);\n",
              "    height: 32px;\n",
              "    padding: 0;\n",
              "    width: 32px;\n",
              "  }\n",
              "\n",
              "  .colab-df-quickchart:hover {\n",
              "    background-color: var(--hover-bg-color);\n",
              "    box-shadow: 0 1px 2px rgba(60, 64, 67, 0.3), 0 1px 3px 1px rgba(60, 64, 67, 0.15);\n",
              "    fill: var(--button-hover-fill-color);\n",
              "  }\n",
              "\n",
              "  .colab-df-quickchart-complete:disabled,\n",
              "  .colab-df-quickchart-complete:disabled:hover {\n",
              "    background-color: var(--disabled-bg-color);\n",
              "    fill: var(--disabled-fill-color);\n",
              "    box-shadow: none;\n",
              "  }\n",
              "\n",
              "  .colab-df-spinner {\n",
              "    border: 2px solid var(--fill-color);\n",
              "    border-color: transparent;\n",
              "    border-bottom-color: var(--fill-color);\n",
              "    animation:\n",
              "      spin 1s steps(1) infinite;\n",
              "  }\n",
              "\n",
              "  @keyframes spin {\n",
              "    0% {\n",
              "      border-color: transparent;\n",
              "      border-bottom-color: var(--fill-color);\n",
              "      border-left-color: var(--fill-color);\n",
              "    }\n",
              "    20% {\n",
              "      border-color: transparent;\n",
              "      border-left-color: var(--fill-color);\n",
              "      border-top-color: var(--fill-color);\n",
              "    }\n",
              "    30% {\n",
              "      border-color: transparent;\n",
              "      border-left-color: var(--fill-color);\n",
              "      border-top-color: var(--fill-color);\n",
              "      border-right-color: var(--fill-color);\n",
              "    }\n",
              "    40% {\n",
              "      border-color: transparent;\n",
              "      border-right-color: var(--fill-color);\n",
              "      border-top-color: var(--fill-color);\n",
              "    }\n",
              "    60% {\n",
              "      border-color: transparent;\n",
              "      border-right-color: var(--fill-color);\n",
              "    }\n",
              "    80% {\n",
              "      border-color: transparent;\n",
              "      border-right-color: var(--fill-color);\n",
              "      border-bottom-color: var(--fill-color);\n",
              "    }\n",
              "    90% {\n",
              "      border-color: transparent;\n",
              "      border-bottom-color: var(--fill-color);\n",
              "    }\n",
              "  }\n",
              "</style>\n",
              "\n",
              "  <script>\n",
              "    async function quickchart(key) {\n",
              "      const quickchartButtonEl =\n",
              "        document.querySelector('#' + key + ' button');\n",
              "      quickchartButtonEl.disabled = true;  // To prevent multiple clicks.\n",
              "      quickchartButtonEl.classList.add('colab-df-spinner');\n",
              "      try {\n",
              "        const charts = await google.colab.kernel.invokeFunction(\n",
              "            'suggestCharts', [key], {});\n",
              "      } catch (error) {\n",
              "        console.error('Error during call to suggestCharts:', error);\n",
              "      }\n",
              "      quickchartButtonEl.classList.remove('colab-df-spinner');\n",
              "      quickchartButtonEl.classList.add('colab-df-quickchart-complete');\n",
              "    }\n",
              "    (() => {\n",
              "      let quickchartButtonEl =\n",
              "        document.querySelector('#df-4acefdef-0295-499a-988e-19ecf05b2dbf button');\n",
              "      quickchartButtonEl.style.display =\n",
              "        google.colab.kernel.accessAllowed ? 'block' : 'none';\n",
              "    })();\n",
              "  </script>\n",
              "</div>\n",
              "\n",
              "    </div>\n",
              "  </div>\n"
            ],
            "application/vnd.google.colaboratory.intrinsic+json": {
              "type": "dataframe",
              "variable_name": "df",
              "summary": "{\n  \"name\": \"df\",\n  \"rows\": 4915,\n  \"fields\": [\n    {\n      \"column\": \"reviewerID\",\n      \"properties\": {\n        \"dtype\": \"string\",\n        \"num_unique_values\": 4915,\n        \"samples\": [\n          \"A3V5DNLW7DPMUA\",\n          \"A1F08OEM2LEJLK\",\n          \"AOOJ8Y18T3DGM\"\n        ],\n        \"semantic_type\": \"\",\n        \"description\": \"\"\n      }\n    },\n    {\n      \"column\": \"asin\",\n      \"properties\": {\n        \"dtype\": \"category\",\n        \"num_unique_values\": 1,\n        \"samples\": [\n          \"B007WTAJTO\"\n        ],\n        \"semantic_type\": \"\",\n        \"description\": \"\"\n      }\n    },\n    {\n      \"column\": \"reviewerName\",\n      \"properties\": {\n        \"dtype\": \"string\",\n        \"num_unique_values\": 4594,\n        \"samples\": [\n          \"nta699\"\n        ],\n        \"semantic_type\": \"\",\n        \"description\": \"\"\n      }\n    },\n    {\n      \"column\": \"helpful\",\n      \"properties\": {\n        \"dtype\": \"category\",\n        \"num_unique_values\": 42,\n        \"samples\": [\n          \"[1952, 2020]\"\n        ],\n        \"semantic_type\": \"\",\n        \"description\": \"\"\n      }\n    },\n    {\n      \"column\": \"reviewText\",\n      \"properties\": {\n        \"dtype\": \"string\",\n        \"num_unique_values\": 4912,\n        \"samples\": [\n          \"bought extended memory galaxy iii great price easy install phone recognized instantly supposed\"\n        ],\n        \"semantic_type\": \"\",\n        \"description\": \"\"\n      }\n    },\n    {\n      \"column\": \"overall\",\n      \"properties\": {\n        \"dtype\": \"number\",\n        \"std\": 0.9968451383820338,\n        \"min\": 1.0,\n        \"max\": 5.0,\n        \"num_unique_values\": 5,\n        \"samples\": [\n          5.0\n        ],\n        \"semantic_type\": \"\",\n        \"description\": \"\"\n      }\n    },\n    {\n      \"column\": \"summary\",\n      \"properties\": {\n        \"dtype\": \"string\",\n        \"num_unique_values\": 3885,\n        \"samples\": [\n          \"NICE!!!\"\n        ],\n        \"semantic_type\": \"\",\n        \"description\": \"\"\n      }\n    },\n    {\n      \"column\": \"unixReviewTime\",\n      \"properties\": {\n        \"dtype\": \"number\",\n        \"std\": 15818574,\n        \"min\": 1339200000,\n        \"max\": 1406073600,\n        \"num_unique_values\": 690,\n        \"samples\": [\n          1386028800\n        ],\n        \"semantic_type\": \"\",\n        \"description\": \"\"\n      }\n    },\n    {\n      \"column\": \"reviewTime\",\n      \"properties\": {\n        \"dtype\": \"object\",\n        \"num_unique_values\": 690,\n        \"samples\": [\n          \"2013-03-12\"\n        ],\n        \"semantic_type\": \"\",\n        \"description\": \"\"\n      }\n    },\n    {\n      \"column\": \"day_diff\",\n      \"properties\": {\n        \"dtype\": \"number\",\n        \"std\": 209,\n        \"min\": 1,\n        \"max\": 1064,\n        \"num_unique_values\": 690,\n        \"samples\": [\n          636\n        ],\n        \"semantic_type\": \"\",\n        \"description\": \"\"\n      }\n    },\n    {\n      \"column\": \"helpful_yes\",\n      \"properties\": {\n        \"dtype\": \"number\",\n        \"std\": 41,\n        \"min\": 0,\n        \"max\": 1952,\n        \"num_unique_values\": 23,\n        \"samples\": [\n          1428\n        ],\n        \"semantic_type\": \"\",\n        \"description\": \"\"\n      }\n    },\n    {\n      \"column\": \"total_vote\",\n      \"properties\": {\n        \"dtype\": \"number\",\n        \"std\": 44,\n        \"min\": 0,\n        \"max\": 2020,\n        \"num_unique_values\": 26,\n        \"samples\": [\n          495\n        ],\n        \"semantic_type\": \"\",\n        \"description\": \"\"\n      }\n    },\n    {\n      \"column\": \"polarity_score\",\n      \"properties\": {\n        \"dtype\": \"number\",\n        \"std\": 0.4413106818685574,\n        \"min\": -0.9929,\n        \"max\": 0.9989,\n        \"num_unique_values\": 1159,\n        \"samples\": [\n          -0.6501\n        ],\n        \"semantic_type\": \"\",\n        \"description\": \"\"\n      }\n    },\n    {\n      \"column\": \"sentiment_label\",\n      \"properties\": {\n        \"dtype\": \"number\",\n        \"std\": 0,\n        \"min\": 0,\n        \"max\": 1,\n        \"num_unique_values\": 2,\n        \"samples\": [\n          1\n        ],\n        \"semantic_type\": \"\",\n        \"description\": \"\"\n      }\n    }\n  ]\n}"
            }
          },
          "metadata": {},
          "execution_count": 64
        }
      ],
      "source": [
        "df.head()"
      ]
    },
    {
      "cell_type": "code",
      "execution_count": 65,
      "id": "bf040276-2448-4e61-be2e-c71d88a56c39",
      "metadata": {
        "colab": {
          "base_uri": "https://localhost:8080/",
          "height": 472
        },
        "id": "bf040276-2448-4e61-be2e-c71d88a56c39",
        "outputId": "0281507b-a993-464a-e5a4-90e100efa140"
      },
      "outputs": [
        {
          "output_type": "display_data",
          "data": {
            "text/plain": [
              "<Figure size 640x480 with 1 Axes>"
            ],
            "image/png": "[encoded data removed]"
          },
          "metadata": {}
        }
      ],
      "source": [
        "# Map 0 to 'neg' and 1 to 'pos'\n",
        "df['sentiment_label'] = df['sentiment_label'].map({0: 'neg', 1: 'pos'})\n",
        "\n",
        "# Plot the histogram using seaborn\n",
        "sns.countplot(x='sentiment_label', data=df, palette=['salmon', 'skyblue'])\n",
        "\n",
        "# Add title and labels\n",
        "plt.title('Histogram of Sentiment Distribution')\n",
        "plt.xlabel('Sentiment')\n",
        "plt.ylabel('Count')\n",
        "\n",
        "# Display the plot\n",
        "plt.show()\n"
      ]
    },
    {
      "cell_type": "code",
      "execution_count": 66,
      "id": "9eaeeb10",
      "metadata": {
        "papermill": {
          "duration": 0.040677,
          "end_time": "2024-01-08T20:47:50.572268",
          "exception": false,
          "start_time": "2024-01-08T20:47:50.531591",
          "status": "completed"
        },
        "tags": [],
        "id": "9eaeeb10"
      },
      "outputs": [],
      "source": [
        "y = df[\"sentiment_label\"] # dependent variable"
      ]
    },
    {
      "cell_type": "code",
      "execution_count": 67,
      "id": "07e690bb",
      "metadata": {
        "papermill": {
          "duration": 0.041058,
          "end_time": "2024-01-08T20:47:50.645971",
          "exception": false,
          "start_time": "2024-01-08T20:47:50.604913",
          "status": "completed"
        },
        "tags": [],
        "id": "07e690bb"
      },
      "outputs": [],
      "source": [
        "X = df[\"reviewText\"] # independent variable"
      ]
    },
    {
      "cell_type": "markdown",
      "id": "6328e18a",
      "metadata": {
        "papermill": {
          "duration": 0.032389,
          "end_time": "2024-01-08T20:47:50.844559",
          "exception": false,
          "start_time": "2024-01-08T20:47:50.812170",
          "status": "completed"
        },
        "tags": [],
        "id": "6328e18a"
      },
      "source": [
        "**Word Frequency**"
      ]
    },
    {
      "cell_type": "code",
      "execution_count": 68,
      "id": "ba01ad3b",
      "metadata": {
        "papermill": {
          "duration": 0.039433,
          "end_time": "2024-01-08T20:47:50.916581",
          "exception": false,
          "start_time": "2024-01-08T20:47:50.877148",
          "status": "completed"
        },
        "tags": [],
        "id": "ba01ad3b"
      },
      "outputs": [],
      "source": [
        "vectorizer = CountVectorizer()"
      ]
    },
    {
      "cell_type": "code",
      "execution_count": 69,
      "id": "925bd0ed",
      "metadata": {
        "papermill": {
          "duration": 0.140964,
          "end_time": "2024-01-08T20:47:51.089612",
          "exception": false,
          "start_time": "2024-01-08T20:47:50.948648",
          "status": "completed"
        },
        "tags": [],
        "id": "925bd0ed"
      },
      "outputs": [],
      "source": [
        "X_count = vectorizer.fit_transform(X)"
      ]
    },
    {
      "cell_type": "code",
      "execution_count": 70,
      "id": "e920cd46",
      "metadata": {
        "papermill": {
          "duration": 0.047648,
          "end_time": "2024-01-08T20:47:51.170172",
          "exception": false,
          "start_time": "2024-01-08T20:47:51.122524",
          "status": "completed"
        },
        "tags": [],
        "colab": {
          "base_uri": "https://localhost:8080/"
        },
        "id": "e920cd46",
        "outputId": "b088f57e-737a-42d6-a8ef-d9cd0651405b"
      },
      "outputs": [
        {
          "output_type": "execute_result",
          "data": {
            "text/plain": [
              "array(['access', 'accessed', 'accessible', 'accessing', 'accessory'],\n",
              "      dtype=object)"
            ]
          },
          "metadata": {},
          "execution_count": 70
        }
      ],
      "source": [
        "vectorizer.get_feature_names_out()[10:15]"
      ]
    },
    {
      "cell_type": "code",
      "execution_count": 71,
      "id": "b5534a93",
      "metadata": {
        "papermill": {
          "duration": 0.075889,
          "end_time": "2024-01-08T20:47:51.280731",
          "exception": false,
          "start_time": "2024-01-08T20:47:51.204842",
          "status": "completed"
        },
        "tags": [],
        "colab": {
          "base_uri": "https://localhost:8080/"
        },
        "id": "b5534a93",
        "outputId": "7f72376e-fa27-4ce0-ee48-0d4a21798203"
      },
      "outputs": [
        {
          "output_type": "execute_result",
          "data": {
            "text/plain": [
              "array([[0, 0, 0, ..., 0, 0, 0],\n",
              "       [0, 0, 0, ..., 0, 0, 0],\n",
              "       [0, 0, 0, ..., 0, 0, 0],\n",
              "       [0, 0, 0, ..., 0, 0, 0],\n",
              "       [0, 0, 0, ..., 0, 0, 0]])"
            ]
          },
          "metadata": {},
          "execution_count": 71
        }
      ],
      "source": [
        "X_count.toarray()[10:15]"
      ]
    },
    {
      "cell_type": "markdown",
      "id": "d6890012",
      "metadata": {
        "papermill": {
          "duration": 0.032395,
          "end_time": "2024-01-08T20:47:51.346756",
          "exception": false,
          "start_time": "2024-01-08T20:47:51.314361",
          "status": "completed"
        },
        "tags": [],
        "id": "d6890012"
      },
      "source": [
        "**N-Gram Frequency**"
      ]
    },
    {
      "cell_type": "code",
      "execution_count": 73,
      "id": "31bfd97c",
      "metadata": {
        "papermill": {
          "duration": 0.041401,
          "end_time": "2024-01-08T20:47:51.420073",
          "exception": false,
          "start_time": "2024-01-08T20:47:51.378672",
          "status": "completed"
        },
        "tags": [],
        "id": "31bfd97c"
      },
      "outputs": [],
      "source": [
        "vectorizer2 = CountVectorizer(analyzer='word', ngram_range=(2, 2))"
      ]
    },
    {
      "cell_type": "code",
      "execution_count": 74,
      "id": "20f700cf",
      "metadata": {
        "papermill": {
          "duration": 0.320476,
          "end_time": "2024-01-08T20:47:51.773579",
          "exception": false,
          "start_time": "2024-01-08T20:47:51.453103",
          "status": "completed"
        },
        "tags": [],
        "id": "20f700cf"
      },
      "outputs": [],
      "source": [
        "X_n = vectorizer2.fit_transform(X)"
      ]
    },
    {
      "cell_type": "code",
      "execution_count": 75,
      "id": "57ba6c95",
      "metadata": {
        "papermill": {
          "duration": 0.100596,
          "end_time": "2024-01-08T20:47:51.906501",
          "exception": false,
          "start_time": "2024-01-08T20:47:51.805905",
          "status": "completed"
        },
        "tags": [],
        "colab": {
          "base_uri": "https://localhost:8080/"
        },
        "id": "57ba6c95",
        "outputId": "a048bee0-4aca-4e3d-cc4e-fa5fb01da663"
      },
      "outputs": [
        {
          "output_type": "execute_result",
          "data": {
            "text/plain": [
              "array(['ability put', 'ability sandisk', 'ability something',\n",
              "       'ability stick', 'ability store'], dtype=object)"
            ]
          },
          "metadata": {},
          "execution_count": 75
        }
      ],
      "source": [
        "vectorizer2.get_feature_names_out()[10:15]"
      ]
    },
    {
      "cell_type": "code",
      "execution_count": 76,
      "id": "e07ab7ac",
      "metadata": {
        "papermill": {
          "duration": 0.140609,
          "end_time": "2024-01-08T20:47:52.080708",
          "exception": false,
          "start_time": "2024-01-08T20:47:51.940099",
          "status": "completed"
        },
        "tags": [],
        "colab": {
          "base_uri": "https://localhost:8080/"
        },
        "id": "e07ab7ac",
        "outputId": "b8363f81-cd64-4cba-aa84-7865f944ba55"
      },
      "outputs": [
        {
          "output_type": "execute_result",
          "data": {
            "text/plain": [
              "array([[0, 0, 0, ..., 0, 0, 0],\n",
              "       [0, 0, 0, ..., 0, 0, 0],\n",
              "       [0, 0, 0, ..., 0, 0, 0],\n",
              "       ...,\n",
              "       [0, 0, 0, ..., 0, 0, 0],\n",
              "       [0, 0, 0, ..., 0, 0, 0],\n",
              "       [0, 0, 0, ..., 0, 0, 0]])"
            ]
          },
          "metadata": {},
          "execution_count": 76
        }
      ],
      "source": [
        "X_n.toarray()"
      ]
    },
    {
      "cell_type": "markdown",
      "id": "9dcf3fb6",
      "metadata": {
        "papermill": {
          "duration": 0.034095,
          "end_time": "2024-01-08T20:47:52.214082",
          "exception": false,
          "start_time": "2024-01-08T20:47:52.179987",
          "status": "completed"
        },
        "tags": [],
        "id": "9dcf3fb6"
      },
      "source": [
        "**Word**"
      ]
    },
    {
      "cell_type": "code",
      "execution_count": 77,
      "id": "e17db9ff",
      "metadata": {
        "papermill": {
          "duration": 0.041303,
          "end_time": "2024-01-08T20:47:52.288661",
          "exception": false,
          "start_time": "2024-01-08T20:47:52.247358",
          "status": "completed"
        },
        "tags": [],
        "id": "e17db9ff"
      },
      "outputs": [],
      "source": [
        "tf_idf_word_vectorizer = TfidfVectorizer()"
      ]
    },
    {
      "cell_type": "code",
      "execution_count": 78,
      "id": "42fb26c8",
      "metadata": {
        "papermill": {
          "duration": 0.147609,
          "end_time": "2024-01-08T20:47:52.471007",
          "exception": false,
          "start_time": "2024-01-08T20:47:52.323398",
          "status": "completed"
        },
        "tags": [],
        "id": "42fb26c8"
      },
      "outputs": [],
      "source": [
        "X_tf_idf_word = tf_idf_word_vectorizer.fit_transform(X)"
      ]
    },
    {
      "cell_type": "code",
      "execution_count": 79,
      "id": "b48b979b-c240-4992-8c33-adc1dd8716f6",
      "metadata": {
        "colab": {
          "base_uri": "https://localhost:8080/"
        },
        "id": "b48b979b-c240-4992-8c33-adc1dd8716f6",
        "outputId": "f990ee8f-1796-4cc4-9c67-71946e5b73d3"
      },
      "outputs": [
        {
          "output_type": "stream",
          "name": "stdout",
          "text": [
            "(4915, 3665)\n",
            "['access' 'accessed' 'accessible' 'accessing' 'accessory']\n"
          ]
        }
      ],
      "source": [
        "print(X_tf_idf_word.shape)  # Print the shape of the TF-IDF matrix\n",
        "print(tf_idf_word_vectorizer.get_feature_names_out()[10:15])  # Print a subset of feature names"
      ]
    },
    {
      "cell_type": "code",
      "execution_count": 80,
      "id": "a5985b76-c058-4f0c-bb07-1e502a7f1c1f",
      "metadata": {
        "colab": {
          "base_uri": "https://localhost:8080/"
        },
        "id": "a5985b76-c058-4f0c-bb07-1e502a7f1c1f",
        "outputId": "10b95be2-f1a9-4180-82eb-0593bc61d984"
      },
      "outputs": [
        {
          "output_type": "stream",
          "name": "stdout",
          "text": [
            "[[0. 0. 0. ... 0. 0. 0.]\n",
            " [0. 0. 0. ... 0. 0. 0.]\n",
            " [0. 0. 0. ... 0. 0. 0.]\n",
            " ...\n",
            " [0. 0. 0. ... 0. 0. 0.]\n",
            " [0. 0. 0. ... 0. 0. 0.]\n",
            " [0. 0. 0. ... 0. 0. 0.]]\n"
          ]
        }
      ],
      "source": [
        "print(X_tf_idf_word.toarray())  # Convert to dense format (use with caution for large matrices)"
      ]
    },
    {
      "cell_type": "markdown",
      "id": "dec2b8c5",
      "metadata": {
        "papermill": {
          "duration": 0.032631,
          "end_time": "2024-01-08T20:47:52.536408",
          "exception": false,
          "start_time": "2024-01-08T20:47:52.503777",
          "status": "completed"
        },
        "tags": [],
        "id": "dec2b8c5"
      },
      "source": [
        "**N-Gram**"
      ]
    },
    {
      "cell_type": "code",
      "execution_count": 81,
      "id": "5f986518",
      "metadata": {
        "papermill": {
          "duration": 0.043144,
          "end_time": "2024-01-08T20:47:52.614014",
          "exception": false,
          "start_time": "2024-01-08T20:47:52.570870",
          "status": "completed"
        },
        "tags": [],
        "id": "5f986518"
      },
      "outputs": [],
      "source": [
        "tf_idf_ngram_vectorizer = TfidfVectorizer(ngram_range=(2, 3))"
      ]
    },
    {
      "cell_type": "code",
      "execution_count": 82,
      "id": "ab4ce80e",
      "metadata": {
        "papermill": {
          "duration": 0.693086,
          "end_time": "2024-01-08T20:47:53.340657",
          "exception": false,
          "start_time": "2024-01-08T20:47:52.647571",
          "status": "completed"
        },
        "tags": [],
        "id": "ab4ce80e"
      },
      "outputs": [],
      "source": [
        "X_tf_idf_ngram = tf_idf_ngram_vectorizer.fit_transform(X)"
      ]
    },
    {
      "cell_type": "code",
      "execution_count": 83,
      "id": "65832ad3",
      "metadata": {
        "execution": {
          "iopub.execute_input": "2024-01-08T20:47:53.541133Z",
          "iopub.status.busy": "2024-01-08T20:47:53.540736Z",
          "iopub.status.idle": "2024-01-08T20:47:53.610554Z",
          "shell.execute_reply": "2024-01-08T20:47:53.609823Z"
        },
        "papermill": {
          "duration": 0.105765,
          "end_time": "2024-01-08T20:47:53.612855",
          "exception": false,
          "start_time": "2024-01-08T20:47:53.507090",
          "status": "completed"
        },
        "tags": [],
        "id": "65832ad3"
      },
      "outputs": [],
      "source": [
        "log_model = LogisticRegression().fit(X_tf_idf_word, y)"
      ]
    },
    {
      "cell_type": "code",
      "execution_count": 84,
      "id": "b2a9e7a4",
      "metadata": {
        "execution": {
          "iopub.execute_input": "2024-01-08T20:47:53.682211Z",
          "iopub.status.busy": "2024-01-08T20:47:53.681407Z",
          "iopub.status.idle": "2024-01-08T20:47:53.953887Z",
          "shell.execute_reply": "2024-01-08T20:47:53.953001Z"
        },
        "papermill": {
          "duration": 0.309313,
          "end_time": "2024-01-08T20:47:53.955840",
          "exception": false,
          "start_time": "2024-01-08T20:47:53.646527",
          "status": "completed"
        },
        "tags": [],
        "colab": {
          "base_uri": "https://localhost:8080/"
        },
        "id": "b2a9e7a4",
        "outputId": "a6e0e49b-82d4-44b9-80cf-0ed43c51853b"
      },
      "outputs": [
        {
          "output_type": "execute_result",
          "data": {
            "text/plain": [
              "0.830111902339776"
            ]
          },
          "metadata": {},
          "execution_count": 84
        }
      ],
      "source": [
        "cross_val_score(log_model,\n",
        "                X_tf_idf_word,\n",
        "                y,\n",
        "                scoring=\"accuracy\",\n",
        "                cv=5).mean()"
      ]
    },
    {
      "cell_type": "code",
      "execution_count": 85,
      "id": "b3ed5dcd",
      "metadata": {
        "execution": {
          "iopub.execute_input": "2024-01-08T20:47:54.033583Z",
          "iopub.status.busy": "2024-01-08T20:47:54.032865Z",
          "iopub.status.idle": "2024-01-08T20:47:54.038934Z",
          "shell.execute_reply": "2024-01-08T20:47:54.037811Z"
        },
        "papermill": {
          "duration": 0.052334,
          "end_time": "2024-01-08T20:47:54.041331",
          "exception": false,
          "start_time": "2024-01-08T20:47:53.988997",
          "status": "completed"
        },
        "tags": [],
        "id": "b3ed5dcd"
      },
      "outputs": [],
      "source": [
        "new_review = pd.Series(\"this product is great\")"
      ]
    },
    {
      "cell_type": "code",
      "execution_count": 86,
      "id": "1a8fa64b",
      "metadata": {
        "execution": {
          "iopub.execute_input": "2024-01-08T20:47:54.112872Z",
          "iopub.status.busy": "2024-01-08T20:47:54.112487Z",
          "iopub.status.idle": "2024-01-08T20:47:54.117157Z",
          "shell.execute_reply": "2024-01-08T20:47:54.116201Z"
        },
        "papermill": {
          "duration": 0.040748,
          "end_time": "2024-01-08T20:47:54.119042",
          "exception": false,
          "start_time": "2024-01-08T20:47:54.078294",
          "status": "completed"
        },
        "tags": [],
        "id": "1a8fa64b"
      },
      "outputs": [],
      "source": [
        "new_review = pd.Series(\"look at that shit very bad\")"
      ]
    },
    {
      "cell_type": "code",
      "execution_count": 87,
      "id": "0818f2df",
      "metadata": {
        "execution": {
          "iopub.execute_input": "2024-01-08T20:47:54.187336Z",
          "iopub.status.busy": "2024-01-08T20:47:54.186907Z",
          "iopub.status.idle": "2024-01-08T20:47:54.193403Z",
          "shell.execute_reply": "2024-01-08T20:47:54.191498Z"
        },
        "papermill": {
          "duration": 0.04412,
          "end_time": "2024-01-08T20:47:54.196182",
          "exception": false,
          "start_time": "2024-01-08T20:47:54.152062",
          "status": "completed"
        },
        "tags": [],
        "id": "0818f2df"
      },
      "outputs": [],
      "source": [
        "new_review = pd.Series(\"it was good but I am sure that it fits me\")"
      ]
    },
    {
      "cell_type": "code",
      "execution_count": 88,
      "id": "5d1d37bb",
      "metadata": {
        "execution": {
          "iopub.execute_input": "2024-01-08T20:47:54.264849Z",
          "iopub.status.busy": "2024-01-08T20:47:54.264504Z",
          "iopub.status.idle": "2024-01-08T20:47:54.365204Z",
          "shell.execute_reply": "2024-01-08T20:47:54.363748Z"
        },
        "papermill": {
          "duration": 0.137589,
          "end_time": "2024-01-08T20:47:54.367524",
          "exception": false,
          "start_time": "2024-01-08T20:47:54.229935",
          "status": "completed"
        },
        "tags": [],
        "id": "5d1d37bb"
      },
      "outputs": [],
      "source": [
        "new_review = TfidfVectorizer().fit(X).transform(new_review)"
      ]
    },
    {
      "cell_type": "code",
      "execution_count": 89,
      "id": "1a9fb45c",
      "metadata": {
        "execution": {
          "iopub.execute_input": "2024-01-08T20:47:54.433364Z",
          "iopub.status.busy": "2024-01-08T20:47:54.433024Z",
          "iopub.status.idle": "2024-01-08T20:47:54.439705Z",
          "shell.execute_reply": "2024-01-08T20:47:54.438692Z"
        },
        "papermill": {
          "duration": 0.041792,
          "end_time": "2024-01-08T20:47:54.441512",
          "exception": false,
          "start_time": "2024-01-08T20:47:54.399720",
          "status": "completed"
        },
        "tags": [],
        "colab": {
          "base_uri": "https://localhost:8080/"
        },
        "id": "1a9fb45c",
        "outputId": "e600fca7-54fd-459e-fc3d-9a25191e9e6f"
      },
      "outputs": [
        {
          "output_type": "execute_result",
          "data": {
            "text/plain": [
              "array(['pos'], dtype=object)"
            ]
          },
          "metadata": {},
          "execution_count": 89
        }
      ],
      "source": [
        "log_model.predict(new_review)"
      ]
    },
    {
      "cell_type": "code",
      "execution_count": 90,
      "id": "f625e9ab",
      "metadata": {
        "execution": {
          "iopub.execute_input": "2024-01-08T20:47:54.510287Z",
          "iopub.status.busy": "2024-01-08T20:47:54.509975Z",
          "iopub.status.idle": "2024-01-08T20:47:54.516498Z",
          "shell.execute_reply": "2024-01-08T20:47:54.515686Z"
        },
        "papermill": {
          "duration": 0.043469,
          "end_time": "2024-01-08T20:47:54.518685",
          "exception": false,
          "start_time": "2024-01-08T20:47:54.475216",
          "status": "completed"
        },
        "tags": [],
        "id": "f625e9ab"
      },
      "outputs": [],
      "source": [
        "random_review = pd.Series(df[\"reviewText\"].sample(1).values)"
      ]
    },
    {
      "cell_type": "code",
      "execution_count": 91,
      "id": "10fcf329",
      "metadata": {
        "execution": {
          "iopub.execute_input": "2024-01-08T20:47:54.586743Z",
          "iopub.status.busy": "2024-01-08T20:47:54.586317Z",
          "iopub.status.idle": "2024-01-08T20:47:54.684145Z",
          "shell.execute_reply": "2024-01-08T20:47:54.682956Z"
        },
        "papermill": {
          "duration": 0.13512,
          "end_time": "2024-01-08T20:47:54.687059",
          "exception": false,
          "start_time": "2024-01-08T20:47:54.551939",
          "status": "completed"
        },
        "tags": [],
        "id": "10fcf329"
      },
      "outputs": [],
      "source": [
        "new_review = TfidfVectorizer().fit(X).transform(random_review)"
      ]
    },
    {
      "cell_type": "code",
      "execution_count": 92,
      "id": "ae9be14f",
      "metadata": {
        "execution": {
          "iopub.execute_input": "2024-01-08T20:47:54.755457Z",
          "iopub.status.busy": "2024-01-08T20:47:54.755078Z",
          "iopub.status.idle": "2024-01-08T20:47:54.763316Z",
          "shell.execute_reply": "2024-01-08T20:47:54.762650Z"
        },
        "papermill": {
          "duration": 0.044828,
          "end_time": "2024-01-08T20:47:54.764980",
          "exception": false,
          "start_time": "2024-01-08T20:47:54.720152",
          "status": "completed"
        },
        "tags": [],
        "colab": {
          "base_uri": "https://localhost:8080/"
        },
        "id": "ae9be14f",
        "outputId": "5caa5ddc-1e1e-41f4-f525-30f88c71946b"
      },
      "outputs": [
        {
          "output_type": "execute_result",
          "data": {
            "text/plain": [
              "array(['pos'], dtype=object)"
            ]
          },
          "metadata": {},
          "execution_count": 92
        }
      ],
      "source": [
        "log_model.predict(new_review)"
      ]
    },
    {
      "cell_type": "code",
      "execution_count": 93,
      "id": "9f972b12",
      "metadata": {
        "papermill": {
          "duration": 8.644607,
          "end_time": "2024-01-08T20:48:03.510733",
          "exception": false,
          "start_time": "2024-01-08T20:47:54.866126",
          "status": "completed"
        },
        "tags": [],
        "colab": {
          "base_uri": "https://localhost:8080/"
        },
        "id": "9f972b12",
        "outputId": "532b3eae-f0ac-4dc2-fd6e-d89549bb7bbd"
      },
      "outputs": [
        {
          "output_type": "execute_result",
          "data": {
            "text/plain": [
              "0.8402848423194303"
            ]
          },
          "metadata": {},
          "execution_count": 93
        }
      ],
      "source": [
        "# Count Vectors\n",
        "rf_model = RandomForestClassifier().fit(X_count, y)\n",
        "cross_val_score(rf_model, X_count, y, cv=5, n_jobs=-1).mean()"
      ]
    },
    {
      "cell_type": "code",
      "execution_count": 94,
      "id": "4ac65806",
      "metadata": {
        "papermill": {
          "duration": 8.222817,
          "end_time": "2024-01-08T20:48:11.767901",
          "exception": false,
          "start_time": "2024-01-08T20:48:03.545084",
          "status": "completed"
        },
        "tags": [],
        "colab": {
          "base_uri": "https://localhost:8080/"
        },
        "id": "4ac65806",
        "outputId": "0937c4cf-4882-4e99-e5f8-17454a0cd510"
      },
      "outputs": [
        {
          "output_type": "execute_result",
          "data": {
            "text/plain": [
              "0.8301119023397762"
            ]
          },
          "metadata": {},
          "execution_count": 94
        }
      ],
      "source": [
        "# TF-IDF Word-Level\n",
        "rf_model = RandomForestClassifier().fit(X_tf_idf_word, y)\n",
        "cross_val_score(rf_model, X_tf_idf_word, y, cv=5, n_jobs=-1).mean()"
      ]
    },
    {
      "cell_type": "code",
      "execution_count": 231,
      "id": "2dc23d22",
      "metadata": {
        "execution": {
          "iopub.execute_input": "2024-01-08T20:48:11.839155Z",
          "iopub.status.busy": "2024-01-08T20:48:11.838752Z",
          "iopub.status.idle": "2024-01-08T20:50:21.772710Z",
          "shell.execute_reply": "2024-01-08T20:50:21.771329Z"
        },
        "papermill": {
          "duration": 130.005727,
          "end_time": "2024-01-08T20:50:21.808912",
          "exception": false,
          "start_time": "2024-01-08T20:48:11.803185",
          "status": "completed"
        },
        "tags": [],
        "colab": {
          "base_uri": "https://localhost:8080/"
        },
        "id": "2dc23d22",
        "outputId": "b8854e2f-6bbd-46c0-a2fa-4749864db27c"
      },
      "outputs": [
        {
          "output_type": "execute_result",
          "data": {
            "text/plain": [
              "1.0"
            ]
          },
          "metadata": {},
          "execution_count": 231
        }
      ],
      "source": [
        "# TF-IDF N-GRAM\n",
        "rf_model = RandomForestClassifier().fit(X_tf_idf_ngram, y)\n",
        "cross_val_score(rf_model, X_tf_idf_ngram, y, cv=5, n_jobs=-1).mean()"
      ]
    },
    {
      "cell_type": "code",
      "execution_count": 96,
      "id": "8133ad19",
      "metadata": {
        "papermill": {
          "duration": 0.046054,
          "end_time": "2024-01-08T20:50:21.960167",
          "exception": false,
          "start_time": "2024-01-08T20:50:21.914113",
          "status": "completed"
        },
        "tags": [],
        "id": "8133ad19"
      },
      "outputs": [],
      "source": [
        "rf_model = RandomForestClassifier(random_state=17)"
      ]
    },
    {
      "cell_type": "code",
      "execution_count": 97,
      "id": "ac60369b",
      "metadata": {
        "papermill": {
          "duration": 0.043816,
          "end_time": "2024-01-08T20:50:22.039095",
          "exception": false,
          "start_time": "2024-01-08T20:50:21.995279",
          "status": "completed"
        },
        "tags": [],
        "id": "ac60369b"
      },
      "outputs": [],
      "source": [
        "rf_params = {\"max_depth\": [8, None],\n",
        "             \"max_features\": [7, \"auto\"],\n",
        "             \"min_samples_split\": [2, 5, 8],\n",
        "             \"n_estimators\": [100, 200]}"
      ]
    },
    {
      "cell_type": "code",
      "execution_count": 98,
      "id": "a1762cd9",
      "metadata": {
        "papermill": {
          "duration": 64.687492,
          "end_time": "2024-01-08T20:51:26.761735",
          "exception": false,
          "start_time": "2024-01-08T20:50:22.074243",
          "status": "completed"
        },
        "tags": [],
        "colab": {
          "base_uri": "https://localhost:8080/"
        },
        "id": "a1762cd9",
        "outputId": "682b3341-2b3c-42cd-a5ce-0c602c844413"
      },
      "outputs": [
        {
          "output_type": "stream",
          "name": "stdout",
          "text": [
            "Fitting 5 folds for each of 24 candidates, totalling 120 fits\n"
          ]
        }
      ],
      "source": [
        "rf_best_grid = GridSearchCV(rf_model,\n",
        "                            rf_params,\n",
        "                            cv=5,\n",
        "                            n_jobs=-1,\n",
        "                            verbose=1).fit(X_count, y)"
      ]
    },
    {
      "cell_type": "code",
      "execution_count": 99,
      "id": "8a30d213",
      "metadata": {
        "papermill": {
          "duration": 0.048312,
          "end_time": "2024-01-08T20:51:26.846409",
          "exception": false,
          "start_time": "2024-01-08T20:51:26.798097",
          "status": "completed"
        },
        "tags": [],
        "colab": {
          "base_uri": "https://localhost:8080/"
        },
        "id": "8a30d213",
        "outputId": "1ba13dda-4067-4cea-8bf7-1c766432ed83"
      },
      "outputs": [
        {
          "output_type": "execute_result",
          "data": {
            "text/plain": [
              "{'max_depth': None,\n",
              " 'max_features': 7,\n",
              " 'min_samples_split': 2,\n",
              " 'n_estimators': 100}"
            ]
          },
          "metadata": {},
          "execution_count": 99
        }
      ],
      "source": [
        "rf_best_grid.best_params_"
      ]
    },
    {
      "cell_type": "code",
      "execution_count": 100,
      "id": "4e0951fd",
      "metadata": {
        "papermill": {
          "duration": 2.330539,
          "end_time": "2024-01-08T20:51:29.214616",
          "exception": false,
          "start_time": "2024-01-08T20:51:26.884077",
          "status": "completed"
        },
        "tags": [],
        "id": "4e0951fd"
      },
      "outputs": [],
      "source": [
        "rf_final = rf_model.set_params(**rf_best_grid.best_params_, random_state=17).fit(X_count, y)"
      ]
    },
    {
      "cell_type": "code",
      "execution_count": 101,
      "id": "13e3cf25",
      "metadata": {
        "papermill": {
          "duration": 4.995765,
          "end_time": "2024-01-08T20:51:34.247089",
          "exception": false,
          "start_time": "2024-01-08T20:51:29.251324",
          "status": "completed"
        },
        "tags": [],
        "colab": {
          "base_uri": "https://localhost:8080/"
        },
        "id": "13e3cf25",
        "outputId": "7410ba9f-223e-4778-c7c2-005076ae6240"
      },
      "outputs": [
        {
          "output_type": "execute_result",
          "data": {
            "text/plain": [
              "0.8130213631739572"
            ]
          },
          "metadata": {},
          "execution_count": 101
        }
      ],
      "source": [
        "cross_val_score(rf_final, X_count, y, cv=5, n_jobs=-1).mean()"
      ]
    },
    {
      "cell_type": "markdown",
      "id": "67898761-34fa-423e-a8fc-ee74363ba308",
      "metadata": {
        "id": "67898761-34fa-423e-a8fc-ee74363ba308"
      },
      "source": [
        "DEEP LEARNING MODEL"
      ]
    },
    {
      "cell_type": "code",
      "source": [
        "from tensorflow.keras.models import Sequential\n",
        "from tensorflow.keras.layers import Embedding, LSTM, Dense, Dropout\n",
        "from tensorflow.keras.preprocessing.sequence import pad_sequences\n",
        "from tensorflow.keras.preprocessing.text import Tokenizer"
      ],
      "metadata": {
        "id": "tzYRmG8TLtfa"
      },
      "id": "tzYRmG8TLtfa",
      "execution_count": 122,
      "outputs": []
    },
    {
      "cell_type": "code",
      "source": [
        "texts = df['reviewText'].astype(str).tolist()\n",
        "labels = df['sentiment_label'].astype(int).tolist()"
      ],
      "metadata": {
        "id": "AK9z4NHgMgGB"
      },
      "id": "AK9z4NHgMgGB",
      "execution_count": 128,
      "outputs": []
    },
    {
      "cell_type": "code",
      "source": [
        "# Initialize tokenizer\n",
        "tokenizer = Tokenizer(num_words=5000)\n",
        "tokenizer.fit_on_texts(texts)\n",
        "sequences = tokenizer.texts_to_sequences(texts)\n",
        "X = pad_sequences(sequences, maxlen=100)"
      ],
      "metadata": {
        "id": "W2QbmarvM2v7"
      },
      "id": "W2QbmarvM2v7",
      "execution_count": 129,
      "outputs": []
    },
    {
      "cell_type": "code",
      "source": [
        "model = Sequential()\n",
        "model.add(Embedding(input_dim=5000, output_dim=128, input_length=100))\n",
        "model.add(LSTM(128, return_sequences=True))\n",
        "model.add(Dropout(0.5))\n",
        "model.add(LSTM(64))\n",
        "model.add(Dense(1, activation='sigmoid'))\n",
        "\n",
        "model.compile(optimizer='adam', loss='binary_crossentropy', metrics=['accuracy'])"
      ],
      "metadata": {
        "id": "8hKEhR0RMVbm"
      },
      "id": "8hKEhR0RMVbm",
      "execution_count": 130,
      "outputs": []
    },
    {
      "cell_type": "code",
      "source": [
        "import numpy as np\n",
        "y = np.array(labels)\n",
        "\n",
        "# Train the model\n",
        "model.fit(X, y, epochs=5, batch_size=32, validation_split=0.2)"
      ],
      "metadata": {
        "colab": {
          "base_uri": "https://localhost:8080/"
        },
        "id": "a0DFC9TXNDBz",
        "outputId": "b3f782f3-bc5e-46ed-82f9-593da6be7dc7"
      },
      "id": "a0DFC9TXNDBz",
      "execution_count": 131,
      "outputs": [
        {
          "output_type": "stream",
          "name": "stdout",
          "text": [
            "Epoch 1/5\n",
            "\u001b[1m123/123\u001b[0m \u001b[32m━━━━━━━━━━━━━━━━━━━━\u001b[0m\u001b[37m\u001b[0m \u001b[1m9s\u001b[0m 21ms/step - accuracy: 0.9850 - loss: 0.1085 - val_accuracy: 1.0000 - val_loss: 1.0882e-04\n",
            "Epoch 2/5\n",
            "\u001b[1m123/123\u001b[0m \u001b[32m━━━━━━━━━━━━━━━━━━━━\u001b[0m\u001b[37m\u001b[0m \u001b[1m5s\u001b[0m 13ms/step - accuracy: 1.0000 - loss: 1.0418e-04 - val_accuracy: 1.0000 - val_loss: 6.4637e-05\n",
            "Epoch 3/5\n",
            "\u001b[1m123/123\u001b[0m \u001b[32m━━━━━━━━━━━━━━━━━━━━\u001b[0m\u001b[37m\u001b[0m \u001b[1m2s\u001b[0m 12ms/step - accuracy: 1.0000 - loss: 6.3568e-05 - val_accuracy: 1.0000 - val_loss: 4.4578e-05\n",
            "Epoch 4/5\n",
            "\u001b[1m123/123\u001b[0m \u001b[32m━━━━━━━━━━━━━━━━━━━━\u001b[0m\u001b[37m\u001b[0m \u001b[1m3s\u001b[0m 12ms/step - accuracy: 1.0000 - loss: 4.4266e-05 - val_accuracy: 1.0000 - val_loss: 3.3719e-05\n",
            "Epoch 5/5\n",
            "\u001b[1m123/123\u001b[0m \u001b[32m━━━━━━━━━━━━━━━━━━━━\u001b[0m\u001b[37m\u001b[0m \u001b[1m3s\u001b[0m 18ms/step - accuracy: 1.0000 - loss: 3.3587e-05 - val_accuracy: 1.0000 - val_loss: 2.6579e-05\n"
          ]
        },
        {
          "output_type": "execute_result",
          "data": {
            "text/plain": [
              "<keras.src.callbacks.history.History at 0x7a25fd19f700>"
            ]
          },
          "metadata": {},
          "execution_count": 131
        }
      ]
    },
    {
      "cell_type": "code",
      "source": [
        "import torch\n",
        "from transformers import BertTokenizer, BertForSequenceClassification\n",
        "\n",
        "# Load pre-trained BERT model with a classification head\n",
        "model = BertForSequenceClassification.from_pretrained('bert-base-uncased', num_labels=2)\n",
        "tokenizer = BertTokenizer.from_pretrained('bert-base-uncased')\n",
        "\n",
        "# Move model to device\n",
        "device = torch.device('cuda' if torch.cuda.is_available() else 'cpu')\n",
        "model.to(device)\n"
      ],
      "metadata": {
        "colab": {
          "base_uri": "https://localhost:8080/"
        },
        "id": "Tz2Q0H4gQyne",
        "outputId": "b4e9c92c-fdaf-49bc-8d55-42e0958b5cf2"
      },
      "id": "Tz2Q0H4gQyne",
      "execution_count": 144,
      "outputs": [
        {
          "output_type": "stream",
          "name": "stderr",
          "text": [
            "Some weights of BertForSequenceClassification were not initialized from the model checkpoint at bert-base-uncased and are newly initialized: ['classifier.bias', 'classifier.weight']\n",
            "You should probably TRAIN this model on a down-stream task to be able to use it for predictions and inference.\n"
          ]
        },
        {
          "output_type": "execute_result",
          "data": {
            "text/plain": [
              "BertForSequenceClassification(\n",
              "  (bert): BertModel(\n",
              "    (embeddings): BertEmbeddings(\n",
              "      (word_embeddings): Embedding(30522, 768, padding_idx=0)\n",
              "      (position_embeddings): Embedding(512, 768)\n",
              "      (token_type_embeddings): Embedding(2, 768)\n",
              "      (LayerNorm): LayerNorm((768,), eps=1e-12, elementwise_affine=True)\n",
              "      (dropout): Dropout(p=0.1, inplace=False)\n",
              "    )\n",
              "    (encoder): BertEncoder(\n",
              "      (layer): ModuleList(\n",
              "        (0-11): 12 x BertLayer(\n",
              "          (attention): BertAttention(\n",
              "            (self): BertSdpaSelfAttention(\n",
              "              (query): Linear(in_features=768, out_features=768, bias=True)\n",
              "              (key): Linear(in_features=768, out_features=768, bias=True)\n",
              "              (value): Linear(in_features=768, out_features=768, bias=True)\n",
              "              (dropout): Dropout(p=0.1, inplace=False)\n",
              "            )\n",
              "            (output): BertSelfOutput(\n",
              "              (dense): Linear(in_features=768, out_features=768, bias=True)\n",
              "              (LayerNorm): LayerNorm((768,), eps=1e-12, elementwise_affine=True)\n",
              "              (dropout): Dropout(p=0.1, inplace=False)\n",
              "            )\n",
              "          )\n",
              "          (intermediate): BertIntermediate(\n",
              "            (dense): Linear(in_features=768, out_features=3072, bias=True)\n",
              "            (intermediate_act_fn): GELUActivation()\n",
              "          )\n",
              "          (output): BertOutput(\n",
              "            (dense): Linear(in_features=3072, out_features=768, bias=True)\n",
              "            (LayerNorm): LayerNorm((768,), eps=1e-12, elementwise_affine=True)\n",
              "            (dropout): Dropout(p=0.1, inplace=False)\n",
              "          )\n",
              "        )\n",
              "      )\n",
              "    )\n",
              "    (pooler): BertPooler(\n",
              "      (dense): Linear(in_features=768, out_features=768, bias=True)\n",
              "      (activation): Tanh()\n",
              "    )\n",
              "  )\n",
              "  (dropout): Dropout(p=0.1, inplace=False)\n",
              "  (classifier): Linear(in_features=768, out_features=2, bias=True)\n",
              ")"
            ]
          },
          "metadata": {},
          "execution_count": 144
        }
      ]
    },
    {
      "cell_type": "code",
      "source": [
        "# # Define training arguments\n",
        "# training_args = TrainingArguments(\n",
        "#     output_dir='./results',              # Output directory\n",
        "#     num_train_epochs=1,                  # Number of training epochs (adjust as needed)\n",
        "#     per_device_train_batch_size=8,       # Batch size for training\n",
        "#     per_device_eval_batch_size=8,        # Batch size for evaluation\n",
        "#     warmup_steps=500,                    # Number of warmup steps for learning rate scheduler\n",
        "#     weight_decay=0.01,                   # Strength of weight decay\n",
        "#     logging_dir='./logs',                # Directory for storing logs\n",
        "#     logging_steps=10,\n",
        "#     evaluation_strategy='steps',         # Evaluation strategy\n",
        "#     save_strategy='steps',               # Saving strategy\n",
        "#     save_steps=500,                      # Save model checkpoint every 500 steps\n",
        "#     load_best_model_at_end=True,         # Load the best model at the end of training\n",
        "#     metric_for_best_model='accuracy'     # Metric to monitor for early stopping\n",
        "# )\n",
        "\n",
        "# # Define Trainer with EarlyStoppingCallback\n",
        "# trainer = Trainer(\n",
        "#     model=model,                         # The model to be trained\n",
        "#     args=training_args,                  # Training arguments\n",
        "#     train_dataset=train_dataset,         # Training dataset\n",
        "#     eval_dataset=val_dataset,            # Evaluation dataset\n",
        "#     callbacks=[EarlyStoppingCallback(early_stopping_patience=2)]  # Early stopping callback\n",
        "# )\n",
        "\n",
        "# # Train the model\n",
        "# trainer.train()\n"
      ],
      "metadata": {
        "id": "6pRiPXQCXsJh"
      },
      "id": "6pRiPXQCXsJh",
      "execution_count": 243,
      "outputs": []
    },
    {
      "cell_type": "code",
      "source": [
        "import pandas as pd\n",
        "from transformers import BertTokenizer\n",
        "from torch.utils.data import Dataset\n",
        "\n",
        "tokenizer = BertTokenizer.from_pretrained('bert-base-uncased')\n",
        "\n",
        "# Define tokenization and dataset class\n",
        "class CustomDataset(Dataset):\n",
        "    def __init__(self, texts, labels, tokenizer, max_length=128):\n",
        "        self.texts = texts\n",
        "        self.labels = labels\n",
        "        self.tokenizer = tokenizer\n",
        "        self.max_length = max_length\n",
        "\n",
        "    def __len__(self):\n",
        "        return len(self.texts)\n",
        "\n",
        "    def __getitem__(self, idx):\n",
        "        text = self.texts[idx]\n",
        "        label = self.labels[idx]\n",
        "        encodings = self.tokenizer(text, truncation=True, padding='max_length', max_length=self.max_length, return_tensors='pt')\n",
        "        return {\n",
        "            'input_ids': encodings['input_ids'].squeeze(),\n",
        "            'attention_mask': encodings['attention_mask'].squeeze(),\n",
        "            'labels': torch.tensor(label, dtype=torch.long)\n",
        "        }\n",
        "\n",
        "# Split data\n",
        "train_texts, val_texts, train_labels, val_labels = train_test_split(\n",
        "    df['reviewText'].tolist(), df['sentiment_label'].tolist(), test_size=0.2, random_state=42\n",
        ")\n",
        "\n",
        "# Create datasets\n",
        "train_dataset = CustomDataset(train_texts, train_labels, tokenizer)\n",
        "val_dataset = CustomDataset(val_texts, val_labels, tokenizer)"
      ],
      "metadata": {
        "id": "tsRXKUSZpwdL"
      },
      "id": "tsRXKUSZpwdL",
      "execution_count": 255,
      "outputs": []
    },
    {
      "cell_type": "code",
      "source": [
        "from transformers import BertForSequenceClassification, Trainer, TrainingArguments\n",
        "\n",
        "# Load the model\n",
        "model = BertForSequenceClassification.from_pretrained('bert-base-uncased', num_labels=2)\n",
        "\n",
        "# Define training arguments\n",
        "training_args = TrainingArguments(\n",
        "    output_dir='./results',              # Output directory\n",
        "    num_train_epochs=1,                  # Number of training epochs (adjust as needed)\n",
        "    per_device_train_batch_size=8,       # Batch size for training\n",
        "    per_device_eval_batch_size=8,        # Batch size for evaluation\n",
        "    warmup_steps=500,                    # Number of warmup steps for learning rate scheduler\n",
        "    weight_decay=0.01,                   # Strength of weight decay\n",
        "    logging_dir='./logs',                # Directory for storing logs\n",
        "    logging_steps=10,\n",
        "    evaluation_strategy='steps',         # Evaluation strategy\n",
        "    save_strategy='steps',               # Saving strategy\n",
        "    save_steps=500,                      # Save model checkpoint every 500 steps\n",
        "    load_best_model_at_end=True,         # Load the best model at the end of training\n",
        "    metric_for_best_model='accuracy'     # Metric to monitor for early stopping\n",
        ")\n",
        "\n",
        "# Define Trainer\n",
        "trainer = Trainer(\n",
        "    model=model,                         # The model to be trained\n",
        "    args=training_args,                  # Training arguments\n",
        "    train_dataset=train_dataset,         # Training dataset\n",
        "    eval_dataset=val_dataset             # Evaluation dataset\n",
        ")\n",
        "\n",
        "# Train the model\n",
        "train_results = trainer.train()\n",
        "\n",
        "# Save the trainer state\n",
        "trainer_state = trainer.state"
      ],
      "metadata": {
        "colab": {
          "base_uri": "https://localhost:8080/",
          "height": 1000
        },
        "id": "G3t0iGUarEtk",
        "outputId": "5ba4ab43-2ce2-49af-dea4-fce2cb4ae5a8"
      },
      "id": "G3t0iGUarEtk",
      "execution_count": 258,
      "outputs": [
        {
          "output_type": "stream",
          "name": "stderr",
          "text": [
            "Some weights of BertForSequenceClassification were not initialized from the model checkpoint at bert-base-uncased and are newly initialized: ['classifier.bias', 'classifier.weight']\n",
            "You should probably TRAIN this model on a down-stream task to be able to use it for predictions and inference.\n"
          ]
        },
        {
          "output_type": "display_data",
          "data": {
            "text/plain": [
              "<IPython.core.display.HTML object>"
            ],
            "text/html": [
              "\n",
              "    <div>\n",
              "      \n",
              "      <progress value='492' max='492' style='width:300px; height:20px; vertical-align: middle;'></progress>\n",
              "      [492/492 07:52, Epoch 1/1]\n",
              "    </div>\n",
              "    <table border=\"1\" class=\"dataframe\">\n",
              "  <thead>\n",
              " <tr style=\"text-align: left;\">\n",
              "      <th>Step</th>\n",
              "      <th>Training Loss</th>\n",
              "      <th>Validation Loss</th>\n",
              "    </tr>\n",
              "  </thead>\n",
              "  <tbody>\n",
              "    <tr>\n",
              "      <td>10</td>\n",
              "      <td>0.685800</td>\n",
              "      <td>0.672188</td>\n",
              "    </tr>\n",
              "    <tr>\n",
              "      <td>20</td>\n",
              "      <td>0.628300</td>\n",
              "      <td>0.565697</td>\n",
              "    </tr>\n",
              "    <tr>\n",
              "      <td>30</td>\n",
              "      <td>0.517500</td>\n",
              "      <td>0.451054</td>\n",
              "    </tr>\n",
              "    <tr>\n",
              "      <td>40</td>\n",
              "      <td>0.407300</td>\n",
              "      <td>0.315048</td>\n",
              "    </tr>\n",
              "    <tr>\n",
              "      <td>50</td>\n",
              "      <td>0.257100</td>\n",
              "      <td>0.161510</td>\n",
              "    </tr>\n",
              "    <tr>\n",
              "      <td>60</td>\n",
              "      <td>0.129700</td>\n",
              "      <td>0.065464</td>\n",
              "    </tr>\n",
              "    <tr>\n",
              "      <td>70</td>\n",
              "      <td>0.050100</td>\n",
              "      <td>0.026111</td>\n",
              "    </tr>\n",
              "    <tr>\n",
              "      <td>80</td>\n",
              "      <td>0.023400</td>\n",
              "      <td>0.011815</td>\n",
              "    </tr>\n",
              "    <tr>\n",
              "      <td>90</td>\n",
              "      <td>0.011000</td>\n",
              "      <td>0.006334</td>\n",
              "    </tr>\n",
              "    <tr>\n",
              "      <td>100</td>\n",
              "      <td>0.006500</td>\n",
              "      <td>0.004066</td>\n",
              "    </tr>\n",
              "    <tr>\n",
              "      <td>110</td>\n",
              "      <td>0.004400</td>\n",
              "      <td>0.002882</td>\n",
              "    </tr>\n",
              "    <tr>\n",
              "      <td>120</td>\n",
              "      <td>0.003500</td>\n",
              "      <td>0.002158</td>\n",
              "    </tr>\n",
              "    <tr>\n",
              "      <td>130</td>\n",
              "      <td>0.003900</td>\n",
              "      <td>0.001720</td>\n",
              "    </tr>\n",
              "    <tr>\n",
              "      <td>140</td>\n",
              "      <td>0.002100</td>\n",
              "      <td>0.001402</td>\n",
              "    </tr>\n",
              "    <tr>\n",
              "      <td>150</td>\n",
              "      <td>0.001700</td>\n",
              "      <td>0.001173</td>\n",
              "    </tr>\n",
              "    <tr>\n",
              "      <td>160</td>\n",
              "      <td>0.001500</td>\n",
              "      <td>0.001011</td>\n",
              "    </tr>\n",
              "    <tr>\n",
              "      <td>170</td>\n",
              "      <td>0.001300</td>\n",
              "      <td>0.000851</td>\n",
              "    </tr>\n",
              "    <tr>\n",
              "      <td>180</td>\n",
              "      <td>0.001100</td>\n",
              "      <td>0.000758</td>\n",
              "    </tr>\n",
              "    <tr>\n",
              "      <td>190</td>\n",
              "      <td>0.001000</td>\n",
              "      <td>0.000648</td>\n",
              "    </tr>\n",
              "    <tr>\n",
              "      <td>200</td>\n",
              "      <td>0.000800</td>\n",
              "      <td>0.000580</td>\n",
              "    </tr>\n",
              "    <tr>\n",
              "      <td>210</td>\n",
              "      <td>0.000800</td>\n",
              "      <td>0.000512</td>\n",
              "    </tr>\n",
              "    <tr>\n",
              "      <td>220</td>\n",
              "      <td>0.000700</td>\n",
              "      <td>0.000449</td>\n",
              "    </tr>\n",
              "    <tr>\n",
              "      <td>230</td>\n",
              "      <td>0.000600</td>\n",
              "      <td>0.000401</td>\n",
              "    </tr>\n",
              "    <tr>\n",
              "      <td>240</td>\n",
              "      <td>0.000500</td>\n",
              "      <td>0.000368</td>\n",
              "    </tr>\n",
              "    <tr>\n",
              "      <td>250</td>\n",
              "      <td>0.000500</td>\n",
              "      <td>0.000327</td>\n",
              "    </tr>\n",
              "    <tr>\n",
              "      <td>260</td>\n",
              "      <td>0.000500</td>\n",
              "      <td>0.000300</td>\n",
              "    </tr>\n",
              "    <tr>\n",
              "      <td>270</td>\n",
              "      <td>0.000400</td>\n",
              "      <td>0.000275</td>\n",
              "    </tr>\n",
              "    <tr>\n",
              "      <td>280</td>\n",
              "      <td>0.000400</td>\n",
              "      <td>0.000248</td>\n",
              "    </tr>\n",
              "    <tr>\n",
              "      <td>290</td>\n",
              "      <td>0.000400</td>\n",
              "      <td>0.000230</td>\n",
              "    </tr>\n",
              "    <tr>\n",
              "      <td>300</td>\n",
              "      <td>0.000300</td>\n",
              "      <td>0.000209</td>\n",
              "    </tr>\n",
              "    <tr>\n",
              "      <td>310</td>\n",
              "      <td>0.000300</td>\n",
              "      <td>0.000194</td>\n",
              "    </tr>\n",
              "    <tr>\n",
              "      <td>320</td>\n",
              "      <td>0.000300</td>\n",
              "      <td>0.000179</td>\n",
              "    </tr>\n",
              "    <tr>\n",
              "      <td>330</td>\n",
              "      <td>0.000200</td>\n",
              "      <td>0.000169</td>\n",
              "    </tr>\n",
              "    <tr>\n",
              "      <td>340</td>\n",
              "      <td>0.000200</td>\n",
              "      <td>0.000154</td>\n",
              "    </tr>\n",
              "    <tr>\n",
              "      <td>350</td>\n",
              "      <td>0.000200</td>\n",
              "      <td>0.000146</td>\n",
              "    </tr>\n",
              "    <tr>\n",
              "      <td>360</td>\n",
              "      <td>0.000200</td>\n",
              "      <td>0.000135</td>\n",
              "    </tr>\n",
              "    <tr>\n",
              "      <td>370</td>\n",
              "      <td>0.000200</td>\n",
              "      <td>0.000125</td>\n",
              "    </tr>\n",
              "    <tr>\n",
              "      <td>380</td>\n",
              "      <td>0.000200</td>\n",
              "      <td>0.000121</td>\n",
              "    </tr>\n",
              "    <tr>\n",
              "      <td>390</td>\n",
              "      <td>0.000200</td>\n",
              "      <td>0.000110</td>\n",
              "    </tr>\n",
              "    <tr>\n",
              "      <td>400</td>\n",
              "      <td>0.000200</td>\n",
              "      <td>0.000103</td>\n",
              "    </tr>\n",
              "    <tr>\n",
              "      <td>410</td>\n",
              "      <td>0.000100</td>\n",
              "      <td>0.000098</td>\n",
              "    </tr>\n",
              "    <tr>\n",
              "      <td>420</td>\n",
              "      <td>0.000100</td>\n",
              "      <td>0.000093</td>\n",
              "    </tr>\n",
              "    <tr>\n",
              "      <td>430</td>\n",
              "      <td>0.000100</td>\n",
              "      <td>0.000087</td>\n",
              "    </tr>\n",
              "    <tr>\n",
              "      <td>440</td>\n",
              "      <td>0.000100</td>\n",
              "      <td>0.000082</td>\n",
              "    </tr>\n",
              "    <tr>\n",
              "      <td>450</td>\n",
              "      <td>0.000100</td>\n",
              "      <td>0.000078</td>\n",
              "    </tr>\n",
              "    <tr>\n",
              "      <td>460</td>\n",
              "      <td>0.000100</td>\n",
              "      <td>0.000073</td>\n",
              "    </tr>\n",
              "    <tr>\n",
              "      <td>470</td>\n",
              "      <td>0.000100</td>\n",
              "      <td>0.000069</td>\n",
              "    </tr>\n",
              "    <tr>\n",
              "      <td>480</td>\n",
              "      <td>0.000100</td>\n",
              "      <td>0.000066</td>\n",
              "    </tr>\n",
              "    <tr>\n",
              "      <td>490</td>\n",
              "      <td>0.000100</td>\n",
              "      <td>0.000062</td>\n",
              "    </tr>\n",
              "  </tbody>\n",
              "</table><p>"
            ]
          },
          "metadata": {}
        }
      ]
    },
    {
      "cell_type": "code",
      "source": [
        "import matplotlib.pyplot as plt\n",
        "\n",
        "# Extract logs\n",
        "log_history = trainer.state.log_history\n",
        "\n",
        "# Extract loss and accuracy\n",
        "train_losses = [entry['loss'] for entry in log_history if 'loss' in entry]\n",
        "eval_losses = [entry['eval_loss'] for entry in log_history if 'eval_loss' in entry]\n",
        "eval_accuracies = [entry['eval_accuracy'] for entry in log_history if 'eval_accuracy' in entry]\n",
        "\n",
        "# Plot Training and Validation Loss\n",
        "plt.figure(figsize=(12, 6))\n",
        "plt.plot(train_losses, label='Training Loss')\n",
        "plt.plot(eval_losses, label='Validation Loss')\n",
        "plt.xlabel('Steps')\n",
        "plt.ylabel('Loss')\n",
        "plt.title('Training and Validation Loss')\n",
        "plt.legend()\n",
        "plt.show()\n"
      ],
      "metadata": {
        "colab": {
          "base_uri": "https://localhost:8080/",
          "height": 564
        },
        "id": "PqTvjHy9uJiq",
        "outputId": "6c70934c-ca0c-422a-ceab-adfc39938b6e"
      },
      "id": "PqTvjHy9uJiq",
      "execution_count": 260,
      "outputs": [
        {
          "output_type": "display_data",
          "data": {
            "text/plain": [
              "<Figure size 1200x600 with 1 Axes>"
            ],
            "image/png": "[encoded data removed]"
          },
          "metadata": {}
        }
      ]
    },
    {
      "cell_type": "code",
      "source": [
        "def tokenize_data(texts, tokenizer, max_length=128):\n",
        "    return tokenizer(texts, padding='max_length', truncation=True, max_length=max_length, return_tensors='pt')\n",
        "\n",
        "# Function to make predictions\n",
        "def predict(texts, model, tokenizer):\n",
        "    encodings = tokenize_data(texts, tokenizer)\n",
        "    inputs = {key: torch.tensor(val).to(device) for key, val in encodings.items()}\n",
        "    with torch.no_grad():\n",
        "        outputs = model(**inputs)\n",
        "    predictions = torch.argmax(outputs.logits, dim=-1)\n",
        "    return predictions\n",
        "\n",
        "new_texts = [\"I absolutely love this product!\", \"This is the worst thing I have ever bought.\", \"I hate this product\"]\n",
        "true_labels = [1, 0, 0]  # Replace with the actual labels for your test data\n",
        "predictions = predict(new_texts, model, tokenizer)\n",
        "\n",
        "# Print predictions\n",
        "print(\"Predictions:\", predictions.cpu().numpy())\n",
        "\n",
        "# Calculate accuracy\n",
        "accuracy = accuracy_score(true_labels, predictions.cpu().numpy())\n",
        "print(\"Accuracy:\", accuracy)"
      ],
      "metadata": {
        "colab": {
          "base_uri": "https://localhost:8080/"
        },
        "id": "Gru1g8oeuz02",
        "outputId": "634172ca-fd7d-45fc-b900-9d6ab5ed9676"
      },
      "id": "Gru1g8oeuz02",
      "execution_count": 262,
      "outputs": [
        {
          "output_type": "stream",
          "name": "stdout",
          "text": [
            "Predictions: [0 0 0]\n",
            "Accuracy: 0.6666666666666666\n"
          ]
        }
      ]
    }
  ],
  "metadata": {
    "kaggle": {
      "accelerator": "none",
      "dataSources": [
        {
          "datasetId": 3675955,
          "sourceId": 6378780,
          "sourceType": "datasetVersion"
        }
      ],
      "dockerImageVersionId": 30626,
      "isGpuEnabled": false,
      "isInternetEnabled": true,
      "language": "python",
      "sourceType": "notebook"
    },
    "kernelspec": {
      "display_name": "Python 3",
      "name": "python3"
    },
    "language_info": {
      "codemirror_mode": {
        "name": "ipython",
        "version": 3
      },
      "file_extension": ".py",
      "mimetype": "text/x-python",
      "name": "python",
      "nbconvert_exporter": "python",
      "pygments_lexer": "ipython3",
      "version": "3.11.7"
    },
    "papermill": {
      "default_parameters": {},
      "duration": 292.651564,
      "end_time": "2024-01-08T20:51:37.009932",
      "environment_variables": {},
      "exception": null,
      "input_path": "__notebook__.ipynb",
      "output_path": "__notebook__.ipynb",
      "parameters": {},
      "start_time": "2024-01-08T20:46:44.358368",
      "version": "2.4.0"
    },
    "colab": {
      "provenance": [],
      "gpuType": "T4"
    },
    "accelerator": "GPU"
  },
  "nbformat": 4,
  "nbformat_minor": 5
}